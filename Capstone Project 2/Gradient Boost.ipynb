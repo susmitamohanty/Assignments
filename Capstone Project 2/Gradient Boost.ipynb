{
 "cells": [
  {
   "cell_type": "markdown",
   "id": "4d126538",
   "metadata": {},
   "source": [
    "# Problem Statement\n",
    "\n",
    "For predicting, if a user will have Sarcopenia or not, we need to build 3 models.\n",
    "\n",
    "- Model 1\n",
    "    - Determine the probability that the patient has Sarcopenia based on variables available when the patient is home, such as age, weight, height, exercise, Hyper tension, DM, Education, Smoking etc. Such values can be obtained without the \n",
    "patient reporting physically to a clinic. \n",
    "    - At the end of Model1, diagnose patients with very high probability of developing Sarc as positive and very low robability of Sarc as negative. \n",
    "    - The remaining patients need further testing, so send them to the send model.\n",
    "    \n",
    "- Model 2\n",
    "    - Predict the Sarcopenia probability including CST and GSP. To measure CST, “Chair Stand Test”, a physician times a patient when she sits and stands up on a chair five times. To measure GDP, “Gait speed test”, a physician times a patient when she walks a certain distance. We are provided with these two features in the dataset. In the second model, in addition to the variables we used in the first model, we will include CST and GDP.\n",
    "\n",
    "- Model 3 \n",
    "    - Predict the Sarcopenia including ‘GRS’, Grip Strength Test. A physician measures the grp strength of a patient using a gyro hand grip. We will include GRS into our model with all the variables from Model2.\n",
    "    \n",
    "The remaining patients after Model 3 will go through ultrasound process to measure their muscle thickness, which will increase the certainty for diagnosing whether they have Sarcopenia. Our goal is, making the diagnosis as much as possible and reduce number of patients going through extra tests."
   ]
  },
  {
   "cell_type": "markdown",
   "id": "0532d4d6",
   "metadata": {},
   "source": [
    "### What is Gradient Boosting?\n",
    "\n",
    "Gradient Boosting is a popular boosting algorithm. In gradient boosting, each predictor corrects its predecessor’s error,  where each predictor is trained using the residual errors of predecessor as labels. We use Gradient to calculate derivatives to minimize residual errors. The Gradient Boosting algorithm works for both classification and regression analysis.\n",
    "\n",
    "How Gradient Boosting Works?\n",
    "The working of gradient boosting revolves around the three main elements. These are as follows:\n",
    "\n",
    "- A loss function\n",
    "\n",
    "The basic objective here is to optimize the loss function. The loss function changes with different types of problems. One can easily define their own standard loss function, but it should be differentiable.  One of the best things about gradient boosting is that with each framework a fresh boosting algorithm is not required for every loss function in question.\n",
    "\n",
    "- A weak learner\n",
    "\n",
    "Weak learners are for the purpose of making predictions. A decision tree is basically a weak learner. Specific regression trees are used for the real output values that are used for splits. We can correct the reminders in the prediction models. Purity scores such as Gini selects the best split-points, which further construct the trees.\n",
    "\n",
    "When it comes to another boosting technique called Adaboost, one uses single-spilled decision trees. In case of a higher number of levels (say 5 to 10), we can use larger trees. It is better to constrain or restrict the weak learners in using the number of leaf nodes or the number of layers or number of splits, or even the number of layers.\n",
    "\n",
    "- An additive model\n",
    "\n",
    "There are no modifications to pre-existing trees in the model, but there is the addition of a greater number of - trees at a time.\n",
    "\n",
    "At the time of adding the trees, a gradient descent procedure minimizes the losses. It minimizes the set number of parameters. In order to decrease the error, there is an updation of the weights only after calculating the error.\n",
    "\n",
    "The sub-models of weak learners take the place of parameters. After computation of the loss, we must add a tree to the model in a way that reduce losses so that we can do the gradient descent procedure. In the end, we can add the output to the sequence of trees."
   ]
  },
  {
   "cell_type": "markdown",
   "id": "abfa6a20",
   "metadata": {},
   "source": [
    "### Load the libraries"
   ]
  },
  {
   "cell_type": "code",
   "execution_count": 93,
   "id": "cda035ff",
   "metadata": {},
   "outputs": [],
   "source": [
    "import pandas as pd\n",
    "import numpy as np\n",
    "\n",
    "import warnings\n",
    "warnings.filterwarnings(\"ignore\")"
   ]
  },
  {
   "cell_type": "markdown",
   "id": "71a844a7",
   "metadata": {},
   "source": [
    "### Load the data"
   ]
  },
  {
   "cell_type": "code",
   "execution_count": 94,
   "id": "3cce94c7",
   "metadata": {},
   "outputs": [
    {
     "data": {
      "text/plain": [
       "(1042, 37)"
      ]
     },
     "execution_count": 94,
     "metadata": {},
     "output_type": "execute_result"
    }
   ],
   "source": [
    "import copy\n",
    "df_X_train=pd.read_csv(\"X_train.csv\",index_col=0)\n",
    "df_X_train_copy=copy.deepcopy(df_X_train)\n",
    "df_X_train_copy.shape"
   ]
  },
  {
   "cell_type": "code",
   "execution_count": 95,
   "id": "a6227f87",
   "metadata": {},
   "outputs": [
    {
     "data": {
      "text/plain": [
       "(261, 37)"
      ]
     },
     "execution_count": 95,
     "metadata": {},
     "output_type": "execute_result"
    }
   ],
   "source": [
    "df_X_test=pd.read_csv(\"X_test.csv\",index_col=0)\n",
    "df_X_test_copy=copy.deepcopy(df_X_test)\n",
    "df_X_test_copy.shape"
   ]
  },
  {
   "cell_type": "code",
   "execution_count": 96,
   "id": "f72c667d",
   "metadata": {},
   "outputs": [
    {
     "data": {
      "text/plain": [
       "(1042, 1)"
      ]
     },
     "execution_count": 96,
     "metadata": {},
     "output_type": "execute_result"
    }
   ],
   "source": [
    "df_y_train=pd.read_csv(\"y_train.csv\")\n",
    "df_y_train.drop(['Unnamed: 0'],axis=1,inplace=True)\n",
    "df_y_train_copy = copy.deepcopy(df_y_train)\n",
    "df_y_train_copy.shape"
   ]
  },
  {
   "cell_type": "code",
   "execution_count": 97,
   "id": "3210dcad",
   "metadata": {},
   "outputs": [
    {
     "data": {
      "text/plain": [
       "(261, 1)"
      ]
     },
     "execution_count": 97,
     "metadata": {},
     "output_type": "execute_result"
    }
   ],
   "source": [
    "df_y_test=pd.read_csv(\"y_test.csv\")\n",
    "df_y_test.drop(['Unnamed: 0'],axis=1,inplace=True)\n",
    "df_y_test_copy = copy.deepcopy(df_y_test)\n",
    "df_y_test_copy.shape"
   ]
  },
  {
   "cell_type": "markdown",
   "id": "26c9302f",
   "metadata": {},
   "source": [
    "### Build the model 1 based on variables available when the patient is home"
   ]
  },
  {
   "cell_type": "code",
   "execution_count": 98,
   "id": "b8e99eeb",
   "metadata": {},
   "outputs": [
    {
     "data": {
      "text/plain": [
       "['Education_new',\n",
       " 'Occupation_new',\n",
       " 'Working Status_new',\n",
       " 'Smoking (packet/year)_new',\n",
       " 'Age',\n",
       " 'DM ',\n",
       " 'HT duration_new',\n",
       " 'MMSE_new',\n",
       " 'Weight_new',\n",
       " 'Height_new',\n",
       " 'Waist_new',\n",
       " 'Hip_new',\n",
       " 'Smoking_new',\n",
       " 'DM duration_new',\n",
       " 'Gender_M',\n",
       " '  Alcohol_REGULAR',\n",
       " '  Alcohol_SOCIAL',\n",
       " 'Exercise_new_1-2/WEEK',\n",
       " 'Exercise_new_3-4/WEEK']"
      ]
     },
     "execution_count": 98,
     "metadata": {},
     "output_type": "execute_result"
    }
   ],
   "source": [
    "#all columns avaiable when patient is at home\n",
    "cols =  ['Education_new','Occupation_new','Working Status_new', 'Smoking (packet/year)_new', 'Age', 'DM ','HT duration_new',\n",
    "'MMSE_new', 'Weight_new', 'Height_new', 'Waist_new','Hip_new', 'Smoking_new', 'DM duration_new','Gender_M', '  Alcohol_REGULAR',\n",
    "'  Alcohol_SOCIAL','Exercise_new_1-2/WEEK', 'Exercise_new_3-4/WEEK']\n",
    "cols"
   ]
  },
  {
   "cell_type": "code",
   "execution_count": 99,
   "id": "e58470fc",
   "metadata": {},
   "outputs": [
    {
     "data": {
      "text/plain": [
       "(1042, 19)"
      ]
     },
     "execution_count": 99,
     "metadata": {},
     "output_type": "execute_result"
    }
   ],
   "source": [
    "X_train= df_X_train_copy[cols]\n",
    "X_train.shape"
   ]
  },
  {
   "cell_type": "code",
   "execution_count": 100,
   "id": "a56d9ee2",
   "metadata": {},
   "outputs": [
    {
     "data": {
      "text/plain": [
       "(261, 19)"
      ]
     },
     "execution_count": 100,
     "metadata": {},
     "output_type": "execute_result"
    }
   ],
   "source": [
    "X_test= df_X_test_copy[cols]\n",
    "X_test.shape"
   ]
  },
  {
   "cell_type": "code",
   "execution_count": 101,
   "id": "11394ced",
   "metadata": {},
   "outputs": [
    {
     "data": {
      "text/plain": [
       "(1042, 1)"
      ]
     },
     "execution_count": 101,
     "metadata": {},
     "output_type": "execute_result"
    }
   ],
   "source": [
    "y_train =df_y_train_copy\n",
    "y_train.shape"
   ]
  },
  {
   "cell_type": "code",
   "execution_count": 102,
   "id": "e5711e40",
   "metadata": {},
   "outputs": [
    {
     "data": {
      "text/plain": [
       "(261, 1)"
      ]
     },
     "execution_count": 102,
     "metadata": {},
     "output_type": "execute_result"
    }
   ],
   "source": [
    "y_test =df_y_test_copy\n",
    "y_test.shape"
   ]
  },
  {
   "cell_type": "markdown",
   "id": "66748541",
   "metadata": {},
   "source": [
    "##### Create the model"
   ]
  },
  {
   "cell_type": "code",
   "execution_count": 103,
   "id": "1bc3519e",
   "metadata": {},
   "outputs": [
    {
     "data": {
      "text/html": [
       "<style>#sk-container-id-8 {color: black;background-color: white;}#sk-container-id-8 pre{padding: 0;}#sk-container-id-8 div.sk-toggleable {background-color: white;}#sk-container-id-8 label.sk-toggleable__label {cursor: pointer;display: block;width: 100%;margin-bottom: 0;padding: 0.3em;box-sizing: border-box;text-align: center;}#sk-container-id-8 label.sk-toggleable__label-arrow:before {content: \"▸\";float: left;margin-right: 0.25em;color: #696969;}#sk-container-id-8 label.sk-toggleable__label-arrow:hover:before {color: black;}#sk-container-id-8 div.sk-estimator:hover label.sk-toggleable__label-arrow:before {color: black;}#sk-container-id-8 div.sk-toggleable__content {max-height: 0;max-width: 0;overflow: hidden;text-align: left;background-color: #f0f8ff;}#sk-container-id-8 div.sk-toggleable__content pre {margin: 0.2em;color: black;border-radius: 0.25em;background-color: #f0f8ff;}#sk-container-id-8 input.sk-toggleable__control:checked~div.sk-toggleable__content {max-height: 200px;max-width: 100%;overflow: auto;}#sk-container-id-8 input.sk-toggleable__control:checked~label.sk-toggleable__label-arrow:before {content: \"▾\";}#sk-container-id-8 div.sk-estimator input.sk-toggleable__control:checked~label.sk-toggleable__label {background-color: #d4ebff;}#sk-container-id-8 div.sk-label input.sk-toggleable__control:checked~label.sk-toggleable__label {background-color: #d4ebff;}#sk-container-id-8 input.sk-hidden--visually {border: 0;clip: rect(1px 1px 1px 1px);clip: rect(1px, 1px, 1px, 1px);height: 1px;margin: -1px;overflow: hidden;padding: 0;position: absolute;width: 1px;}#sk-container-id-8 div.sk-estimator {font-family: monospace;background-color: #f0f8ff;border: 1px dotted black;border-radius: 0.25em;box-sizing: border-box;margin-bottom: 0.5em;}#sk-container-id-8 div.sk-estimator:hover {background-color: #d4ebff;}#sk-container-id-8 div.sk-parallel-item::after {content: \"\";width: 100%;border-bottom: 1px solid gray;flex-grow: 1;}#sk-container-id-8 div.sk-label:hover label.sk-toggleable__label {background-color: #d4ebff;}#sk-container-id-8 div.sk-serial::before {content: \"\";position: absolute;border-left: 1px solid gray;box-sizing: border-box;top: 0;bottom: 0;left: 50%;z-index: 0;}#sk-container-id-8 div.sk-serial {display: flex;flex-direction: column;align-items: center;background-color: white;padding-right: 0.2em;padding-left: 0.2em;position: relative;}#sk-container-id-8 div.sk-item {position: relative;z-index: 1;}#sk-container-id-8 div.sk-parallel {display: flex;align-items: stretch;justify-content: center;background-color: white;position: relative;}#sk-container-id-8 div.sk-item::before, #sk-container-id-8 div.sk-parallel-item::before {content: \"\";position: absolute;border-left: 1px solid gray;box-sizing: border-box;top: 0;bottom: 0;left: 50%;z-index: -1;}#sk-container-id-8 div.sk-parallel-item {display: flex;flex-direction: column;z-index: 1;position: relative;background-color: white;}#sk-container-id-8 div.sk-parallel-item:first-child::after {align-self: flex-end;width: 50%;}#sk-container-id-8 div.sk-parallel-item:last-child::after {align-self: flex-start;width: 50%;}#sk-container-id-8 div.sk-parallel-item:only-child::after {width: 0;}#sk-container-id-8 div.sk-dashed-wrapped {border: 1px dashed gray;margin: 0 0.4em 0.5em 0.4em;box-sizing: border-box;padding-bottom: 0.4em;background-color: white;}#sk-container-id-8 div.sk-label label {font-family: monospace;font-weight: bold;display: inline-block;line-height: 1.2em;}#sk-container-id-8 div.sk-label-container {text-align: center;}#sk-container-id-8 div.sk-container {/* jupyter's `normalize.less` sets `[hidden] { display: none; }` but bootstrap.min.css set `[hidden] { display: none !important; }` so we also need the `!important` here to be able to override the default hidden behavior on the sphinx rendered scikit-learn.org. See: https://github.com/scikit-learn/scikit-learn/issues/21755 */display: inline-block !important;position: relative;}#sk-container-id-8 div.sk-text-repr-fallback {display: none;}</style><div id=\"sk-container-id-8\" class=\"sk-top-container\"><div class=\"sk-text-repr-fallback\"><pre>GradientBoostingClassifier(max_features=5, random_state=100)</pre><b>In a Jupyter environment, please rerun this cell to show the HTML representation or trust the notebook. <br />On GitHub, the HTML representation is unable to render, please try loading this page with nbviewer.org.</b></div><div class=\"sk-container\" hidden><div class=\"sk-item\"><div class=\"sk-estimator sk-toggleable\"><input class=\"sk-toggleable__control sk-hidden--visually\" id=\"sk-estimator-id-8\" type=\"checkbox\" checked><label for=\"sk-estimator-id-8\" class=\"sk-toggleable__label sk-toggleable__label-arrow\">GradientBoostingClassifier</label><div class=\"sk-toggleable__content\"><pre>GradientBoostingClassifier(max_features=5, random_state=100)</pre></div></div></div></div></div>"
      ],
      "text/plain": [
       "GradientBoostingClassifier(max_features=5, random_state=100)"
      ]
     },
     "execution_count": 103,
     "metadata": {},
     "output_type": "execute_result"
    }
   ],
   "source": [
    "from sklearn.ensemble import GradientBoostingClassifier\n",
    "\n",
    "gb1 = GradientBoostingClassifier(\n",
    "                                loss='log_loss',#loss function to be optimized\n",
    "                                learning_rate=0.1,#shrinks the contribution of each tree by `learning_rate`\n",
    "                                n_estimators=100,#number of boosting stages to perform\n",
    "                                subsample=1.0,#fraction of samples to be used for fitting the individual base learners.\n",
    "                                random_state=100,\n",
    "                                max_features=5#number of features to consider when looking for the best split \n",
    "                               )\n",
    "\n",
    "\n",
    "gb1\n"
   ]
  },
  {
   "cell_type": "markdown",
   "id": "18e98ba7",
   "metadata": {},
   "source": [
    "##### Fit or train the model"
   ]
  },
  {
   "cell_type": "code",
   "execution_count": 104,
   "id": "ce384dbf",
   "metadata": {},
   "outputs": [
    {
     "data": {
      "text/html": [
       "<style>#sk-container-id-9 {color: black;background-color: white;}#sk-container-id-9 pre{padding: 0;}#sk-container-id-9 div.sk-toggleable {background-color: white;}#sk-container-id-9 label.sk-toggleable__label {cursor: pointer;display: block;width: 100%;margin-bottom: 0;padding: 0.3em;box-sizing: border-box;text-align: center;}#sk-container-id-9 label.sk-toggleable__label-arrow:before {content: \"▸\";float: left;margin-right: 0.25em;color: #696969;}#sk-container-id-9 label.sk-toggleable__label-arrow:hover:before {color: black;}#sk-container-id-9 div.sk-estimator:hover label.sk-toggleable__label-arrow:before {color: black;}#sk-container-id-9 div.sk-toggleable__content {max-height: 0;max-width: 0;overflow: hidden;text-align: left;background-color: #f0f8ff;}#sk-container-id-9 div.sk-toggleable__content pre {margin: 0.2em;color: black;border-radius: 0.25em;background-color: #f0f8ff;}#sk-container-id-9 input.sk-toggleable__control:checked~div.sk-toggleable__content {max-height: 200px;max-width: 100%;overflow: auto;}#sk-container-id-9 input.sk-toggleable__control:checked~label.sk-toggleable__label-arrow:before {content: \"▾\";}#sk-container-id-9 div.sk-estimator input.sk-toggleable__control:checked~label.sk-toggleable__label {background-color: #d4ebff;}#sk-container-id-9 div.sk-label input.sk-toggleable__control:checked~label.sk-toggleable__label {background-color: #d4ebff;}#sk-container-id-9 input.sk-hidden--visually {border: 0;clip: rect(1px 1px 1px 1px);clip: rect(1px, 1px, 1px, 1px);height: 1px;margin: -1px;overflow: hidden;padding: 0;position: absolute;width: 1px;}#sk-container-id-9 div.sk-estimator {font-family: monospace;background-color: #f0f8ff;border: 1px dotted black;border-radius: 0.25em;box-sizing: border-box;margin-bottom: 0.5em;}#sk-container-id-9 div.sk-estimator:hover {background-color: #d4ebff;}#sk-container-id-9 div.sk-parallel-item::after {content: \"\";width: 100%;border-bottom: 1px solid gray;flex-grow: 1;}#sk-container-id-9 div.sk-label:hover label.sk-toggleable__label {background-color: #d4ebff;}#sk-container-id-9 div.sk-serial::before {content: \"\";position: absolute;border-left: 1px solid gray;box-sizing: border-box;top: 0;bottom: 0;left: 50%;z-index: 0;}#sk-container-id-9 div.sk-serial {display: flex;flex-direction: column;align-items: center;background-color: white;padding-right: 0.2em;padding-left: 0.2em;position: relative;}#sk-container-id-9 div.sk-item {position: relative;z-index: 1;}#sk-container-id-9 div.sk-parallel {display: flex;align-items: stretch;justify-content: center;background-color: white;position: relative;}#sk-container-id-9 div.sk-item::before, #sk-container-id-9 div.sk-parallel-item::before {content: \"\";position: absolute;border-left: 1px solid gray;box-sizing: border-box;top: 0;bottom: 0;left: 50%;z-index: -1;}#sk-container-id-9 div.sk-parallel-item {display: flex;flex-direction: column;z-index: 1;position: relative;background-color: white;}#sk-container-id-9 div.sk-parallel-item:first-child::after {align-self: flex-end;width: 50%;}#sk-container-id-9 div.sk-parallel-item:last-child::after {align-self: flex-start;width: 50%;}#sk-container-id-9 div.sk-parallel-item:only-child::after {width: 0;}#sk-container-id-9 div.sk-dashed-wrapped {border: 1px dashed gray;margin: 0 0.4em 0.5em 0.4em;box-sizing: border-box;padding-bottom: 0.4em;background-color: white;}#sk-container-id-9 div.sk-label label {font-family: monospace;font-weight: bold;display: inline-block;line-height: 1.2em;}#sk-container-id-9 div.sk-label-container {text-align: center;}#sk-container-id-9 div.sk-container {/* jupyter's `normalize.less` sets `[hidden] { display: none; }` but bootstrap.min.css set `[hidden] { display: none !important; }` so we also need the `!important` here to be able to override the default hidden behavior on the sphinx rendered scikit-learn.org. See: https://github.com/scikit-learn/scikit-learn/issues/21755 */display: inline-block !important;position: relative;}#sk-container-id-9 div.sk-text-repr-fallback {display: none;}</style><div id=\"sk-container-id-9\" class=\"sk-top-container\"><div class=\"sk-text-repr-fallback\"><pre>GradientBoostingClassifier(max_features=5, random_state=100)</pre><b>In a Jupyter environment, please rerun this cell to show the HTML representation or trust the notebook. <br />On GitHub, the HTML representation is unable to render, please try loading this page with nbviewer.org.</b></div><div class=\"sk-container\" hidden><div class=\"sk-item\"><div class=\"sk-estimator sk-toggleable\"><input class=\"sk-toggleable__control sk-hidden--visually\" id=\"sk-estimator-id-9\" type=\"checkbox\" checked><label for=\"sk-estimator-id-9\" class=\"sk-toggleable__label sk-toggleable__label-arrow\">GradientBoostingClassifier</label><div class=\"sk-toggleable__content\"><pre>GradientBoostingClassifier(max_features=5, random_state=100)</pre></div></div></div></div></div>"
      ],
      "text/plain": [
       "GradientBoostingClassifier(max_features=5, random_state=100)"
      ]
     },
     "execution_count": 104,
     "metadata": {},
     "output_type": "execute_result"
    }
   ],
   "source": [
    "gb1.fit(X_train,y_train.values.ravel())"
   ]
  },
  {
   "cell_type": "markdown",
   "id": "bac62b7d",
   "metadata": {},
   "source": [
    "##### Make predictions on test data"
   ]
  },
  {
   "cell_type": "code",
   "execution_count": 105,
   "id": "32b772b3",
   "metadata": {},
   "outputs": [
    {
     "data": {
      "text/plain": [
       "array([0, 0, 0, 0, 0, 1, 0, 0, 0, 0, 0, 0, 0, 0, 0, 0, 0, 0, 0, 0, 0, 0,\n",
       "       0, 0, 0, 0, 1, 0, 0, 0, 0, 0, 0, 0, 0, 0, 0, 0, 0, 0, 0, 1, 0, 0,\n",
       "       0, 0, 0, 0, 0, 0, 0, 0, 0, 1, 0, 0, 0, 0, 0, 0, 0, 0, 0, 0, 0, 0,\n",
       "       0, 0, 0, 0, 0, 0, 0, 0, 0, 0, 0, 0, 0, 1, 0, 0, 0, 0, 0, 0, 0, 0,\n",
       "       0, 0, 0, 0, 0, 0, 0, 0, 0, 0, 0, 1, 0, 0, 0, 0, 0, 0, 0, 0, 0, 0,\n",
       "       0, 0, 0, 0, 0, 0, 0, 0, 0, 0, 0, 0, 0, 0, 0, 0, 0, 0, 0, 0, 0, 0,\n",
       "       0, 0, 0, 0, 0, 0, 0, 0, 0, 0, 0, 0, 1, 0, 0, 0, 1, 0, 0, 0, 0, 0,\n",
       "       0, 0, 0, 0, 0, 0, 0, 0, 0, 0, 0, 0, 0, 0, 0, 0, 0, 0, 0, 0, 0, 0,\n",
       "       0, 0, 0, 0, 0, 0, 0, 0, 1, 0, 0, 0, 0, 0, 0, 0, 0, 0, 0, 1, 1, 0,\n",
       "       0, 0, 0, 1, 0, 0, 0, 0, 0, 0, 0, 1, 0, 0, 0, 0, 0, 1, 1, 0, 0, 0,\n",
       "       1, 0, 0, 0, 0, 1, 0, 0, 0, 0, 0, 0, 0, 0, 0, 1, 0, 0, 0, 0, 0, 0,\n",
       "       0, 0, 0, 0, 0, 0, 0, 0, 0, 0, 0, 0, 0, 0, 0, 0, 1, 0, 0],\n",
       "      dtype=int64)"
      ]
     },
     "execution_count": 105,
     "metadata": {},
     "output_type": "execute_result"
    }
   ],
   "source": [
    "y_pred_gb1 = gb1.predict(X_test)\n",
    "y_pred_gb1"
   ]
  },
  {
   "cell_type": "code",
   "execution_count": 106,
   "id": "23786e63",
   "metadata": {},
   "outputs": [
    {
     "data": {
      "text/plain": [
       "0.8045977011494253"
      ]
     },
     "execution_count": 106,
     "metadata": {},
     "output_type": "execute_result"
    }
   ],
   "source": [
    "from sklearn.metrics import accuracy_score\n",
    "acc = accuracy_score(y_pred_gb1, y_test)\n",
    "acc"
   ]
  },
  {
   "cell_type": "code",
   "execution_count": 107,
   "id": "299251fc",
   "metadata": {},
   "outputs": [
    {
     "data": {
      "text/plain": [
       "array([[0.96979144, 0.03020856],\n",
       "       [0.97913395, 0.02086605],\n",
       "       [0.87955601, 0.12044399],\n",
       "       ...,\n",
       "       [0.25105301, 0.74894699],\n",
       "       [0.9592269 , 0.0407731 ],\n",
       "       [0.87701674, 0.12298326]])"
      ]
     },
     "execution_count": 107,
     "metadata": {},
     "output_type": "execute_result"
    }
   ],
   "source": [
    "X_train_proba = gb1.predict_proba(X_train)\n",
    "X_train_proba[:,:]"
   ]
  },
  {
   "cell_type": "code",
   "execution_count": 108,
   "id": "e9d64235",
   "metadata": {},
   "outputs": [
    {
     "data": {
      "text/plain": [
       "array([[0.9868165 , 0.0131835 ],\n",
       "       [0.63959886, 0.36040114],\n",
       "       [0.60060306, 0.39939694],\n",
       "       [0.95100923, 0.04899077],\n",
       "       [0.92382312, 0.07617688],\n",
       "       [0.46536206, 0.53463794],\n",
       "       [0.95564293, 0.04435707],\n",
       "       [0.9452593 , 0.0547407 ],\n",
       "       [0.76227223, 0.23772777],\n",
       "       [0.92587406, 0.07412594],\n",
       "       [0.90007749, 0.09992251],\n",
       "       [0.87646595, 0.12353405],\n",
       "       [0.90584862, 0.09415138],\n",
       "       [0.64415602, 0.35584398],\n",
       "       [0.84663219, 0.15336781],\n",
       "       [0.95611849, 0.04388151],\n",
       "       [0.9168701 , 0.0831299 ],\n",
       "       [0.88733455, 0.11266545],\n",
       "       [0.81205692, 0.18794308],\n",
       "       [0.9438236 , 0.0561764 ],\n",
       "       [0.95284664, 0.04715336],\n",
       "       [0.59250258, 0.40749742],\n",
       "       [0.81927953, 0.18072047],\n",
       "       [0.92031   , 0.07969   ],\n",
       "       [0.91503157, 0.08496843],\n",
       "       [0.9422275 , 0.0577725 ],\n",
       "       [0.25286985, 0.74713015],\n",
       "       [0.79095043, 0.20904957],\n",
       "       [0.96451573, 0.03548427],\n",
       "       [0.88374942, 0.11625058],\n",
       "       [0.95535181, 0.04464819],\n",
       "       [0.64295172, 0.35704828],\n",
       "       [0.96530765, 0.03469235],\n",
       "       [0.93215562, 0.06784438],\n",
       "       [0.57849781, 0.42150219],\n",
       "       [0.6926661 , 0.3073339 ],\n",
       "       [0.94450026, 0.05549974],\n",
       "       [0.9188285 , 0.0811715 ],\n",
       "       [0.97042688, 0.02957312],\n",
       "       [0.97225458, 0.02774542],\n",
       "       [0.52272662, 0.47727338],\n",
       "       [0.2976186 , 0.7023814 ],\n",
       "       [0.7805009 , 0.2194991 ],\n",
       "       [0.97260347, 0.02739653],\n",
       "       [0.79868083, 0.20131917],\n",
       "       [0.59368718, 0.40631282],\n",
       "       [0.83382406, 0.16617594],\n",
       "       [0.86361928, 0.13638072],\n",
       "       [0.92873214, 0.07126786],\n",
       "       [0.83856229, 0.16143771],\n",
       "       [0.95949368, 0.04050632],\n",
       "       [0.94648961, 0.05351039],\n",
       "       [0.84180837, 0.15819163],\n",
       "       [0.27440123, 0.72559877],\n",
       "       [0.81513268, 0.18486732],\n",
       "       [0.88726155, 0.11273845],\n",
       "       [0.93590457, 0.06409543],\n",
       "       [0.93430388, 0.06569612],\n",
       "       [0.77962113, 0.22037887],\n",
       "       [0.87828933, 0.12171067],\n",
       "       [0.82844952, 0.17155048],\n",
       "       [0.92933158, 0.07066842],\n",
       "       [0.96117164, 0.03882836],\n",
       "       [0.51376967, 0.48623033],\n",
       "       [0.60992818, 0.39007182],\n",
       "       [0.84630973, 0.15369027],\n",
       "       [0.87635312, 0.12364688],\n",
       "       [0.95620907, 0.04379093],\n",
       "       [0.9272877 , 0.0727123 ],\n",
       "       [0.90593778, 0.09406222],\n",
       "       [0.89343235, 0.10656765],\n",
       "       [0.70970669, 0.29029331],\n",
       "       [0.97490861, 0.02509139],\n",
       "       [0.50221795, 0.49778205],\n",
       "       [0.78712392, 0.21287608],\n",
       "       [0.79375234, 0.20624766],\n",
       "       [0.9367945 , 0.0632055 ],\n",
       "       [0.72900165, 0.27099835],\n",
       "       [0.93673488, 0.06326512],\n",
       "       [0.2436476 , 0.7563524 ],\n",
       "       [0.92083841, 0.07916159],\n",
       "       [0.9537531 , 0.0462469 ],\n",
       "       [0.71840833, 0.28159167],\n",
       "       [0.96729226, 0.03270774],\n",
       "       [0.98938002, 0.01061998],\n",
       "       [0.88819763, 0.11180237],\n",
       "       [0.6789607 , 0.3210393 ],\n",
       "       [0.96589487, 0.03410513],\n",
       "       [0.96553502, 0.03446498],\n",
       "       [0.93672416, 0.06327584],\n",
       "       [0.96154377, 0.03845623],\n",
       "       [0.83242343, 0.16757657],\n",
       "       [0.97765096, 0.02234904],\n",
       "       [0.94997917, 0.05002083],\n",
       "       [0.82492419, 0.17507581],\n",
       "       [0.89304274, 0.10695726],\n",
       "       [0.87483747, 0.12516253],\n",
       "       [0.93876878, 0.06123122],\n",
       "       [0.75519247, 0.24480753],\n",
       "       [0.43055447, 0.56944553],\n",
       "       [0.98120607, 0.01879393],\n",
       "       [0.91338319, 0.08661681],\n",
       "       [0.50149866, 0.49850134],\n",
       "       [0.95676248, 0.04323752],\n",
       "       [0.95861573, 0.04138427],\n",
       "       [0.90251085, 0.09748915],\n",
       "       [0.94511301, 0.05488699],\n",
       "       [0.76572612, 0.23427388],\n",
       "       [0.95879038, 0.04120962],\n",
       "       [0.54836334, 0.45163666],\n",
       "       [0.90546231, 0.09453769],\n",
       "       [0.59662837, 0.40337163],\n",
       "       [0.95106689, 0.04893311],\n",
       "       [0.78590467, 0.21409533],\n",
       "       [0.97815027, 0.02184973],\n",
       "       [0.66559028, 0.33440972],\n",
       "       [0.93891329, 0.06108671],\n",
       "       [0.73110317, 0.26889683],\n",
       "       [0.97301447, 0.02698553],\n",
       "       [0.77761615, 0.22238385],\n",
       "       [0.76583186, 0.23416814],\n",
       "       [0.85492519, 0.14507481],\n",
       "       [0.75831364, 0.24168636],\n",
       "       [0.60436354, 0.39563646],\n",
       "       [0.94545019, 0.05454981],\n",
       "       [0.96305993, 0.03694007],\n",
       "       [0.98428536, 0.01571464],\n",
       "       [0.55068236, 0.44931764],\n",
       "       [0.6412374 , 0.3587626 ],\n",
       "       [0.70796766, 0.29203234],\n",
       "       [0.96549599, 0.03450401],\n",
       "       [0.9859925 , 0.0140075 ],\n",
       "       [0.96499277, 0.03500723],\n",
       "       [0.93939839, 0.06060161],\n",
       "       [0.96577512, 0.03422488],\n",
       "       [0.96284175, 0.03715825],\n",
       "       [0.91858845, 0.08141155],\n",
       "       [0.9804022 , 0.0195978 ],\n",
       "       [0.96354747, 0.03645253],\n",
       "       [0.84233453, 0.15766547],\n",
       "       [0.95367041, 0.04632959],\n",
       "       [0.64233046, 0.35766954],\n",
       "       [0.97399743, 0.02600257],\n",
       "       [0.91285563, 0.08714437],\n",
       "       [0.33952105, 0.66047895],\n",
       "       [0.81436568, 0.18563432],\n",
       "       [0.77522785, 0.22477215],\n",
       "       [0.95316819, 0.04683181],\n",
       "       [0.41755386, 0.58244614],\n",
       "       [0.97181323, 0.02818677],\n",
       "       [0.94903875, 0.05096125],\n",
       "       [0.90796593, 0.09203407],\n",
       "       [0.97209733, 0.02790267],\n",
       "       [0.83289248, 0.16710752],\n",
       "       [0.89543957, 0.10456043],\n",
       "       [0.92426739, 0.07573261],\n",
       "       [0.98286125, 0.01713875],\n",
       "       [0.87716938, 0.12283062],\n",
       "       [0.82683607, 0.17316393],\n",
       "       [0.9586536 , 0.0413464 ],\n",
       "       [0.94220601, 0.05779399],\n",
       "       [0.82581179, 0.17418821],\n",
       "       [0.65064032, 0.34935968],\n",
       "       [0.91377318, 0.08622682],\n",
       "       [0.93303861, 0.06696139],\n",
       "       [0.98234481, 0.01765519],\n",
       "       [0.95963543, 0.04036457],\n",
       "       [0.80031716, 0.19968284],\n",
       "       [0.56636599, 0.43363401],\n",
       "       [0.96035338, 0.03964662],\n",
       "       [0.84704793, 0.15295207],\n",
       "       [0.89671719, 0.10328281],\n",
       "       [0.97760618, 0.02239382],\n",
       "       [0.76302073, 0.23697927],\n",
       "       [0.80892706, 0.19107294],\n",
       "       [0.82232808, 0.17767192],\n",
       "       [0.75581339, 0.24418661],\n",
       "       [0.92911379, 0.07088621],\n",
       "       [0.71305707, 0.28694293],\n",
       "       [0.97267597, 0.02732403],\n",
       "       [0.86870777, 0.13129223],\n",
       "       [0.94100835, 0.05899165],\n",
       "       [0.55328413, 0.44671587],\n",
       "       [0.93919604, 0.06080396],\n",
       "       [0.47637707, 0.52362293],\n",
       "       [0.89549227, 0.10450773],\n",
       "       [0.85358851, 0.14641149],\n",
       "       [0.97262384, 0.02737616],\n",
       "       [0.89746663, 0.10253337],\n",
       "       [0.8780783 , 0.1219217 ],\n",
       "       [0.83358634, 0.16641366],\n",
       "       [0.9618962 , 0.0381038 ],\n",
       "       [0.9834349 , 0.0165651 ],\n",
       "       [0.89945224, 0.10054776],\n",
       "       [0.94152739, 0.05847261],\n",
       "       [0.43077773, 0.56922227],\n",
       "       [0.44830225, 0.55169775],\n",
       "       [0.66729971, 0.33270029],\n",
       "       [0.96138671, 0.03861329],\n",
       "       [0.91209661, 0.08790339],\n",
       "       [0.84887915, 0.15112085],\n",
       "       [0.37404526, 0.62595474],\n",
       "       [0.78311869, 0.21688131],\n",
       "       [0.87664868, 0.12335132],\n",
       "       [0.88496376, 0.11503624],\n",
       "       [0.74375627, 0.25624373],\n",
       "       [0.87442322, 0.12557678],\n",
       "       [0.90826983, 0.09173017],\n",
       "       [0.88601004, 0.11398996],\n",
       "       [0.37743233, 0.62256767],\n",
       "       [0.96442573, 0.03557427],\n",
       "       [0.95972378, 0.04027622],\n",
       "       [0.70467827, 0.29532173],\n",
       "       [0.8991298 , 0.1008702 ],\n",
       "       [0.85520723, 0.14479277],\n",
       "       [0.4412739 , 0.5587261 ],\n",
       "       [0.127914  , 0.872086  ],\n",
       "       [0.79526582, 0.20473418],\n",
       "       [0.95240499, 0.04759501],\n",
       "       [0.97916761, 0.02083239],\n",
       "       [0.46211902, 0.53788098],\n",
       "       [0.94336085, 0.05663915],\n",
       "       [0.87815972, 0.12184028],\n",
       "       [0.91077643, 0.08922357],\n",
       "       [0.94500105, 0.05499895],\n",
       "       [0.35728326, 0.64271674],\n",
       "       [0.9811922 , 0.0188078 ],\n",
       "       [0.96357908, 0.03642092],\n",
       "       [0.80086152, 0.19913848],\n",
       "       [0.96404075, 0.03595925],\n",
       "       [0.87754072, 0.12245928],\n",
       "       [0.71819803, 0.28180197],\n",
       "       [0.71600457, 0.28399543],\n",
       "       [0.91729662, 0.08270338],\n",
       "       [0.61502791, 0.38497209],\n",
       "       [0.41880672, 0.58119328],\n",
       "       [0.95329664, 0.04670336],\n",
       "       [0.88415239, 0.11584761],\n",
       "       [0.98416119, 0.01583881],\n",
       "       [0.59345559, 0.40654441],\n",
       "       [0.90872396, 0.09127604],\n",
       "       [0.84822934, 0.15177066],\n",
       "       [0.97255549, 0.02744451],\n",
       "       [0.92058389, 0.07941611],\n",
       "       [0.90396285, 0.09603715],\n",
       "       [0.92992034, 0.07007966],\n",
       "       [0.96655673, 0.03344327],\n",
       "       [0.88265392, 0.11734608],\n",
       "       [0.96419377, 0.03580623],\n",
       "       [0.83383207, 0.16616793],\n",
       "       [0.74032032, 0.25967968],\n",
       "       [0.85616635, 0.14383365],\n",
       "       [0.90527175, 0.09472825],\n",
       "       [0.70382008, 0.29617992],\n",
       "       [0.93747666, 0.06252334],\n",
       "       [0.94198162, 0.05801838],\n",
       "       [0.63977276, 0.36022724],\n",
       "       [0.68045344, 0.31954656],\n",
       "       [0.49287624, 0.50712376],\n",
       "       [0.92658287, 0.07341713],\n",
       "       [0.51408052, 0.48591948]])"
      ]
     },
     "execution_count": 108,
     "metadata": {},
     "output_type": "execute_result"
    }
   ],
   "source": [
    "X_test_proba = gb1.predict_proba(X_test)\n",
    "X_test_proba[:,:]"
   ]
  },
  {
   "cell_type": "code",
   "execution_count": 109,
   "id": "0ca9e6c2",
   "metadata": {},
   "outputs": [
    {
     "data": {
      "text/html": [
       "<div>\n",
       "<style scoped>\n",
       "    .dataframe tbody tr th:only-of-type {\n",
       "        vertical-align: middle;\n",
       "    }\n",
       "\n",
       "    .dataframe tbody tr th {\n",
       "        vertical-align: top;\n",
       "    }\n",
       "\n",
       "    .dataframe thead th {\n",
       "        text-align: right;\n",
       "    }\n",
       "</style>\n",
       "<table border=\"1\" class=\"dataframe\">\n",
       "  <thead>\n",
       "    <tr style=\"text-align: right;\">\n",
       "      <th></th>\n",
       "      <th>Education_new</th>\n",
       "      <th>Occupation_new</th>\n",
       "      <th>Working Status_new</th>\n",
       "      <th>Smoking (packet/year)_new</th>\n",
       "      <th>Age</th>\n",
       "      <th>DM</th>\n",
       "      <th>HT duration_new</th>\n",
       "      <th>MMSE_new</th>\n",
       "      <th>Weight_new</th>\n",
       "      <th>Height_new</th>\n",
       "      <th>...</th>\n",
       "      <th>Hip_new</th>\n",
       "      <th>Smoking_new</th>\n",
       "      <th>DM duration_new</th>\n",
       "      <th>Gender_M</th>\n",
       "      <th>Alcohol_REGULAR</th>\n",
       "      <th>Alcohol_SOCIAL</th>\n",
       "      <th>Exercise_new_1-2/WEEK</th>\n",
       "      <th>Exercise_new_3-4/WEEK</th>\n",
       "      <th>Prob_0</th>\n",
       "      <th>Prob_1</th>\n",
       "    </tr>\n",
       "  </thead>\n",
       "  <tbody>\n",
       "    <tr>\n",
       "      <th>0</th>\n",
       "      <td>0.8125</td>\n",
       "      <td>0.423645</td>\n",
       "      <td>0.448276</td>\n",
       "      <td>0.000000</td>\n",
       "      <td>0.177778</td>\n",
       "      <td>0.0</td>\n",
       "      <td>0.16</td>\n",
       "      <td>0.379926</td>\n",
       "      <td>0.430769</td>\n",
       "      <td>0.785714</td>\n",
       "      <td>...</td>\n",
       "      <td>0.333333</td>\n",
       "      <td>0.0</td>\n",
       "      <td>0.0</td>\n",
       "      <td>1.0</td>\n",
       "      <td>0.0</td>\n",
       "      <td>0.0</td>\n",
       "      <td>1.0</td>\n",
       "      <td>0.0</td>\n",
       "      <td>0.969791</td>\n",
       "      <td>0.030209</td>\n",
       "    </tr>\n",
       "    <tr>\n",
       "      <th>1</th>\n",
       "      <td>0.8125</td>\n",
       "      <td>0.689655</td>\n",
       "      <td>0.793103</td>\n",
       "      <td>0.000000</td>\n",
       "      <td>0.022222</td>\n",
       "      <td>0.0</td>\n",
       "      <td>0.00</td>\n",
       "      <td>0.379926</td>\n",
       "      <td>0.692308</td>\n",
       "      <td>0.476190</td>\n",
       "      <td>...</td>\n",
       "      <td>0.425926</td>\n",
       "      <td>0.0</td>\n",
       "      <td>0.0</td>\n",
       "      <td>0.0</td>\n",
       "      <td>0.0</td>\n",
       "      <td>0.0</td>\n",
       "      <td>0.0</td>\n",
       "      <td>0.0</td>\n",
       "      <td>0.979134</td>\n",
       "      <td>0.020866</td>\n",
       "    </tr>\n",
       "    <tr>\n",
       "      <th>2</th>\n",
       "      <td>0.7500</td>\n",
       "      <td>0.995074</td>\n",
       "      <td>0.931034</td>\n",
       "      <td>0.637681</td>\n",
       "      <td>0.177778</td>\n",
       "      <td>0.0</td>\n",
       "      <td>0.80</td>\n",
       "      <td>0.250000</td>\n",
       "      <td>0.661538</td>\n",
       "      <td>0.571429</td>\n",
       "      <td>...</td>\n",
       "      <td>0.481481</td>\n",
       "      <td>1.0</td>\n",
       "      <td>0.0</td>\n",
       "      <td>1.0</td>\n",
       "      <td>0.0</td>\n",
       "      <td>0.0</td>\n",
       "      <td>0.0</td>\n",
       "      <td>0.0</td>\n",
       "      <td>0.879556</td>\n",
       "      <td>0.120444</td>\n",
       "    </tr>\n",
       "    <tr>\n",
       "      <th>3</th>\n",
       "      <td>0.0000</td>\n",
       "      <td>0.137931</td>\n",
       "      <td>0.724138</td>\n",
       "      <td>0.420290</td>\n",
       "      <td>0.200000</td>\n",
       "      <td>0.0</td>\n",
       "      <td>0.28</td>\n",
       "      <td>0.379926</td>\n",
       "      <td>0.584615</td>\n",
       "      <td>0.714286</td>\n",
       "      <td>...</td>\n",
       "      <td>0.611111</td>\n",
       "      <td>1.0</td>\n",
       "      <td>0.0</td>\n",
       "      <td>0.0</td>\n",
       "      <td>0.0</td>\n",
       "      <td>0.0</td>\n",
       "      <td>1.0</td>\n",
       "      <td>0.0</td>\n",
       "      <td>0.942839</td>\n",
       "      <td>0.057161</td>\n",
       "    </tr>\n",
       "    <tr>\n",
       "      <th>4</th>\n",
       "      <td>0.1250</td>\n",
       "      <td>0.960591</td>\n",
       "      <td>0.034483</td>\n",
       "      <td>0.000000</td>\n",
       "      <td>0.000000</td>\n",
       "      <td>0.0</td>\n",
       "      <td>0.01</td>\n",
       "      <td>1.000000</td>\n",
       "      <td>0.446154</td>\n",
       "      <td>0.357143</td>\n",
       "      <td>...</td>\n",
       "      <td>0.574074</td>\n",
       "      <td>0.0</td>\n",
       "      <td>0.0</td>\n",
       "      <td>0.0</td>\n",
       "      <td>0.0</td>\n",
       "      <td>0.0</td>\n",
       "      <td>0.0</td>\n",
       "      <td>0.0</td>\n",
       "      <td>0.800233</td>\n",
       "      <td>0.199767</td>\n",
       "    </tr>\n",
       "  </tbody>\n",
       "</table>\n",
       "<p>5 rows × 21 columns</p>\n",
       "</div>"
      ],
      "text/plain": [
       "   Education_new  Occupation_new  Working Status_new  \\\n",
       "0         0.8125        0.423645            0.448276   \n",
       "1         0.8125        0.689655            0.793103   \n",
       "2         0.7500        0.995074            0.931034   \n",
       "3         0.0000        0.137931            0.724138   \n",
       "4         0.1250        0.960591            0.034483   \n",
       "\n",
       "   Smoking (packet/year)_new       Age  DM   HT duration_new  MMSE_new  \\\n",
       "0                   0.000000  0.177778  0.0             0.16  0.379926   \n",
       "1                   0.000000  0.022222  0.0             0.00  0.379926   \n",
       "2                   0.637681  0.177778  0.0             0.80  0.250000   \n",
       "3                   0.420290  0.200000  0.0             0.28  0.379926   \n",
       "4                   0.000000  0.000000  0.0             0.01  1.000000   \n",
       "\n",
       "   Weight_new  Height_new  ...   Hip_new  Smoking_new  DM duration_new  \\\n",
       "0    0.430769    0.785714  ...  0.333333          0.0              0.0   \n",
       "1    0.692308    0.476190  ...  0.425926          0.0              0.0   \n",
       "2    0.661538    0.571429  ...  0.481481          1.0              0.0   \n",
       "3    0.584615    0.714286  ...  0.611111          1.0              0.0   \n",
       "4    0.446154    0.357143  ...  0.574074          0.0              0.0   \n",
       "\n",
       "   Gender_M    Alcohol_REGULAR    Alcohol_SOCIAL  Exercise_new_1-2/WEEK  \\\n",
       "0       1.0                0.0               0.0                    1.0   \n",
       "1       0.0                0.0               0.0                    0.0   \n",
       "2       1.0                0.0               0.0                    0.0   \n",
       "3       0.0                0.0               0.0                    1.0   \n",
       "4       0.0                0.0               0.0                    0.0   \n",
       "\n",
       "   Exercise_new_3-4/WEEK    Prob_0    Prob_1  \n",
       "0                    0.0  0.969791  0.030209  \n",
       "1                    0.0  0.979134  0.020866  \n",
       "2                    0.0  0.879556  0.120444  \n",
       "3                    0.0  0.942839  0.057161  \n",
       "4                    0.0  0.800233  0.199767  \n",
       "\n",
       "[5 rows x 21 columns]"
      ]
     },
     "execution_count": 109,
     "metadata": {},
     "output_type": "execute_result"
    }
   ],
   "source": [
    "X_train['Prob_0']=pd.DataFrame(X_train_proba[:,0],columns=['Prob_0'])\n",
    "X_train['Prob_1']=pd.DataFrame(X_train_proba[:,1],columns=['Prob_1'])\n",
    "X_train.head()"
   ]
  },
  {
   "cell_type": "code",
   "execution_count": 110,
   "id": "9044e988",
   "metadata": {},
   "outputs": [
    {
     "data": {
      "text/html": [
       "<div>\n",
       "<style scoped>\n",
       "    .dataframe tbody tr th:only-of-type {\n",
       "        vertical-align: middle;\n",
       "    }\n",
       "\n",
       "    .dataframe tbody tr th {\n",
       "        vertical-align: top;\n",
       "    }\n",
       "\n",
       "    .dataframe thead th {\n",
       "        text-align: right;\n",
       "    }\n",
       "</style>\n",
       "<table border=\"1\" class=\"dataframe\">\n",
       "  <thead>\n",
       "    <tr style=\"text-align: right;\">\n",
       "      <th></th>\n",
       "      <th>Education_new</th>\n",
       "      <th>Occupation_new</th>\n",
       "      <th>Working Status_new</th>\n",
       "      <th>Smoking (packet/year)_new</th>\n",
       "      <th>Age</th>\n",
       "      <th>DM</th>\n",
       "      <th>HT duration_new</th>\n",
       "      <th>MMSE_new</th>\n",
       "      <th>Weight_new</th>\n",
       "      <th>Height_new</th>\n",
       "      <th>...</th>\n",
       "      <th>Hip_new</th>\n",
       "      <th>Smoking_new</th>\n",
       "      <th>DM duration_new</th>\n",
       "      <th>Gender_M</th>\n",
       "      <th>Alcohol_REGULAR</th>\n",
       "      <th>Alcohol_SOCIAL</th>\n",
       "      <th>Exercise_new_1-2/WEEK</th>\n",
       "      <th>Exercise_new_3-4/WEEK</th>\n",
       "      <th>Prob_0</th>\n",
       "      <th>Prob_1</th>\n",
       "    </tr>\n",
       "  </thead>\n",
       "  <tbody>\n",
       "    <tr>\n",
       "      <th>0</th>\n",
       "      <td>0.0625</td>\n",
       "      <td>0.502463</td>\n",
       "      <td>0.896552</td>\n",
       "      <td>0.898551</td>\n",
       "      <td>0.000000</td>\n",
       "      <td>0.0</td>\n",
       "      <td>0.00</td>\n",
       "      <td>1.000000</td>\n",
       "      <td>0.076923</td>\n",
       "      <td>0.476190</td>\n",
       "      <td>...</td>\n",
       "      <td>0.166667</td>\n",
       "      <td>1.0</td>\n",
       "      <td>0.00</td>\n",
       "      <td>0.0</td>\n",
       "      <td>0.0</td>\n",
       "      <td>0.0</td>\n",
       "      <td>0.0</td>\n",
       "      <td>0.0</td>\n",
       "      <td>0.986817</td>\n",
       "      <td>0.013183</td>\n",
       "    </tr>\n",
       "    <tr>\n",
       "      <th>1</th>\n",
       "      <td>0.8125</td>\n",
       "      <td>0.394089</td>\n",
       "      <td>0.724138</td>\n",
       "      <td>0.724638</td>\n",
       "      <td>0.488889</td>\n",
       "      <td>0.0</td>\n",
       "      <td>0.60</td>\n",
       "      <td>0.379926</td>\n",
       "      <td>0.723077</td>\n",
       "      <td>0.571429</td>\n",
       "      <td>...</td>\n",
       "      <td>0.555556</td>\n",
       "      <td>1.0</td>\n",
       "      <td>0.00</td>\n",
       "      <td>1.0</td>\n",
       "      <td>0.0</td>\n",
       "      <td>0.0</td>\n",
       "      <td>0.0</td>\n",
       "      <td>0.0</td>\n",
       "      <td>0.639599</td>\n",
       "      <td>0.360401</td>\n",
       "    </tr>\n",
       "    <tr>\n",
       "      <th>2</th>\n",
       "      <td>0.6875</td>\n",
       "      <td>0.492611</td>\n",
       "      <td>0.724138</td>\n",
       "      <td>0.536232</td>\n",
       "      <td>0.577778</td>\n",
       "      <td>1.0</td>\n",
       "      <td>0.40</td>\n",
       "      <td>0.750000</td>\n",
       "      <td>0.692308</td>\n",
       "      <td>0.309524</td>\n",
       "      <td>...</td>\n",
       "      <td>0.962963</td>\n",
       "      <td>1.0</td>\n",
       "      <td>0.05</td>\n",
       "      <td>0.0</td>\n",
       "      <td>0.0</td>\n",
       "      <td>0.0</td>\n",
       "      <td>0.0</td>\n",
       "      <td>0.0</td>\n",
       "      <td>0.600603</td>\n",
       "      <td>0.399397</td>\n",
       "    </tr>\n",
       "    <tr>\n",
       "      <th>3</th>\n",
       "      <td>0.0000</td>\n",
       "      <td>0.009852</td>\n",
       "      <td>0.310345</td>\n",
       "      <td>0.000000</td>\n",
       "      <td>0.022222</td>\n",
       "      <td>0.0</td>\n",
       "      <td>0.36</td>\n",
       "      <td>0.379926</td>\n",
       "      <td>0.461538</td>\n",
       "      <td>0.500000</td>\n",
       "      <td>...</td>\n",
       "      <td>0.962963</td>\n",
       "      <td>0.0</td>\n",
       "      <td>0.00</td>\n",
       "      <td>0.0</td>\n",
       "      <td>0.0</td>\n",
       "      <td>0.0</td>\n",
       "      <td>0.0</td>\n",
       "      <td>0.0</td>\n",
       "      <td>0.951009</td>\n",
       "      <td>0.048991</td>\n",
       "    </tr>\n",
       "    <tr>\n",
       "      <th>4</th>\n",
       "      <td>0.7500</td>\n",
       "      <td>0.655172</td>\n",
       "      <td>0.724138</td>\n",
       "      <td>0.782609</td>\n",
       "      <td>0.311111</td>\n",
       "      <td>1.0</td>\n",
       "      <td>0.16</td>\n",
       "      <td>0.379926</td>\n",
       "      <td>0.400000</td>\n",
       "      <td>0.571429</td>\n",
       "      <td>...</td>\n",
       "      <td>0.259259</td>\n",
       "      <td>1.0</td>\n",
       "      <td>0.40</td>\n",
       "      <td>1.0</td>\n",
       "      <td>0.0</td>\n",
       "      <td>0.0</td>\n",
       "      <td>0.0</td>\n",
       "      <td>1.0</td>\n",
       "      <td>0.923823</td>\n",
       "      <td>0.076177</td>\n",
       "    </tr>\n",
       "  </tbody>\n",
       "</table>\n",
       "<p>5 rows × 21 columns</p>\n",
       "</div>"
      ],
      "text/plain": [
       "   Education_new  Occupation_new  Working Status_new  \\\n",
       "0         0.0625        0.502463            0.896552   \n",
       "1         0.8125        0.394089            0.724138   \n",
       "2         0.6875        0.492611            0.724138   \n",
       "3         0.0000        0.009852            0.310345   \n",
       "4         0.7500        0.655172            0.724138   \n",
       "\n",
       "   Smoking (packet/year)_new       Age  DM   HT duration_new  MMSE_new  \\\n",
       "0                   0.898551  0.000000  0.0             0.00  1.000000   \n",
       "1                   0.724638  0.488889  0.0             0.60  0.379926   \n",
       "2                   0.536232  0.577778  1.0             0.40  0.750000   \n",
       "3                   0.000000  0.022222  0.0             0.36  0.379926   \n",
       "4                   0.782609  0.311111  1.0             0.16  0.379926   \n",
       "\n",
       "   Weight_new  Height_new  ...   Hip_new  Smoking_new  DM duration_new  \\\n",
       "0    0.076923    0.476190  ...  0.166667          1.0             0.00   \n",
       "1    0.723077    0.571429  ...  0.555556          1.0             0.00   \n",
       "2    0.692308    0.309524  ...  0.962963          1.0             0.05   \n",
       "3    0.461538    0.500000  ...  0.962963          0.0             0.00   \n",
       "4    0.400000    0.571429  ...  0.259259          1.0             0.40   \n",
       "\n",
       "   Gender_M    Alcohol_REGULAR    Alcohol_SOCIAL  Exercise_new_1-2/WEEK  \\\n",
       "0       0.0                0.0               0.0                    0.0   \n",
       "1       1.0                0.0               0.0                    0.0   \n",
       "2       0.0                0.0               0.0                    0.0   \n",
       "3       0.0                0.0               0.0                    0.0   \n",
       "4       1.0                0.0               0.0                    0.0   \n",
       "\n",
       "   Exercise_new_3-4/WEEK    Prob_0    Prob_1  \n",
       "0                    0.0  0.986817  0.013183  \n",
       "1                    0.0  0.639599  0.360401  \n",
       "2                    0.0  0.600603  0.399397  \n",
       "3                    0.0  0.951009  0.048991  \n",
       "4                    1.0  0.923823  0.076177  \n",
       "\n",
       "[5 rows x 21 columns]"
      ]
     },
     "execution_count": 110,
     "metadata": {},
     "output_type": "execute_result"
    }
   ],
   "source": [
    "X_test['Prob_0']=pd.DataFrame(X_test_proba[:,0],columns=['Prob_0'])\n",
    "X_test['Prob_1']=pd.DataFrame(X_test_proba[:,1],columns=['Prob_1'])\n",
    "X_test.head()"
   ]
  },
  {
   "cell_type": "code",
   "execution_count": 111,
   "id": "49f215bb",
   "metadata": {},
   "outputs": [
    {
     "data": {
      "text/plain": [
       "Int64Index([ 195,  218,  221,  222,  248,  250,  274,  278,  285,  291,  343,\n",
       "             404,  411,  453,  500,  534,  540,  569,  573,  645,  663,  739,\n",
       "             759,  778,  790,  807,  837,  853,  863,  883,  913,  918,  950,\n",
       "             997, 1039],\n",
       "           dtype='int64')"
      ]
     },
     "execution_count": 111,
     "metadata": {},
     "output_type": "execute_result"
    }
   ],
   "source": [
    "ind_train = X_train[X_train['Prob_1']>=0.70].index\n",
    "ind_train"
   ]
  },
  {
   "cell_type": "code",
   "execution_count": 112,
   "id": "86239058",
   "metadata": {},
   "outputs": [
    {
     "data": {
      "text/plain": [
       "(1007, 37)"
      ]
     },
     "execution_count": 112,
     "metadata": {},
     "output_type": "execute_result"
    }
   ],
   "source": [
    "df_X_train_copy.drop(ind_train,axis=0,inplace=True)\n",
    "df_X_train_copy.shape"
   ]
  },
  {
   "cell_type": "code",
   "execution_count": 113,
   "id": "e1ad313c",
   "metadata": {},
   "outputs": [
    {
     "data": {
      "text/plain": [
       "Int64Index([26, 41, 53, 79, 216], dtype='int64')"
      ]
     },
     "execution_count": 113,
     "metadata": {},
     "output_type": "execute_result"
    }
   ],
   "source": [
    "ind_test = X_test[X_test['Prob_1']>=0.70].index\n",
    "ind_test"
   ]
  },
  {
   "cell_type": "code",
   "execution_count": 114,
   "id": "51d18445",
   "metadata": {},
   "outputs": [
    {
     "data": {
      "text/plain": [
       "(256, 37)"
      ]
     },
     "execution_count": 114,
     "metadata": {},
     "output_type": "execute_result"
    }
   ],
   "source": [
    "df_X_test_copy.drop(ind_test,axis=0,inplace=True)\n",
    "df_X_test_copy.shape"
   ]
  },
  {
   "cell_type": "code",
   "execution_count": 115,
   "id": "87a91b09",
   "metadata": {},
   "outputs": [
    {
     "data": {
      "text/plain": [
       "(1007, 1)"
      ]
     },
     "execution_count": 115,
     "metadata": {},
     "output_type": "execute_result"
    }
   ],
   "source": [
    "df_y_train_copy.drop(ind_train,axis=0,inplace=True)\n",
    "df_y_train_copy.shape"
   ]
  },
  {
   "cell_type": "code",
   "execution_count": 116,
   "id": "507bef1d",
   "metadata": {},
   "outputs": [
    {
     "data": {
      "text/plain": [
       "(256, 1)"
      ]
     },
     "execution_count": 116,
     "metadata": {},
     "output_type": "execute_result"
    }
   ],
   "source": [
    "df_y_test_copy.drop(ind_test,axis=0,inplace=True)\n",
    "df_y_test_copy.shape"
   ]
  },
  {
   "cell_type": "markdown",
   "id": "f508c5ef",
   "metadata": {},
   "source": [
    "We have removed the observations which have threshold greater than 0.70. "
   ]
  },
  {
   "cell_type": "markdown",
   "id": "61d6de93",
   "metadata": {},
   "source": [
    "### Build the model 2 based on variables available when the patient is home plus CST and GSP"
   ]
  },
  {
   "cell_type": "code",
   "execution_count": 117,
   "id": "f18f6ccb",
   "metadata": {},
   "outputs": [
    {
     "data": {
      "text/plain": [
       "19"
      ]
     },
     "execution_count": 117,
     "metadata": {},
     "output_type": "execute_result"
    }
   ],
   "source": [
    "len(cols)"
   ]
  },
  {
   "cell_type": "code",
   "execution_count": 118,
   "id": "cb464da8",
   "metadata": {},
   "outputs": [
    {
     "name": "stdout",
     "output_type": "stream",
     "text": [
      "['Education_new', 'Occupation_new', 'Working Status_new', 'Smoking (packet/year)_new', 'Age', 'DM ', 'HT duration_new', 'MMSE_new', 'Weight_new', 'Height_new', 'Waist_new', 'Hip_new', 'Smoking_new', 'DM duration_new', 'Gender_M', '  Alcohol_REGULAR', '  Alcohol_SOCIAL', 'Exercise_new_1-2/WEEK', 'Exercise_new_3-4/WEEK', 'LowCST_new', 'CST_new', 'Gait speed_new']\n"
     ]
    }
   ],
   "source": [
    "#all columns avaiable when patient is at home\n",
    "cols2 = copy.deepcopy(cols)\n",
    "cols2.append('LowCST_new')\n",
    "cols2.append('CST_new')\n",
    "cols2.append('Gait speed_new')\n",
    "print(cols2)\n"
   ]
  },
  {
   "cell_type": "code",
   "execution_count": 119,
   "id": "1739642d",
   "metadata": {},
   "outputs": [
    {
     "data": {
      "text/plain": [
       "22"
      ]
     },
     "execution_count": 119,
     "metadata": {},
     "output_type": "execute_result"
    }
   ],
   "source": [
    "len(cols2)"
   ]
  },
  {
   "cell_type": "code",
   "execution_count": 120,
   "id": "5812c057",
   "metadata": {},
   "outputs": [
    {
     "data": {
      "text/plain": [
       "(1007, 22)"
      ]
     },
     "execution_count": 120,
     "metadata": {},
     "output_type": "execute_result"
    }
   ],
   "source": [
    "X_train = df_X_train_copy[cols2]\n",
    "X_train.shape"
   ]
  },
  {
   "cell_type": "code",
   "execution_count": 121,
   "id": "8cac95ed",
   "metadata": {},
   "outputs": [
    {
     "data": {
      "text/plain": [
       "(256, 22)"
      ]
     },
     "execution_count": 121,
     "metadata": {},
     "output_type": "execute_result"
    }
   ],
   "source": [
    "X_test = df_X_test_copy[cols2]\n",
    "X_test.shape"
   ]
  },
  {
   "cell_type": "code",
   "execution_count": 122,
   "id": "37dc3e64",
   "metadata": {},
   "outputs": [
    {
     "data": {
      "text/plain": [
       "(1007, 1)"
      ]
     },
     "execution_count": 122,
     "metadata": {},
     "output_type": "execute_result"
    }
   ],
   "source": [
    "y_train = df_y_train_copy\n",
    "y_train.shape"
   ]
  },
  {
   "cell_type": "code",
   "execution_count": 123,
   "id": "448578e1",
   "metadata": {},
   "outputs": [
    {
     "data": {
      "text/plain": [
       "(256, 1)"
      ]
     },
     "execution_count": 123,
     "metadata": {},
     "output_type": "execute_result"
    }
   ],
   "source": [
    "y_test.shape"
   ]
  },
  {
   "cell_type": "code",
   "execution_count": 124,
   "id": "045d8f60",
   "metadata": {},
   "outputs": [
    {
     "data": {
      "text/html": [
       "<style>#sk-container-id-10 {color: black;background-color: white;}#sk-container-id-10 pre{padding: 0;}#sk-container-id-10 div.sk-toggleable {background-color: white;}#sk-container-id-10 label.sk-toggleable__label {cursor: pointer;display: block;width: 100%;margin-bottom: 0;padding: 0.3em;box-sizing: border-box;text-align: center;}#sk-container-id-10 label.sk-toggleable__label-arrow:before {content: \"▸\";float: left;margin-right: 0.25em;color: #696969;}#sk-container-id-10 label.sk-toggleable__label-arrow:hover:before {color: black;}#sk-container-id-10 div.sk-estimator:hover label.sk-toggleable__label-arrow:before {color: black;}#sk-container-id-10 div.sk-toggleable__content {max-height: 0;max-width: 0;overflow: hidden;text-align: left;background-color: #f0f8ff;}#sk-container-id-10 div.sk-toggleable__content pre {margin: 0.2em;color: black;border-radius: 0.25em;background-color: #f0f8ff;}#sk-container-id-10 input.sk-toggleable__control:checked~div.sk-toggleable__content {max-height: 200px;max-width: 100%;overflow: auto;}#sk-container-id-10 input.sk-toggleable__control:checked~label.sk-toggleable__label-arrow:before {content: \"▾\";}#sk-container-id-10 div.sk-estimator input.sk-toggleable__control:checked~label.sk-toggleable__label {background-color: #d4ebff;}#sk-container-id-10 div.sk-label input.sk-toggleable__control:checked~label.sk-toggleable__label {background-color: #d4ebff;}#sk-container-id-10 input.sk-hidden--visually {border: 0;clip: rect(1px 1px 1px 1px);clip: rect(1px, 1px, 1px, 1px);height: 1px;margin: -1px;overflow: hidden;padding: 0;position: absolute;width: 1px;}#sk-container-id-10 div.sk-estimator {font-family: monospace;background-color: #f0f8ff;border: 1px dotted black;border-radius: 0.25em;box-sizing: border-box;margin-bottom: 0.5em;}#sk-container-id-10 div.sk-estimator:hover {background-color: #d4ebff;}#sk-container-id-10 div.sk-parallel-item::after {content: \"\";width: 100%;border-bottom: 1px solid gray;flex-grow: 1;}#sk-container-id-10 div.sk-label:hover label.sk-toggleable__label {background-color: #d4ebff;}#sk-container-id-10 div.sk-serial::before {content: \"\";position: absolute;border-left: 1px solid gray;box-sizing: border-box;top: 0;bottom: 0;left: 50%;z-index: 0;}#sk-container-id-10 div.sk-serial {display: flex;flex-direction: column;align-items: center;background-color: white;padding-right: 0.2em;padding-left: 0.2em;position: relative;}#sk-container-id-10 div.sk-item {position: relative;z-index: 1;}#sk-container-id-10 div.sk-parallel {display: flex;align-items: stretch;justify-content: center;background-color: white;position: relative;}#sk-container-id-10 div.sk-item::before, #sk-container-id-10 div.sk-parallel-item::before {content: \"\";position: absolute;border-left: 1px solid gray;box-sizing: border-box;top: 0;bottom: 0;left: 50%;z-index: -1;}#sk-container-id-10 div.sk-parallel-item {display: flex;flex-direction: column;z-index: 1;position: relative;background-color: white;}#sk-container-id-10 div.sk-parallel-item:first-child::after {align-self: flex-end;width: 50%;}#sk-container-id-10 div.sk-parallel-item:last-child::after {align-self: flex-start;width: 50%;}#sk-container-id-10 div.sk-parallel-item:only-child::after {width: 0;}#sk-container-id-10 div.sk-dashed-wrapped {border: 1px dashed gray;margin: 0 0.4em 0.5em 0.4em;box-sizing: border-box;padding-bottom: 0.4em;background-color: white;}#sk-container-id-10 div.sk-label label {font-family: monospace;font-weight: bold;display: inline-block;line-height: 1.2em;}#sk-container-id-10 div.sk-label-container {text-align: center;}#sk-container-id-10 div.sk-container {/* jupyter's `normalize.less` sets `[hidden] { display: none; }` but bootstrap.min.css set `[hidden] { display: none !important; }` so we also need the `!important` here to be able to override the default hidden behavior on the sphinx rendered scikit-learn.org. See: https://github.com/scikit-learn/scikit-learn/issues/21755 */display: inline-block !important;position: relative;}#sk-container-id-10 div.sk-text-repr-fallback {display: none;}</style><div id=\"sk-container-id-10\" class=\"sk-top-container\"><div class=\"sk-text-repr-fallback\"><pre>GradientBoostingClassifier(max_features=5, random_state=100)</pre><b>In a Jupyter environment, please rerun this cell to show the HTML representation or trust the notebook. <br />On GitHub, the HTML representation is unable to render, please try loading this page with nbviewer.org.</b></div><div class=\"sk-container\" hidden><div class=\"sk-item\"><div class=\"sk-estimator sk-toggleable\"><input class=\"sk-toggleable__control sk-hidden--visually\" id=\"sk-estimator-id-10\" type=\"checkbox\" checked><label for=\"sk-estimator-id-10\" class=\"sk-toggleable__label sk-toggleable__label-arrow\">GradientBoostingClassifier</label><div class=\"sk-toggleable__content\"><pre>GradientBoostingClassifier(max_features=5, random_state=100)</pre></div></div></div></div></div>"
      ],
      "text/plain": [
       "GradientBoostingClassifier(max_features=5, random_state=100)"
      ]
     },
     "execution_count": 124,
     "metadata": {},
     "output_type": "execute_result"
    }
   ],
   "source": [
    "gb2 = GradientBoostingClassifier(\n",
    "                                loss='log_loss',#loss function to be optimized\n",
    "                                learning_rate=0.1,#shrinks the contribution of each tree by `learning_rate`\n",
    "                                n_estimators=100,#number of boosting stages to perform\n",
    "                                subsample=1.0,#fraction of samples to be used for fitting the individual base learners.\n",
    "                                random_state=100,\n",
    "                                max_features=5#number of features to consider when looking for the best split \n",
    "                               )\n",
    "\n",
    "\n",
    "gb2\n"
   ]
  },
  {
   "cell_type": "code",
   "execution_count": 125,
   "id": "22272343",
   "metadata": {},
   "outputs": [
    {
     "data": {
      "text/html": [
       "<style>#sk-container-id-11 {color: black;background-color: white;}#sk-container-id-11 pre{padding: 0;}#sk-container-id-11 div.sk-toggleable {background-color: white;}#sk-container-id-11 label.sk-toggleable__label {cursor: pointer;display: block;width: 100%;margin-bottom: 0;padding: 0.3em;box-sizing: border-box;text-align: center;}#sk-container-id-11 label.sk-toggleable__label-arrow:before {content: \"▸\";float: left;margin-right: 0.25em;color: #696969;}#sk-container-id-11 label.sk-toggleable__label-arrow:hover:before {color: black;}#sk-container-id-11 div.sk-estimator:hover label.sk-toggleable__label-arrow:before {color: black;}#sk-container-id-11 div.sk-toggleable__content {max-height: 0;max-width: 0;overflow: hidden;text-align: left;background-color: #f0f8ff;}#sk-container-id-11 div.sk-toggleable__content pre {margin: 0.2em;color: black;border-radius: 0.25em;background-color: #f0f8ff;}#sk-container-id-11 input.sk-toggleable__control:checked~div.sk-toggleable__content {max-height: 200px;max-width: 100%;overflow: auto;}#sk-container-id-11 input.sk-toggleable__control:checked~label.sk-toggleable__label-arrow:before {content: \"▾\";}#sk-container-id-11 div.sk-estimator input.sk-toggleable__control:checked~label.sk-toggleable__label {background-color: #d4ebff;}#sk-container-id-11 div.sk-label input.sk-toggleable__control:checked~label.sk-toggleable__label {background-color: #d4ebff;}#sk-container-id-11 input.sk-hidden--visually {border: 0;clip: rect(1px 1px 1px 1px);clip: rect(1px, 1px, 1px, 1px);height: 1px;margin: -1px;overflow: hidden;padding: 0;position: absolute;width: 1px;}#sk-container-id-11 div.sk-estimator {font-family: monospace;background-color: #f0f8ff;border: 1px dotted black;border-radius: 0.25em;box-sizing: border-box;margin-bottom: 0.5em;}#sk-container-id-11 div.sk-estimator:hover {background-color: #d4ebff;}#sk-container-id-11 div.sk-parallel-item::after {content: \"\";width: 100%;border-bottom: 1px solid gray;flex-grow: 1;}#sk-container-id-11 div.sk-label:hover label.sk-toggleable__label {background-color: #d4ebff;}#sk-container-id-11 div.sk-serial::before {content: \"\";position: absolute;border-left: 1px solid gray;box-sizing: border-box;top: 0;bottom: 0;left: 50%;z-index: 0;}#sk-container-id-11 div.sk-serial {display: flex;flex-direction: column;align-items: center;background-color: white;padding-right: 0.2em;padding-left: 0.2em;position: relative;}#sk-container-id-11 div.sk-item {position: relative;z-index: 1;}#sk-container-id-11 div.sk-parallel {display: flex;align-items: stretch;justify-content: center;background-color: white;position: relative;}#sk-container-id-11 div.sk-item::before, #sk-container-id-11 div.sk-parallel-item::before {content: \"\";position: absolute;border-left: 1px solid gray;box-sizing: border-box;top: 0;bottom: 0;left: 50%;z-index: -1;}#sk-container-id-11 div.sk-parallel-item {display: flex;flex-direction: column;z-index: 1;position: relative;background-color: white;}#sk-container-id-11 div.sk-parallel-item:first-child::after {align-self: flex-end;width: 50%;}#sk-container-id-11 div.sk-parallel-item:last-child::after {align-self: flex-start;width: 50%;}#sk-container-id-11 div.sk-parallel-item:only-child::after {width: 0;}#sk-container-id-11 div.sk-dashed-wrapped {border: 1px dashed gray;margin: 0 0.4em 0.5em 0.4em;box-sizing: border-box;padding-bottom: 0.4em;background-color: white;}#sk-container-id-11 div.sk-label label {font-family: monospace;font-weight: bold;display: inline-block;line-height: 1.2em;}#sk-container-id-11 div.sk-label-container {text-align: center;}#sk-container-id-11 div.sk-container {/* jupyter's `normalize.less` sets `[hidden] { display: none; }` but bootstrap.min.css set `[hidden] { display: none !important; }` so we also need the `!important` here to be able to override the default hidden behavior on the sphinx rendered scikit-learn.org. See: https://github.com/scikit-learn/scikit-learn/issues/21755 */display: inline-block !important;position: relative;}#sk-container-id-11 div.sk-text-repr-fallback {display: none;}</style><div id=\"sk-container-id-11\" class=\"sk-top-container\"><div class=\"sk-text-repr-fallback\"><pre>GradientBoostingClassifier(max_features=5, random_state=100)</pre><b>In a Jupyter environment, please rerun this cell to show the HTML representation or trust the notebook. <br />On GitHub, the HTML representation is unable to render, please try loading this page with nbviewer.org.</b></div><div class=\"sk-container\" hidden><div class=\"sk-item\"><div class=\"sk-estimator sk-toggleable\"><input class=\"sk-toggleable__control sk-hidden--visually\" id=\"sk-estimator-id-11\" type=\"checkbox\" checked><label for=\"sk-estimator-id-11\" class=\"sk-toggleable__label sk-toggleable__label-arrow\">GradientBoostingClassifier</label><div class=\"sk-toggleable__content\"><pre>GradientBoostingClassifier(max_features=5, random_state=100)</pre></div></div></div></div></div>"
      ],
      "text/plain": [
       "GradientBoostingClassifier(max_features=5, random_state=100)"
      ]
     },
     "execution_count": 125,
     "metadata": {},
     "output_type": "execute_result"
    }
   ],
   "source": [
    "gb2.fit(X_train,y_train)"
   ]
  },
  {
   "cell_type": "code",
   "execution_count": 126,
   "id": "ca24af38",
   "metadata": {},
   "outputs": [],
   "source": [
    "y_pred_gb2 = gb2.predict(X_test)"
   ]
  },
  {
   "cell_type": "code",
   "execution_count": 127,
   "id": "d444d4c0",
   "metadata": {},
   "outputs": [
    {
     "data": {
      "text/plain": [
       "0.85546875"
      ]
     },
     "execution_count": 127,
     "metadata": {},
     "output_type": "execute_result"
    }
   ],
   "source": [
    "from sklearn.metrics import accuracy_score\n",
    "acc2 = accuracy_score(y_pred_gb2, y_test)\n",
    "acc2\n"
   ]
  },
  {
   "cell_type": "code",
   "execution_count": 128,
   "id": "df0030da",
   "metadata": {},
   "outputs": [
    {
     "data": {
      "text/plain": [
       "array([[0.96814285, 0.03185715],\n",
       "       [0.99000207, 0.00999793],\n",
       "       [0.90120585, 0.09879415],\n",
       "       ...,\n",
       "       [0.96446349, 0.03553651],\n",
       "       [0.98590413, 0.01409587],\n",
       "       [0.96289616, 0.03710384]])"
      ]
     },
     "execution_count": 128,
     "metadata": {},
     "output_type": "execute_result"
    }
   ],
   "source": [
    "X_train_proba2 = gb2.predict_proba(X_train)\n",
    "X_train_proba2[:,:]\n"
   ]
  },
  {
   "cell_type": "code",
   "execution_count": 129,
   "id": "80526245",
   "metadata": {},
   "outputs": [
    {
     "data": {
      "text/plain": [
       "array([[0.96000803, 0.03999197],\n",
       "       [0.86662306, 0.13337694],\n",
       "       [0.85124936, 0.14875064],\n",
       "       [0.91682264, 0.08317736],\n",
       "       [0.9252151 , 0.0747849 ],\n",
       "       [0.19717827, 0.80282173],\n",
       "       [0.98366476, 0.01633524],\n",
       "       [0.98639492, 0.01360508],\n",
       "       [0.87206623, 0.12793377],\n",
       "       [0.92515281, 0.07484719],\n",
       "       [0.72464919, 0.27535081],\n",
       "       [0.95888943, 0.04111057],\n",
       "       [0.95878858, 0.04121142],\n",
       "       [0.75563404, 0.24436596],\n",
       "       [0.96680654, 0.03319346],\n",
       "       [0.99038099, 0.00961901],\n",
       "       [0.68045674, 0.31954326],\n",
       "       [0.98450551, 0.01549449],\n",
       "       [0.9086579 , 0.0913421 ],\n",
       "       [0.98051665, 0.01948335],\n",
       "       [0.96450469, 0.03549531],\n",
       "       [0.89136503, 0.10863497],\n",
       "       [0.75494991, 0.24505009],\n",
       "       [0.95640334, 0.04359666],\n",
       "       [0.96518128, 0.03481872],\n",
       "       [0.95885683, 0.04114317],\n",
       "       [0.9404415 , 0.0595585 ],\n",
       "       [0.98037493, 0.01962507],\n",
       "       [0.76662703, 0.23337297],\n",
       "       [0.984832  , 0.015168  ],\n",
       "       [0.56444082, 0.43555918],\n",
       "       [0.97502625, 0.02497375],\n",
       "       [0.9648802 , 0.0351198 ],\n",
       "       [0.35709845, 0.64290155],\n",
       "       [0.14910305, 0.85089695],\n",
       "       [0.97998565, 0.02001435],\n",
       "       [0.98301603, 0.01698397],\n",
       "       [0.96804389, 0.03195611],\n",
       "       [0.98788103, 0.01211897],\n",
       "       [0.8897357 , 0.1102643 ],\n",
       "       [0.42705513, 0.57294487],\n",
       "       [0.98512118, 0.01487882],\n",
       "       [0.30009737, 0.69990263],\n",
       "       [0.70708588, 0.29291412],\n",
       "       [0.97328522, 0.02671478],\n",
       "       [0.96120202, 0.03879798],\n",
       "       [0.91612772, 0.08387228],\n",
       "       [0.93108694, 0.06891306],\n",
       "       [0.98480393, 0.01519607],\n",
       "       [0.98441055, 0.01558945],\n",
       "       [0.93943159, 0.06056841],\n",
       "       [0.95787777, 0.04212223],\n",
       "       [0.93286775, 0.06713225],\n",
       "       [0.94911313, 0.05088687],\n",
       "       [0.90588141, 0.09411859],\n",
       "       [0.87659478, 0.12340522],\n",
       "       [0.62790578, 0.37209422],\n",
       "       [0.81013316, 0.18986684],\n",
       "       [0.96364085, 0.03635915],\n",
       "       [0.98504803, 0.01495197],\n",
       "       [0.50315566, 0.49684434],\n",
       "       [0.85225543, 0.14774457],\n",
       "       [0.93769284, 0.06230716],\n",
       "       [0.9653416 , 0.0346584 ],\n",
       "       [0.98239521, 0.01760479],\n",
       "       [0.89242624, 0.10757376],\n",
       "       [0.9324223 , 0.0675777 ],\n",
       "       [0.96060014, 0.03939986],\n",
       "       [0.42222322, 0.57777678],\n",
       "       [0.98530932, 0.01469068],\n",
       "       [0.75387096, 0.24612904],\n",
       "       [0.88650486, 0.11349514],\n",
       "       [0.92443243, 0.07556757],\n",
       "       [0.97606575, 0.02393425],\n",
       "       [0.92611532, 0.07388468],\n",
       "       [0.87782714, 0.12217286],\n",
       "       [0.95152381, 0.04847619],\n",
       "       [0.96169025, 0.03830975],\n",
       "       [0.57668648, 0.42331352],\n",
       "       [0.88425818, 0.11574182],\n",
       "       [0.99314753, 0.00685247],\n",
       "       [0.82777483, 0.17222517],\n",
       "       [0.91803629, 0.08196371],\n",
       "       [0.98432748, 0.01567252],\n",
       "       [0.96555783, 0.03444217],\n",
       "       [0.94476474, 0.05523526],\n",
       "       [0.97020437, 0.02979563],\n",
       "       [0.76239521, 0.23760479],\n",
       "       [0.9921338 , 0.0078662 ],\n",
       "       [0.88449355, 0.11550645],\n",
       "       [0.72798108, 0.27201892],\n",
       "       [0.66761283, 0.33238717],\n",
       "       [0.92988761, 0.07011239],\n",
       "       [0.93103056, 0.06896944],\n",
       "       [0.35704282, 0.64295718],\n",
       "       [0.56860467, 0.43139533],\n",
       "       [0.98957624, 0.01042376],\n",
       "       [0.75661205, 0.24338795],\n",
       "       [0.16245419, 0.83754581],\n",
       "       [0.95140076, 0.04859924],\n",
       "       [0.97456905, 0.02543095],\n",
       "       [0.93555864, 0.06444136],\n",
       "       [0.67072853, 0.32927147],\n",
       "       [0.2024209 , 0.7975791 ],\n",
       "       [0.97127551, 0.02872449],\n",
       "       [0.81430664, 0.18569336],\n",
       "       [0.96634001, 0.03365999],\n",
       "       [0.94556824, 0.05443176],\n",
       "       [0.94118334, 0.05881666],\n",
       "       [0.95398023, 0.04601977],\n",
       "       [0.98629495, 0.01370505],\n",
       "       [0.75146242, 0.24853758],\n",
       "       [0.96301678, 0.03698322],\n",
       "       [0.96235811, 0.03764189],\n",
       "       [0.99004174, 0.00995826],\n",
       "       [0.62321355, 0.37678645],\n",
       "       [0.47248905, 0.52751095],\n",
       "       [0.63721234, 0.36278766],\n",
       "       [0.58151046, 0.41848954],\n",
       "       [0.94833705, 0.05166295],\n",
       "       [0.98147896, 0.01852104],\n",
       "       [0.979041  , 0.020959  ],\n",
       "       [0.97740672, 0.02259328],\n",
       "       [0.88656987, 0.11343013],\n",
       "       [0.46931793, 0.53068207],\n",
       "       [0.26631521, 0.73368479],\n",
       "       [0.98280455, 0.01719545],\n",
       "       [0.99020906, 0.00979094],\n",
       "       [0.96236015, 0.03763985],\n",
       "       [0.98000898, 0.01999102],\n",
       "       [0.98814951, 0.01185049],\n",
       "       [0.85974109, 0.14025891],\n",
       "       [0.9364679 , 0.0635321 ],\n",
       "       [0.98830572, 0.01169428],\n",
       "       [0.98644034, 0.01355966],\n",
       "       [0.59783639, 0.40216361],\n",
       "       [0.95531372, 0.04468628],\n",
       "       [0.70173843, 0.29826157],\n",
       "       [0.98225557, 0.01774443],\n",
       "       [0.98326224, 0.01673776],\n",
       "       [0.26317079, 0.73682921],\n",
       "       [0.93671374, 0.06328626],\n",
       "       [0.87568225, 0.12431775],\n",
       "       [0.79831621, 0.20168379],\n",
       "       [0.06274891, 0.93725109],\n",
       "       [0.98317792, 0.01682208],\n",
       "       [0.82529794, 0.17470206],\n",
       "       [0.96101934, 0.03898066],\n",
       "       [0.9857496 , 0.0142504 ],\n",
       "       [0.47433157, 0.52566843],\n",
       "       [0.98276525, 0.01723475],\n",
       "       [0.98239885, 0.01760115],\n",
       "       [0.99081114, 0.00918886],\n",
       "       [0.94312809, 0.05687191],\n",
       "       [0.92967378, 0.07032622],\n",
       "       [0.9880914 , 0.0119086 ],\n",
       "       [0.97735054, 0.02264946],\n",
       "       [0.93642211, 0.06357789],\n",
       "       [0.94354773, 0.05645227],\n",
       "       [0.97070257, 0.02929743],\n",
       "       [0.93298781, 0.06701219],\n",
       "       [0.98883454, 0.01116546],\n",
       "       [0.98101613, 0.01898387],\n",
       "       [0.90339458, 0.09660542],\n",
       "       [0.68553382, 0.31446618],\n",
       "       [0.98687034, 0.01312966],\n",
       "       [0.96051381, 0.03948619],\n",
       "       [0.87220338, 0.12779662],\n",
       "       [0.97917561, 0.02082439],\n",
       "       [0.67886716, 0.32113284],\n",
       "       [0.54378868, 0.45621132],\n",
       "       [0.41037805, 0.58962195],\n",
       "       [0.77437298, 0.22562702],\n",
       "       [0.94086915, 0.05913085],\n",
       "       [0.90993029, 0.09006971],\n",
       "       [0.97957972, 0.02042028],\n",
       "       [0.44262259, 0.55737741],\n",
       "       [0.94497627, 0.05502373],\n",
       "       [0.29117353, 0.70882647],\n",
       "       [0.94625674, 0.05374326],\n",
       "       [0.75681175, 0.24318825],\n",
       "       [0.501205  , 0.498795  ],\n",
       "       [0.93170337, 0.06829663],\n",
       "       [0.99189518, 0.00810482],\n",
       "       [0.73774194, 0.26225806],\n",
       "       [0.96295765, 0.03704235],\n",
       "       [0.95310365, 0.04689635],\n",
       "       [0.87871714, 0.12128286],\n",
       "       [0.98470809, 0.01529191],\n",
       "       [0.50762699, 0.49237301],\n",
       "       [0.99011864, 0.00988136],\n",
       "       [0.75478437, 0.24521563],\n",
       "       [0.3480895 , 0.6519105 ],\n",
       "       [0.94146391, 0.05853609],\n",
       "       [0.96165522, 0.03834478],\n",
       "       [0.97715513, 0.02284487],\n",
       "       [0.97298377, 0.02701623],\n",
       "       [0.90088489, 0.09911511],\n",
       "       [0.62902879, 0.37097121],\n",
       "       [0.46185195, 0.53814805],\n",
       "       [0.9643875 , 0.0356125 ],\n",
       "       [0.80973193, 0.19026807],\n",
       "       [0.94895435, 0.05104565],\n",
       "       [0.88923086, 0.11076914],\n",
       "       [0.95425341, 0.04574659],\n",
       "       [0.44449811, 0.55550189],\n",
       "       [0.98525822, 0.01474178],\n",
       "       [0.92591913, 0.07408087],\n",
       "       [0.92811322, 0.07188678],\n",
       "       [0.80835225, 0.19164775],\n",
       "       [0.9715954 , 0.0284046 ],\n",
       "       [0.86836001, 0.13163999],\n",
       "       [0.47857828, 0.52142172],\n",
       "       [0.86711137, 0.13288863],\n",
       "       [0.98543891, 0.01456109],\n",
       "       [0.61318136, 0.38681864],\n",
       "       [0.87357606, 0.12642394],\n",
       "       [0.97208848, 0.02791152],\n",
       "       [0.92993216, 0.07006784],\n",
       "       [0.97599466, 0.02400534],\n",
       "       [0.49370026, 0.50629974],\n",
       "       [0.88501504, 0.11498496],\n",
       "       [0.8791291 , 0.1208709 ],\n",
       "       [0.92264131, 0.07735869],\n",
       "       [0.9135754 , 0.0864246 ],\n",
       "       [0.97825371, 0.02174629],\n",
       "       [0.90067009, 0.09932991],\n",
       "       [0.82729299, 0.17270701],\n",
       "       [0.97433136, 0.02566864],\n",
       "       [0.74198693, 0.25801307],\n",
       "       [0.58959787, 0.41040213],\n",
       "       [0.82693514, 0.17306486],\n",
       "       [0.97104591, 0.02895409],\n",
       "       [0.98468615, 0.01531385],\n",
       "       [0.65964923, 0.34035077],\n",
       "       [0.96480768, 0.03519232],\n",
       "       [0.46094714, 0.53905286],\n",
       "       [0.95732504, 0.04267496],\n",
       "       [0.97770021, 0.02229979],\n",
       "       [0.9656492 , 0.0343508 ],\n",
       "       [0.96440442, 0.03559558],\n",
       "       [0.98650548, 0.01349452],\n",
       "       [0.94490588, 0.05509412],\n",
       "       [0.80438781, 0.19561219],\n",
       "       [0.8228784 , 0.1771216 ],\n",
       "       [0.3908931 , 0.6091069 ],\n",
       "       [0.72607542, 0.27392458],\n",
       "       [0.6656807 , 0.3343193 ],\n",
       "       [0.83041159, 0.16958841],\n",
       "       [0.92032601, 0.07967399],\n",
       "       [0.97395937, 0.02604063],\n",
       "       [0.950941  , 0.049059  ],\n",
       "       [0.34056287, 0.65943713],\n",
       "       [0.19764914, 0.80235086],\n",
       "       [0.83503991, 0.16496009],\n",
       "       [0.56507514, 0.43492486]])"
      ]
     },
     "execution_count": 129,
     "metadata": {},
     "output_type": "execute_result"
    }
   ],
   "source": [
    "X_test_proba2 = gb2.predict_proba(X_test)\n",
    "X_test_proba2[:,:]"
   ]
  },
  {
   "cell_type": "code",
   "execution_count": 130,
   "id": "b66bf4e5",
   "metadata": {},
   "outputs": [
    {
     "data": {
      "text/html": [
       "<div>\n",
       "<style scoped>\n",
       "    .dataframe tbody tr th:only-of-type {\n",
       "        vertical-align: middle;\n",
       "    }\n",
       "\n",
       "    .dataframe tbody tr th {\n",
       "        vertical-align: top;\n",
       "    }\n",
       "\n",
       "    .dataframe thead th {\n",
       "        text-align: right;\n",
       "    }\n",
       "</style>\n",
       "<table border=\"1\" class=\"dataframe\">\n",
       "  <thead>\n",
       "    <tr style=\"text-align: right;\">\n",
       "      <th></th>\n",
       "      <th>Education_new</th>\n",
       "      <th>Occupation_new</th>\n",
       "      <th>Working Status_new</th>\n",
       "      <th>Smoking (packet/year)_new</th>\n",
       "      <th>Age</th>\n",
       "      <th>DM</th>\n",
       "      <th>HT duration_new</th>\n",
       "      <th>MMSE_new</th>\n",
       "      <th>Weight_new</th>\n",
       "      <th>Height_new</th>\n",
       "      <th>...</th>\n",
       "      <th>Gender_M</th>\n",
       "      <th>Alcohol_REGULAR</th>\n",
       "      <th>Alcohol_SOCIAL</th>\n",
       "      <th>Exercise_new_1-2/WEEK</th>\n",
       "      <th>Exercise_new_3-4/WEEK</th>\n",
       "      <th>LowCST_new</th>\n",
       "      <th>CST_new</th>\n",
       "      <th>Gait speed_new</th>\n",
       "      <th>Prob2_0</th>\n",
       "      <th>Prob2_1</th>\n",
       "    </tr>\n",
       "  </thead>\n",
       "  <tbody>\n",
       "    <tr>\n",
       "      <th>0</th>\n",
       "      <td>0.8125</td>\n",
       "      <td>0.423645</td>\n",
       "      <td>0.448276</td>\n",
       "      <td>0.000000</td>\n",
       "      <td>0.177778</td>\n",
       "      <td>0.0</td>\n",
       "      <td>0.16</td>\n",
       "      <td>0.379926</td>\n",
       "      <td>0.430769</td>\n",
       "      <td>0.785714</td>\n",
       "      <td>...</td>\n",
       "      <td>1.0</td>\n",
       "      <td>0.0</td>\n",
       "      <td>0.0</td>\n",
       "      <td>1.0</td>\n",
       "      <td>0.0</td>\n",
       "      <td>0.000000</td>\n",
       "      <td>0.514286</td>\n",
       "      <td>0.630137</td>\n",
       "      <td>0.968143</td>\n",
       "      <td>0.031857</td>\n",
       "    </tr>\n",
       "    <tr>\n",
       "      <th>1</th>\n",
       "      <td>0.8125</td>\n",
       "      <td>0.689655</td>\n",
       "      <td>0.793103</td>\n",
       "      <td>0.000000</td>\n",
       "      <td>0.022222</td>\n",
       "      <td>0.0</td>\n",
       "      <td>0.00</td>\n",
       "      <td>0.379926</td>\n",
       "      <td>0.692308</td>\n",
       "      <td>0.476190</td>\n",
       "      <td>...</td>\n",
       "      <td>0.0</td>\n",
       "      <td>0.0</td>\n",
       "      <td>0.0</td>\n",
       "      <td>0.0</td>\n",
       "      <td>0.0</td>\n",
       "      <td>0.000000</td>\n",
       "      <td>0.242857</td>\n",
       "      <td>0.602740</td>\n",
       "      <td>0.990002</td>\n",
       "      <td>0.009998</td>\n",
       "    </tr>\n",
       "    <tr>\n",
       "      <th>2</th>\n",
       "      <td>0.7500</td>\n",
       "      <td>0.995074</td>\n",
       "      <td>0.931034</td>\n",
       "      <td>0.637681</td>\n",
       "      <td>0.177778</td>\n",
       "      <td>0.0</td>\n",
       "      <td>0.80</td>\n",
       "      <td>0.250000</td>\n",
       "      <td>0.661538</td>\n",
       "      <td>0.571429</td>\n",
       "      <td>...</td>\n",
       "      <td>1.0</td>\n",
       "      <td>0.0</td>\n",
       "      <td>0.0</td>\n",
       "      <td>0.0</td>\n",
       "      <td>0.0</td>\n",
       "      <td>0.000000</td>\n",
       "      <td>0.542857</td>\n",
       "      <td>0.205479</td>\n",
       "      <td>0.901206</td>\n",
       "      <td>0.098794</td>\n",
       "    </tr>\n",
       "    <tr>\n",
       "      <th>3</th>\n",
       "      <td>0.0000</td>\n",
       "      <td>0.137931</td>\n",
       "      <td>0.724138</td>\n",
       "      <td>0.420290</td>\n",
       "      <td>0.200000</td>\n",
       "      <td>0.0</td>\n",
       "      <td>0.28</td>\n",
       "      <td>0.379926</td>\n",
       "      <td>0.584615</td>\n",
       "      <td>0.714286</td>\n",
       "      <td>...</td>\n",
       "      <td>0.0</td>\n",
       "      <td>0.0</td>\n",
       "      <td>0.0</td>\n",
       "      <td>1.0</td>\n",
       "      <td>0.0</td>\n",
       "      <td>1.000000</td>\n",
       "      <td>0.550000</td>\n",
       "      <td>0.719178</td>\n",
       "      <td>0.959444</td>\n",
       "      <td>0.040556</td>\n",
       "    </tr>\n",
       "    <tr>\n",
       "      <th>4</th>\n",
       "      <td>0.1250</td>\n",
       "      <td>0.960591</td>\n",
       "      <td>0.034483</td>\n",
       "      <td>0.000000</td>\n",
       "      <td>0.000000</td>\n",
       "      <td>0.0</td>\n",
       "      <td>0.01</td>\n",
       "      <td>1.000000</td>\n",
       "      <td>0.446154</td>\n",
       "      <td>0.357143</td>\n",
       "      <td>...</td>\n",
       "      <td>0.0</td>\n",
       "      <td>0.0</td>\n",
       "      <td>0.0</td>\n",
       "      <td>0.0</td>\n",
       "      <td>0.0</td>\n",
       "      <td>0.318059</td>\n",
       "      <td>0.714286</td>\n",
       "      <td>0.589041</td>\n",
       "      <td>0.820830</td>\n",
       "      <td>0.179170</td>\n",
       "    </tr>\n",
       "  </tbody>\n",
       "</table>\n",
       "<p>5 rows × 24 columns</p>\n",
       "</div>"
      ],
      "text/plain": [
       "   Education_new  Occupation_new  Working Status_new  \\\n",
       "0         0.8125        0.423645            0.448276   \n",
       "1         0.8125        0.689655            0.793103   \n",
       "2         0.7500        0.995074            0.931034   \n",
       "3         0.0000        0.137931            0.724138   \n",
       "4         0.1250        0.960591            0.034483   \n",
       "\n",
       "   Smoking (packet/year)_new       Age  DM   HT duration_new  MMSE_new  \\\n",
       "0                   0.000000  0.177778  0.0             0.16  0.379926   \n",
       "1                   0.000000  0.022222  0.0             0.00  0.379926   \n",
       "2                   0.637681  0.177778  0.0             0.80  0.250000   \n",
       "3                   0.420290  0.200000  0.0             0.28  0.379926   \n",
       "4                   0.000000  0.000000  0.0             0.01  1.000000   \n",
       "\n",
       "   Weight_new  Height_new  ...  Gender_M    Alcohol_REGULAR    Alcohol_SOCIAL  \\\n",
       "0    0.430769    0.785714  ...       1.0                0.0               0.0   \n",
       "1    0.692308    0.476190  ...       0.0                0.0               0.0   \n",
       "2    0.661538    0.571429  ...       1.0                0.0               0.0   \n",
       "3    0.584615    0.714286  ...       0.0                0.0               0.0   \n",
       "4    0.446154    0.357143  ...       0.0                0.0               0.0   \n",
       "\n",
       "   Exercise_new_1-2/WEEK  Exercise_new_3-4/WEEK  LowCST_new   CST_new  \\\n",
       "0                    1.0                    0.0    0.000000  0.514286   \n",
       "1                    0.0                    0.0    0.000000  0.242857   \n",
       "2                    0.0                    0.0    0.000000  0.542857   \n",
       "3                    1.0                    0.0    1.000000  0.550000   \n",
       "4                    0.0                    0.0    0.318059  0.714286   \n",
       "\n",
       "   Gait speed_new   Prob2_0   Prob2_1  \n",
       "0        0.630137  0.968143  0.031857  \n",
       "1        0.602740  0.990002  0.009998  \n",
       "2        0.205479  0.901206  0.098794  \n",
       "3        0.719178  0.959444  0.040556  \n",
       "4        0.589041  0.820830  0.179170  \n",
       "\n",
       "[5 rows x 24 columns]"
      ]
     },
     "execution_count": 130,
     "metadata": {},
     "output_type": "execute_result"
    }
   ],
   "source": [
    "X_train['Prob2_0']=pd.DataFrame(X_train_proba2[:,0],columns=['Prob2_0'])\n",
    "X_train['Prob2_1']=pd.DataFrame(X_train_proba2[:,1],columns=['Prob2_1'])\n",
    "X_train.head()"
   ]
  },
  {
   "cell_type": "code",
   "execution_count": 131,
   "id": "05237049",
   "metadata": {},
   "outputs": [
    {
     "data": {
      "text/html": [
       "<div>\n",
       "<style scoped>\n",
       "    .dataframe tbody tr th:only-of-type {\n",
       "        vertical-align: middle;\n",
       "    }\n",
       "\n",
       "    .dataframe tbody tr th {\n",
       "        vertical-align: top;\n",
       "    }\n",
       "\n",
       "    .dataframe thead th {\n",
       "        text-align: right;\n",
       "    }\n",
       "</style>\n",
       "<table border=\"1\" class=\"dataframe\">\n",
       "  <thead>\n",
       "    <tr style=\"text-align: right;\">\n",
       "      <th></th>\n",
       "      <th>Education_new</th>\n",
       "      <th>Occupation_new</th>\n",
       "      <th>Working Status_new</th>\n",
       "      <th>Smoking (packet/year)_new</th>\n",
       "      <th>Age</th>\n",
       "      <th>DM</th>\n",
       "      <th>HT duration_new</th>\n",
       "      <th>MMSE_new</th>\n",
       "      <th>Weight_new</th>\n",
       "      <th>Height_new</th>\n",
       "      <th>...</th>\n",
       "      <th>Gender_M</th>\n",
       "      <th>Alcohol_REGULAR</th>\n",
       "      <th>Alcohol_SOCIAL</th>\n",
       "      <th>Exercise_new_1-2/WEEK</th>\n",
       "      <th>Exercise_new_3-4/WEEK</th>\n",
       "      <th>LowCST_new</th>\n",
       "      <th>CST_new</th>\n",
       "      <th>Gait speed_new</th>\n",
       "      <th>Prob2_0</th>\n",
       "      <th>Prob2_1</th>\n",
       "    </tr>\n",
       "  </thead>\n",
       "  <tbody>\n",
       "    <tr>\n",
       "      <th>0</th>\n",
       "      <td>0.0625</td>\n",
       "      <td>0.502463</td>\n",
       "      <td>0.896552</td>\n",
       "      <td>0.898551</td>\n",
       "      <td>0.000000</td>\n",
       "      <td>0.0</td>\n",
       "      <td>0.00</td>\n",
       "      <td>1.000000</td>\n",
       "      <td>0.076923</td>\n",
       "      <td>0.476190</td>\n",
       "      <td>...</td>\n",
       "      <td>0.0</td>\n",
       "      <td>0.0</td>\n",
       "      <td>0.0</td>\n",
       "      <td>0.0</td>\n",
       "      <td>0.0</td>\n",
       "      <td>0.318059</td>\n",
       "      <td>0.950000</td>\n",
       "      <td>0.719178</td>\n",
       "      <td>0.960008</td>\n",
       "      <td>0.039992</td>\n",
       "    </tr>\n",
       "    <tr>\n",
       "      <th>1</th>\n",
       "      <td>0.8125</td>\n",
       "      <td>0.394089</td>\n",
       "      <td>0.724138</td>\n",
       "      <td>0.724638</td>\n",
       "      <td>0.488889</td>\n",
       "      <td>0.0</td>\n",
       "      <td>0.60</td>\n",
       "      <td>0.379926</td>\n",
       "      <td>0.723077</td>\n",
       "      <td>0.571429</td>\n",
       "      <td>...</td>\n",
       "      <td>1.0</td>\n",
       "      <td>0.0</td>\n",
       "      <td>0.0</td>\n",
       "      <td>0.0</td>\n",
       "      <td>0.0</td>\n",
       "      <td>0.000000</td>\n",
       "      <td>0.314286</td>\n",
       "      <td>0.321918</td>\n",
       "      <td>0.866623</td>\n",
       "      <td>0.133377</td>\n",
       "    </tr>\n",
       "    <tr>\n",
       "      <th>2</th>\n",
       "      <td>0.6875</td>\n",
       "      <td>0.492611</td>\n",
       "      <td>0.724138</td>\n",
       "      <td>0.536232</td>\n",
       "      <td>0.577778</td>\n",
       "      <td>1.0</td>\n",
       "      <td>0.40</td>\n",
       "      <td>0.750000</td>\n",
       "      <td>0.692308</td>\n",
       "      <td>0.309524</td>\n",
       "      <td>...</td>\n",
       "      <td>0.0</td>\n",
       "      <td>0.0</td>\n",
       "      <td>0.0</td>\n",
       "      <td>0.0</td>\n",
       "      <td>0.0</td>\n",
       "      <td>0.318059</td>\n",
       "      <td>0.450000</td>\n",
       "      <td>0.390411</td>\n",
       "      <td>0.851249</td>\n",
       "      <td>0.148751</td>\n",
       "    </tr>\n",
       "    <tr>\n",
       "      <th>3</th>\n",
       "      <td>0.0000</td>\n",
       "      <td>0.009852</td>\n",
       "      <td>0.310345</td>\n",
       "      <td>0.000000</td>\n",
       "      <td>0.022222</td>\n",
       "      <td>0.0</td>\n",
       "      <td>0.36</td>\n",
       "      <td>0.379926</td>\n",
       "      <td>0.461538</td>\n",
       "      <td>0.500000</td>\n",
       "      <td>...</td>\n",
       "      <td>0.0</td>\n",
       "      <td>0.0</td>\n",
       "      <td>0.0</td>\n",
       "      <td>0.0</td>\n",
       "      <td>0.0</td>\n",
       "      <td>1.000000</td>\n",
       "      <td>0.550000</td>\n",
       "      <td>0.315068</td>\n",
       "      <td>0.916823</td>\n",
       "      <td>0.083177</td>\n",
       "    </tr>\n",
       "    <tr>\n",
       "      <th>4</th>\n",
       "      <td>0.7500</td>\n",
       "      <td>0.655172</td>\n",
       "      <td>0.724138</td>\n",
       "      <td>0.782609</td>\n",
       "      <td>0.311111</td>\n",
       "      <td>1.0</td>\n",
       "      <td>0.16</td>\n",
       "      <td>0.379926</td>\n",
       "      <td>0.400000</td>\n",
       "      <td>0.571429</td>\n",
       "      <td>...</td>\n",
       "      <td>1.0</td>\n",
       "      <td>0.0</td>\n",
       "      <td>0.0</td>\n",
       "      <td>0.0</td>\n",
       "      <td>1.0</td>\n",
       "      <td>0.000000</td>\n",
       "      <td>0.100000</td>\n",
       "      <td>0.390411</td>\n",
       "      <td>0.925215</td>\n",
       "      <td>0.074785</td>\n",
       "    </tr>\n",
       "  </tbody>\n",
       "</table>\n",
       "<p>5 rows × 24 columns</p>\n",
       "</div>"
      ],
      "text/plain": [
       "   Education_new  Occupation_new  Working Status_new  \\\n",
       "0         0.0625        0.502463            0.896552   \n",
       "1         0.8125        0.394089            0.724138   \n",
       "2         0.6875        0.492611            0.724138   \n",
       "3         0.0000        0.009852            0.310345   \n",
       "4         0.7500        0.655172            0.724138   \n",
       "\n",
       "   Smoking (packet/year)_new       Age  DM   HT duration_new  MMSE_new  \\\n",
       "0                   0.898551  0.000000  0.0             0.00  1.000000   \n",
       "1                   0.724638  0.488889  0.0             0.60  0.379926   \n",
       "2                   0.536232  0.577778  1.0             0.40  0.750000   \n",
       "3                   0.000000  0.022222  0.0             0.36  0.379926   \n",
       "4                   0.782609  0.311111  1.0             0.16  0.379926   \n",
       "\n",
       "   Weight_new  Height_new  ...  Gender_M    Alcohol_REGULAR    Alcohol_SOCIAL  \\\n",
       "0    0.076923    0.476190  ...       0.0                0.0               0.0   \n",
       "1    0.723077    0.571429  ...       1.0                0.0               0.0   \n",
       "2    0.692308    0.309524  ...       0.0                0.0               0.0   \n",
       "3    0.461538    0.500000  ...       0.0                0.0               0.0   \n",
       "4    0.400000    0.571429  ...       1.0                0.0               0.0   \n",
       "\n",
       "   Exercise_new_1-2/WEEK  Exercise_new_3-4/WEEK  LowCST_new   CST_new  \\\n",
       "0                    0.0                    0.0    0.318059  0.950000   \n",
       "1                    0.0                    0.0    0.000000  0.314286   \n",
       "2                    0.0                    0.0    0.318059  0.450000   \n",
       "3                    0.0                    0.0    1.000000  0.550000   \n",
       "4                    0.0                    1.0    0.000000  0.100000   \n",
       "\n",
       "   Gait speed_new   Prob2_0   Prob2_1  \n",
       "0        0.719178  0.960008  0.039992  \n",
       "1        0.321918  0.866623  0.133377  \n",
       "2        0.390411  0.851249  0.148751  \n",
       "3        0.315068  0.916823  0.083177  \n",
       "4        0.390411  0.925215  0.074785  \n",
       "\n",
       "[5 rows x 24 columns]"
      ]
     },
     "execution_count": 131,
     "metadata": {},
     "output_type": "execute_result"
    }
   ],
   "source": [
    "X_test['Prob2_0']=pd.DataFrame(X_test_proba2[:,0],columns=['Prob2_0'])\n",
    "X_test['Prob2_1']=pd.DataFrame(X_test_proba2[:,1],columns=['Prob2_1'])\n",
    "X_test.head()"
   ]
  },
  {
   "cell_type": "code",
   "execution_count": 132,
   "id": "acbf43a5",
   "metadata": {},
   "outputs": [
    {
     "data": {
      "text/plain": [
       "Int64Index([ 24,  61,  64,  67,  89,  94, 100, 119, 127, 157, 162, 167, 228,\n",
       "            237, 261, 276, 294, 327, 332, 379, 380, 389, 396, 429, 466, 508,\n",
       "            543, 544, 556, 648, 661, 668, 669, 675, 678, 705, 738, 761, 795,\n",
       "            799, 821, 836, 847, 849, 857, 860, 862, 896, 976],\n",
       "           dtype='int64')"
      ]
     },
     "execution_count": 132,
     "metadata": {},
     "output_type": "execute_result"
    }
   ],
   "source": [
    "ind2_train = X_train[X_train['Prob2_1']>=0.70].index\n",
    "ind2_train"
   ]
  },
  {
   "cell_type": "code",
   "execution_count": 133,
   "id": "e5f20786",
   "metadata": {},
   "outputs": [
    {
     "data": {
      "text/plain": [
       "Int64Index([5, 34, 98, 103, 125, 140, 144, 178, 253], dtype='int64')"
      ]
     },
     "execution_count": 133,
     "metadata": {},
     "output_type": "execute_result"
    }
   ],
   "source": [
    "ind2_test = X_test[X_test['Prob2_1']>=0.70].index\n",
    "ind2_test"
   ]
  },
  {
   "cell_type": "code",
   "execution_count": 134,
   "id": "aee8ef32",
   "metadata": {},
   "outputs": [
    {
     "data": {
      "text/plain": [
       "(958, 37)"
      ]
     },
     "execution_count": 134,
     "metadata": {},
     "output_type": "execute_result"
    }
   ],
   "source": [
    "df_X_train_copy.drop(ind2_train,axis=0,inplace=True)\n",
    "df_X_train_copy.shape\n"
   ]
  },
  {
   "cell_type": "code",
   "execution_count": 135,
   "id": "a978d682",
   "metadata": {},
   "outputs": [
    {
     "data": {
      "text/plain": [
       "(247, 37)"
      ]
     },
     "execution_count": 135,
     "metadata": {},
     "output_type": "execute_result"
    }
   ],
   "source": [
    "df_X_test_copy.drop(ind2_test,axis=0,inplace=True)\n",
    "df_X_test_copy.shape\n"
   ]
  },
  {
   "cell_type": "code",
   "execution_count": 136,
   "id": "2e6829fd",
   "metadata": {},
   "outputs": [
    {
     "data": {
      "text/plain": [
       "(958, 1)"
      ]
     },
     "execution_count": 136,
     "metadata": {},
     "output_type": "execute_result"
    }
   ],
   "source": [
    "df_y_train_copy.drop(ind2_train,axis=0,inplace=True)\n",
    "df_y_train_copy.shape"
   ]
  },
  {
   "cell_type": "code",
   "execution_count": 137,
   "id": "505e6414",
   "metadata": {},
   "outputs": [
    {
     "data": {
      "text/plain": [
       "(247, 1)"
      ]
     },
     "execution_count": 137,
     "metadata": {},
     "output_type": "execute_result"
    }
   ],
   "source": [
    "df_y_test_copy.drop(ind2_test,axis=0,inplace=True)\n",
    "df_y_test_copy.shape"
   ]
  },
  {
   "cell_type": "markdown",
   "id": "ec7044d5",
   "metadata": {},
   "source": [
    "### Build the model 3 with variables avaliable when patient is at home plus CST, GSP and GST"
   ]
  },
  {
   "cell_type": "code",
   "execution_count": 138,
   "id": "ebbdac11",
   "metadata": {},
   "outputs": [
    {
     "name": "stdout",
     "output_type": "stream",
     "text": [
      "['Education_new', 'Occupation_new', 'Working Status_new', 'Smoking (packet/year)_new', 'Age', 'DM ', 'HT duration_new', 'MMSE_new', 'Weight_new', 'Height_new', 'Waist_new', 'Hip_new', 'Smoking_new', 'DM duration_new', 'Gender_M', '  Alcohol_REGULAR', '  Alcohol_SOCIAL', 'Exercise_new_1-2/WEEK', 'Exercise_new_3-4/WEEK', 'LowCST_new', 'CST_new', 'Gait speed_new', 'Grip strength_new']\n"
     ]
    }
   ],
   "source": [
    "cols3 = copy.deepcopy(cols2)\n",
    "cols3.append('Grip strength_new')\n",
    "print(cols3)"
   ]
  },
  {
   "cell_type": "code",
   "execution_count": 139,
   "id": "da062dc7",
   "metadata": {},
   "outputs": [
    {
     "data": {
      "text/plain": [
       "(958, 23)"
      ]
     },
     "execution_count": 139,
     "metadata": {},
     "output_type": "execute_result"
    }
   ],
   "source": [
    "X_train = df_X_train_copy[cols3]\n",
    "X_train.shape"
   ]
  },
  {
   "cell_type": "code",
   "execution_count": 140,
   "id": "db990713",
   "metadata": {},
   "outputs": [
    {
     "data": {
      "text/plain": [
       "(247, 23)"
      ]
     },
     "execution_count": 140,
     "metadata": {},
     "output_type": "execute_result"
    }
   ],
   "source": [
    "X_test= df_X_test_copy[cols3]\n",
    "X_test.shape"
   ]
  },
  {
   "cell_type": "code",
   "execution_count": 141,
   "id": "ea2df3eb",
   "metadata": {},
   "outputs": [
    {
     "data": {
      "text/plain": [
       "(958, 1)"
      ]
     },
     "execution_count": 141,
     "metadata": {},
     "output_type": "execute_result"
    }
   ],
   "source": [
    "y_train = df_y_train_copy\n",
    "y_train.shape"
   ]
  },
  {
   "cell_type": "code",
   "execution_count": 142,
   "id": "ceef75f5",
   "metadata": {},
   "outputs": [
    {
     "data": {
      "text/plain": [
       "(247, 1)"
      ]
     },
     "execution_count": 142,
     "metadata": {},
     "output_type": "execute_result"
    }
   ],
   "source": [
    "y_test = df_y_test_copy\n",
    "y_test.shape"
   ]
  },
  {
   "cell_type": "code",
   "execution_count": 143,
   "id": "d2c8fbfc",
   "metadata": {},
   "outputs": [
    {
     "data": {
      "text/html": [
       "<style>#sk-container-id-12 {color: black;background-color: white;}#sk-container-id-12 pre{padding: 0;}#sk-container-id-12 div.sk-toggleable {background-color: white;}#sk-container-id-12 label.sk-toggleable__label {cursor: pointer;display: block;width: 100%;margin-bottom: 0;padding: 0.3em;box-sizing: border-box;text-align: center;}#sk-container-id-12 label.sk-toggleable__label-arrow:before {content: \"▸\";float: left;margin-right: 0.25em;color: #696969;}#sk-container-id-12 label.sk-toggleable__label-arrow:hover:before {color: black;}#sk-container-id-12 div.sk-estimator:hover label.sk-toggleable__label-arrow:before {color: black;}#sk-container-id-12 div.sk-toggleable__content {max-height: 0;max-width: 0;overflow: hidden;text-align: left;background-color: #f0f8ff;}#sk-container-id-12 div.sk-toggleable__content pre {margin: 0.2em;color: black;border-radius: 0.25em;background-color: #f0f8ff;}#sk-container-id-12 input.sk-toggleable__control:checked~div.sk-toggleable__content {max-height: 200px;max-width: 100%;overflow: auto;}#sk-container-id-12 input.sk-toggleable__control:checked~label.sk-toggleable__label-arrow:before {content: \"▾\";}#sk-container-id-12 div.sk-estimator input.sk-toggleable__control:checked~label.sk-toggleable__label {background-color: #d4ebff;}#sk-container-id-12 div.sk-label input.sk-toggleable__control:checked~label.sk-toggleable__label {background-color: #d4ebff;}#sk-container-id-12 input.sk-hidden--visually {border: 0;clip: rect(1px 1px 1px 1px);clip: rect(1px, 1px, 1px, 1px);height: 1px;margin: -1px;overflow: hidden;padding: 0;position: absolute;width: 1px;}#sk-container-id-12 div.sk-estimator {font-family: monospace;background-color: #f0f8ff;border: 1px dotted black;border-radius: 0.25em;box-sizing: border-box;margin-bottom: 0.5em;}#sk-container-id-12 div.sk-estimator:hover {background-color: #d4ebff;}#sk-container-id-12 div.sk-parallel-item::after {content: \"\";width: 100%;border-bottom: 1px solid gray;flex-grow: 1;}#sk-container-id-12 div.sk-label:hover label.sk-toggleable__label {background-color: #d4ebff;}#sk-container-id-12 div.sk-serial::before {content: \"\";position: absolute;border-left: 1px solid gray;box-sizing: border-box;top: 0;bottom: 0;left: 50%;z-index: 0;}#sk-container-id-12 div.sk-serial {display: flex;flex-direction: column;align-items: center;background-color: white;padding-right: 0.2em;padding-left: 0.2em;position: relative;}#sk-container-id-12 div.sk-item {position: relative;z-index: 1;}#sk-container-id-12 div.sk-parallel {display: flex;align-items: stretch;justify-content: center;background-color: white;position: relative;}#sk-container-id-12 div.sk-item::before, #sk-container-id-12 div.sk-parallel-item::before {content: \"\";position: absolute;border-left: 1px solid gray;box-sizing: border-box;top: 0;bottom: 0;left: 50%;z-index: -1;}#sk-container-id-12 div.sk-parallel-item {display: flex;flex-direction: column;z-index: 1;position: relative;background-color: white;}#sk-container-id-12 div.sk-parallel-item:first-child::after {align-self: flex-end;width: 50%;}#sk-container-id-12 div.sk-parallel-item:last-child::after {align-self: flex-start;width: 50%;}#sk-container-id-12 div.sk-parallel-item:only-child::after {width: 0;}#sk-container-id-12 div.sk-dashed-wrapped {border: 1px dashed gray;margin: 0 0.4em 0.5em 0.4em;box-sizing: border-box;padding-bottom: 0.4em;background-color: white;}#sk-container-id-12 div.sk-label label {font-family: monospace;font-weight: bold;display: inline-block;line-height: 1.2em;}#sk-container-id-12 div.sk-label-container {text-align: center;}#sk-container-id-12 div.sk-container {/* jupyter's `normalize.less` sets `[hidden] { display: none; }` but bootstrap.min.css set `[hidden] { display: none !important; }` so we also need the `!important` here to be able to override the default hidden behavior on the sphinx rendered scikit-learn.org. See: https://github.com/scikit-learn/scikit-learn/issues/21755 */display: inline-block !important;position: relative;}#sk-container-id-12 div.sk-text-repr-fallback {display: none;}</style><div id=\"sk-container-id-12\" class=\"sk-top-container\"><div class=\"sk-text-repr-fallback\"><pre>GradientBoostingClassifier(max_features=5, random_state=100)</pre><b>In a Jupyter environment, please rerun this cell to show the HTML representation or trust the notebook. <br />On GitHub, the HTML representation is unable to render, please try loading this page with nbviewer.org.</b></div><div class=\"sk-container\" hidden><div class=\"sk-item\"><div class=\"sk-estimator sk-toggleable\"><input class=\"sk-toggleable__control sk-hidden--visually\" id=\"sk-estimator-id-12\" type=\"checkbox\" checked><label for=\"sk-estimator-id-12\" class=\"sk-toggleable__label sk-toggleable__label-arrow\">GradientBoostingClassifier</label><div class=\"sk-toggleable__content\"><pre>GradientBoostingClassifier(max_features=5, random_state=100)</pre></div></div></div></div></div>"
      ],
      "text/plain": [
       "GradientBoostingClassifier(max_features=5, random_state=100)"
      ]
     },
     "execution_count": 143,
     "metadata": {},
     "output_type": "execute_result"
    }
   ],
   "source": [
    "gb3 = GradientBoostingClassifier(\n",
    "                                loss='log_loss',#loss function to be optimized\n",
    "                                learning_rate=0.1,#shrinks the contribution of each tree by `learning_rate`\n",
    "                                n_estimators=100,#number of boosting stages to perform\n",
    "                                subsample=1.0,#fraction of samples to be used for fitting the individual base learners.\n",
    "                                random_state=100,\n",
    "                                max_features=5#number of features to consider when looking for the best split \n",
    "                               )\n",
    "\n",
    "\n",
    "gb3\n"
   ]
  },
  {
   "cell_type": "code",
   "execution_count": 144,
   "id": "49087179",
   "metadata": {},
   "outputs": [],
   "source": [
    "gb3.fit(X_train,y_train)\n",
    "y_pred_gb3 = gb3.predict(X_test)\n"
   ]
  },
  {
   "cell_type": "code",
   "execution_count": 145,
   "id": "1fb9e4d1",
   "metadata": {},
   "outputs": [
    {
     "data": {
      "text/plain": [
       "0.8623481781376519"
      ]
     },
     "execution_count": 145,
     "metadata": {},
     "output_type": "execute_result"
    }
   ],
   "source": [
    "from sklearn.metrics import accuracy_score\n",
    "acc3 = accuracy_score(y_pred_gb3, y_test)\n",
    "acc3\n"
   ]
  },
  {
   "cell_type": "code",
   "execution_count": 146,
   "id": "be252e05",
   "metadata": {},
   "outputs": [
    {
     "data": {
      "text/plain": [
       "array([[0.90657596, 0.09342404],\n",
       "       [0.98475134, 0.01524866],\n",
       "       [0.97165808, 0.02834192],\n",
       "       ...,\n",
       "       [0.96705461, 0.03294539],\n",
       "       [0.98619928, 0.01380072],\n",
       "       [0.95592611, 0.04407389]])"
      ]
     },
     "execution_count": 146,
     "metadata": {},
     "output_type": "execute_result"
    }
   ],
   "source": [
    "X_train_proba3 = gb3.predict_proba(X_train)\n",
    "X_train_proba3[:,:]\n"
   ]
  },
  {
   "cell_type": "code",
   "execution_count": 147,
   "id": "f250b2b9",
   "metadata": {},
   "outputs": [
    {
     "data": {
      "text/plain": [
       "array([[0.93552002, 0.06447998],\n",
       "       [0.95535077, 0.04464923],\n",
       "       [0.47287664, 0.52712336],\n",
       "       [0.91022611, 0.08977389],\n",
       "       [0.98384907, 0.01615093],\n",
       "       [0.98491754, 0.01508246],\n",
       "       [0.9901563 , 0.0098437 ],\n",
       "       [0.95184338, 0.04815662],\n",
       "       [0.97986736, 0.02013264],\n",
       "       [0.89780462, 0.10219538],\n",
       "       [0.98728143, 0.01271857],\n",
       "       [0.98102075, 0.01897925],\n",
       "       [0.47749952, 0.52250048],\n",
       "       [0.90235298, 0.09764702],\n",
       "       [0.99383918, 0.00616082],\n",
       "       [0.56737823, 0.43262177],\n",
       "       [0.97845003, 0.02154997],\n",
       "       [0.97231749, 0.02768251],\n",
       "       [0.98344309, 0.01655691],\n",
       "       [0.94542135, 0.05457865],\n",
       "       [0.8984075 , 0.1015925 ],\n",
       "       [0.73793475, 0.26206525],\n",
       "       [0.98218944, 0.01781056],\n",
       "       [0.9739301 , 0.0260699 ],\n",
       "       [0.9833922 , 0.0166078 ],\n",
       "       [0.97840232, 0.02159768],\n",
       "       [0.98830339, 0.01169661],\n",
       "       [0.75892021, 0.24107979],\n",
       "       [0.99045723, 0.00954277],\n",
       "       [0.91853769, 0.08146231],\n",
       "       [0.98296102, 0.01703898],\n",
       "       [0.98462221, 0.01537779],\n",
       "       [0.1119315 , 0.8880685 ],\n",
       "       [0.98343946, 0.01656054],\n",
       "       [0.99424836, 0.00575164],\n",
       "       [0.98368225, 0.01631775],\n",
       "       [0.98945311, 0.01054689],\n",
       "       [0.95054391, 0.04945609],\n",
       "       [0.4983046 , 0.5016954 ],\n",
       "       [0.99112898, 0.00887102],\n",
       "       [0.16484089, 0.83515911],\n",
       "       [0.70032309, 0.29967691],\n",
       "       [0.98261628, 0.01738372],\n",
       "       [0.95901821, 0.04098179],\n",
       "       [0.98527836, 0.01472164],\n",
       "       [0.93083681, 0.06916319],\n",
       "       [0.98974453, 0.01025547],\n",
       "       [0.97477565, 0.02522435],\n",
       "       [0.97376957, 0.02623043],\n",
       "       [0.96654921, 0.03345079],\n",
       "       [0.97735179, 0.02264821],\n",
       "       [0.98695333, 0.01304667],\n",
       "       [0.91893795, 0.08106205],\n",
       "       [0.97213162, 0.02786838],\n",
       "       [0.74086967, 0.25913033],\n",
       "       [0.91367138, 0.08632862],\n",
       "       [0.98068536, 0.01931464],\n",
       "       [0.98677091, 0.01322909],\n",
       "       [0.21037646, 0.78962354],\n",
       "       [0.93795568, 0.06204432],\n",
       "       [0.98680163, 0.01319837],\n",
       "       [0.9687741 , 0.0312259 ],\n",
       "       [0.97991054, 0.02008946],\n",
       "       [0.90508567, 0.09491433],\n",
       "       [0.96366815, 0.03633185],\n",
       "       [0.97419348, 0.02580652],\n",
       "       [0.14297623, 0.85702377],\n",
       "       [0.96448522, 0.03551478],\n",
       "       [0.34131427, 0.65868573],\n",
       "       [0.8583684 , 0.1416316 ],\n",
       "       [0.96726099, 0.03273901],\n",
       "       [0.97179586, 0.02820414],\n",
       "       [0.95261259, 0.04738741],\n",
       "       [0.89931201, 0.10068799],\n",
       "       [0.98189032, 0.01810968],\n",
       "       [0.99298023, 0.00701977],\n",
       "       [0.21772398, 0.78227602],\n",
       "       [0.67945747, 0.32054253],\n",
       "       [0.99495499, 0.00504501],\n",
       "       [0.69529152, 0.30470848],\n",
       "       [0.66842018, 0.33157982],\n",
       "       [0.98652131, 0.01347869],\n",
       "       [0.99158565, 0.00841435],\n",
       "       [0.97867929, 0.02132071],\n",
       "       [0.98014533, 0.01985467],\n",
       "       [0.88808189, 0.11191811],\n",
       "       [0.99205181, 0.00794819],\n",
       "       [0.51446982, 0.48553018],\n",
       "       [0.58936427, 0.41063573],\n",
       "       [0.71287305, 0.28712695],\n",
       "       [0.96922869, 0.03077131],\n",
       "       [0.97362397, 0.02637603],\n",
       "       [0.92560147, 0.07439853],\n",
       "       [0.98384026, 0.01615974],\n",
       "       [0.84764394, 0.15235606],\n",
       "       [0.59387673, 0.40612327],\n",
       "       [0.98702751, 0.01297249],\n",
       "       [0.91216032, 0.08783968],\n",
       "       [0.93347311, 0.06652689],\n",
       "       [0.23709022, 0.76290978],\n",
       "       [0.95137759, 0.04862241],\n",
       "       [0.94450419, 0.05549581],\n",
       "       [0.91754486, 0.08245514],\n",
       "       [0.76632096, 0.23367904],\n",
       "       [0.97370534, 0.02629466],\n",
       "       [0.98760022, 0.01239978],\n",
       "       [0.98761545, 0.01238455],\n",
       "       [0.85828464, 0.14171536],\n",
       "       [0.93922271, 0.06077729],\n",
       "       [0.97851517, 0.02148483],\n",
       "       [0.9906203 , 0.0093797 ],\n",
       "       [0.64162774, 0.35837226],\n",
       "       [0.55619864, 0.44380136],\n",
       "       [0.61302016, 0.38697984],\n",
       "       [0.57382108, 0.42617892],\n",
       "       [0.95697391, 0.04302609],\n",
       "       [0.98215419, 0.01784581],\n",
       "       [0.97448003, 0.02551997],\n",
       "       [0.85806004, 0.14193996],\n",
       "       [0.63601406, 0.36398594],\n",
       "       [0.58020481, 0.41979519],\n",
       "       [0.95735368, 0.04264632],\n",
       "       [0.99473608, 0.00526392],\n",
       "       [0.98432819, 0.01567181],\n",
       "       [0.98674963, 0.01325037],\n",
       "       [0.99123735, 0.00876265],\n",
       "       [0.92411172, 0.07588828],\n",
       "       [0.69467555, 0.30532445],\n",
       "       [0.98874993, 0.01125007],\n",
       "       [0.97428771, 0.02571229],\n",
       "       [0.52441723, 0.47558277],\n",
       "       [0.62574968, 0.37425032],\n",
       "       [0.99288352, 0.00711648],\n",
       "       [0.97372223, 0.02627777],\n",
       "       [0.97187951, 0.02812049],\n",
       "       [0.89239252, 0.10760748],\n",
       "       [0.86706701, 0.13293299],\n",
       "       [0.26639481, 0.73360519],\n",
       "       [0.99116496, 0.00883504],\n",
       "       [0.83769694, 0.16230306],\n",
       "       [0.96359777, 0.03640223],\n",
       "       [0.98159375, 0.01840625],\n",
       "       [0.33060992, 0.66939008],\n",
       "       [0.98721422, 0.01278578],\n",
       "       [0.98857371, 0.01142629],\n",
       "       [0.9900341 , 0.0099659 ],\n",
       "       [0.98594159, 0.01405841],\n",
       "       [0.97363219, 0.02636781],\n",
       "       [0.98742414, 0.01257586],\n",
       "       [0.96599518, 0.03400482],\n",
       "       [0.73107768, 0.26892232],\n",
       "       [0.96569598, 0.03430402],\n",
       "       [0.9751669 , 0.0248331 ],\n",
       "       [0.84507493, 0.15492507],\n",
       "       [0.99636956, 0.00363044],\n",
       "       [0.98606942, 0.01393058],\n",
       "       [0.9776265 , 0.0223735 ],\n",
       "       [0.22927943, 0.77072057],\n",
       "       [0.98809811, 0.01190189],\n",
       "       [0.94942781, 0.05057219],\n",
       "       [0.6419571 , 0.3580429 ],\n",
       "       [0.98047988, 0.01952012],\n",
       "       [0.44349475, 0.55650525],\n",
       "       [0.32078059, 0.67921941],\n",
       "       [0.35612159, 0.64387841],\n",
       "       [0.79765095, 0.20234905],\n",
       "       [0.9703206 , 0.0296794 ],\n",
       "       [0.99212892, 0.00787108],\n",
       "       [0.80086429, 0.19913571],\n",
       "       [0.98933865, 0.01066135],\n",
       "       [0.84213145, 0.15786855],\n",
       "       [0.96916151, 0.03083849],\n",
       "       [0.935575  , 0.064425  ],\n",
       "       [0.82053935, 0.17946065],\n",
       "       [0.98343272, 0.01656728],\n",
       "       [0.99469871, 0.00530129],\n",
       "       [0.88235263, 0.11764737],\n",
       "       [0.9803708 , 0.0196292 ],\n",
       "       [0.96839959, 0.03160041],\n",
       "       [0.91700184, 0.08299816],\n",
       "       [0.99270139, 0.00729861],\n",
       "       [0.56168305, 0.43831695],\n",
       "       [0.98483153, 0.01516847],\n",
       "       [0.59366582, 0.40633418],\n",
       "       [0.34019744, 0.65980256],\n",
       "       [0.95796622, 0.04203378],\n",
       "       [0.88533397, 0.11466603],\n",
       "       [0.98367158, 0.01632842],\n",
       "       [0.98068501, 0.01931499],\n",
       "       [0.57730394, 0.42269606],\n",
       "       [0.63059439, 0.36940561],\n",
       "       [0.71972903, 0.28027097],\n",
       "       [0.93588273, 0.06411727],\n",
       "       [0.93965354, 0.06034646],\n",
       "       [0.93003264, 0.06996736],\n",
       "       [0.96978317, 0.03021683],\n",
       "       [0.9604922 , 0.0395078 ],\n",
       "       [0.41491386, 0.58508614],\n",
       "       [0.98805789, 0.01194211],\n",
       "       [0.95394825, 0.04605175],\n",
       "       [0.96182906, 0.03817094],\n",
       "       [0.62075103, 0.37924897],\n",
       "       [0.96383135, 0.03616865],\n",
       "       [0.95457949, 0.04542051],\n",
       "       [0.64516287, 0.35483713],\n",
       "       [0.84619644, 0.15380356],\n",
       "       [0.98999703, 0.01000297],\n",
       "       [0.46261408, 0.53738592],\n",
       "       [0.91154009, 0.08845991],\n",
       "       [0.98236581, 0.01763419],\n",
       "       [0.80721908, 0.19278092],\n",
       "       [0.9898407 , 0.0101593 ],\n",
       "       [0.94110481, 0.05889519],\n",
       "       [0.8930554 , 0.1069446 ],\n",
       "       [0.9273588 , 0.0726412 ],\n",
       "       [0.98400187, 0.01599813],\n",
       "       [0.89813555, 0.10186445],\n",
       "       [0.81087628, 0.18912372],\n",
       "       [0.96929607, 0.03070393],\n",
       "       [0.93918981, 0.06081019],\n",
       "       [0.97998746, 0.02001254],\n",
       "       [0.79070421, 0.20929579],\n",
       "       [0.52661469, 0.47338531],\n",
       "       [0.86532056, 0.13467944],\n",
       "       [0.97082042, 0.02917958],\n",
       "       [0.98809919, 0.01190081],\n",
       "       [0.79694691, 0.20305309],\n",
       "       [0.97410245, 0.02589755],\n",
       "       [0.53839989, 0.46160011],\n",
       "       [0.98393118, 0.01606882],\n",
       "       [0.98061678, 0.01938322],\n",
       "       [0.90998846, 0.09001154],\n",
       "       [0.94101145, 0.05898855],\n",
       "       [0.98617812, 0.01382188],\n",
       "       [0.97381636, 0.02618364],\n",
       "       [0.94443228, 0.05556772],\n",
       "       [0.94075227, 0.05924773],\n",
       "       [0.96460787, 0.03539213],\n",
       "       [0.63980553, 0.36019447],\n",
       "       [0.49313012, 0.50686988],\n",
       "       [0.97302461, 0.02697539],\n",
       "       [0.98405141, 0.01594859],\n",
       "       [0.96287622, 0.03712378],\n",
       "       [0.2350071 , 0.7649929 ],\n",
       "       [0.36902715, 0.63097285],\n",
       "       [0.84195867, 0.15804133],\n",
       "       [0.91956895, 0.08043105]])"
      ]
     },
     "execution_count": 147,
     "metadata": {},
     "output_type": "execute_result"
    }
   ],
   "source": [
    "X_test_proba3 = gb3.predict_proba(X_test)\n",
    "X_test_proba3[:,:]\n"
   ]
  },
  {
   "cell_type": "code",
   "execution_count": 148,
   "id": "3f6f5db8",
   "metadata": {},
   "outputs": [
    {
     "data": {
      "text/html": [
       "<div>\n",
       "<style scoped>\n",
       "    .dataframe tbody tr th:only-of-type {\n",
       "        vertical-align: middle;\n",
       "    }\n",
       "\n",
       "    .dataframe tbody tr th {\n",
       "        vertical-align: top;\n",
       "    }\n",
       "\n",
       "    .dataframe thead th {\n",
       "        text-align: right;\n",
       "    }\n",
       "</style>\n",
       "<table border=\"1\" class=\"dataframe\">\n",
       "  <thead>\n",
       "    <tr style=\"text-align: right;\">\n",
       "      <th></th>\n",
       "      <th>Education_new</th>\n",
       "      <th>Occupation_new</th>\n",
       "      <th>Working Status_new</th>\n",
       "      <th>Smoking (packet/year)_new</th>\n",
       "      <th>Age</th>\n",
       "      <th>DM</th>\n",
       "      <th>HT duration_new</th>\n",
       "      <th>MMSE_new</th>\n",
       "      <th>Weight_new</th>\n",
       "      <th>Height_new</th>\n",
       "      <th>...</th>\n",
       "      <th>Alcohol_REGULAR</th>\n",
       "      <th>Alcohol_SOCIAL</th>\n",
       "      <th>Exercise_new_1-2/WEEK</th>\n",
       "      <th>Exercise_new_3-4/WEEK</th>\n",
       "      <th>LowCST_new</th>\n",
       "      <th>CST_new</th>\n",
       "      <th>Gait speed_new</th>\n",
       "      <th>Grip strength_new</th>\n",
       "      <th>Prob3_0</th>\n",
       "      <th>Prob3_1</th>\n",
       "    </tr>\n",
       "  </thead>\n",
       "  <tbody>\n",
       "    <tr>\n",
       "      <th>0</th>\n",
       "      <td>0.8125</td>\n",
       "      <td>0.423645</td>\n",
       "      <td>0.448276</td>\n",
       "      <td>0.000000</td>\n",
       "      <td>0.177778</td>\n",
       "      <td>0.0</td>\n",
       "      <td>0.16</td>\n",
       "      <td>0.379926</td>\n",
       "      <td>0.430769</td>\n",
       "      <td>0.785714</td>\n",
       "      <td>...</td>\n",
       "      <td>0.0</td>\n",
       "      <td>0.0</td>\n",
       "      <td>1.0</td>\n",
       "      <td>0.0</td>\n",
       "      <td>0.000000</td>\n",
       "      <td>0.514286</td>\n",
       "      <td>0.630137</td>\n",
       "      <td>0.534884</td>\n",
       "      <td>0.906576</td>\n",
       "      <td>0.093424</td>\n",
       "    </tr>\n",
       "    <tr>\n",
       "      <th>1</th>\n",
       "      <td>0.8125</td>\n",
       "      <td>0.689655</td>\n",
       "      <td>0.793103</td>\n",
       "      <td>0.000000</td>\n",
       "      <td>0.022222</td>\n",
       "      <td>0.0</td>\n",
       "      <td>0.00</td>\n",
       "      <td>0.379926</td>\n",
       "      <td>0.692308</td>\n",
       "      <td>0.476190</td>\n",
       "      <td>...</td>\n",
       "      <td>0.0</td>\n",
       "      <td>0.0</td>\n",
       "      <td>0.0</td>\n",
       "      <td>0.0</td>\n",
       "      <td>0.000000</td>\n",
       "      <td>0.242857</td>\n",
       "      <td>0.602740</td>\n",
       "      <td>0.441860</td>\n",
       "      <td>0.984751</td>\n",
       "      <td>0.015249</td>\n",
       "    </tr>\n",
       "    <tr>\n",
       "      <th>2</th>\n",
       "      <td>0.7500</td>\n",
       "      <td>0.995074</td>\n",
       "      <td>0.931034</td>\n",
       "      <td>0.637681</td>\n",
       "      <td>0.177778</td>\n",
       "      <td>0.0</td>\n",
       "      <td>0.80</td>\n",
       "      <td>0.250000</td>\n",
       "      <td>0.661538</td>\n",
       "      <td>0.571429</td>\n",
       "      <td>...</td>\n",
       "      <td>0.0</td>\n",
       "      <td>0.0</td>\n",
       "      <td>0.0</td>\n",
       "      <td>0.0</td>\n",
       "      <td>0.000000</td>\n",
       "      <td>0.542857</td>\n",
       "      <td>0.205479</td>\n",
       "      <td>0.790698</td>\n",
       "      <td>0.971658</td>\n",
       "      <td>0.028342</td>\n",
       "    </tr>\n",
       "    <tr>\n",
       "      <th>3</th>\n",
       "      <td>0.0000</td>\n",
       "      <td>0.137931</td>\n",
       "      <td>0.724138</td>\n",
       "      <td>0.420290</td>\n",
       "      <td>0.200000</td>\n",
       "      <td>0.0</td>\n",
       "      <td>0.28</td>\n",
       "      <td>0.379926</td>\n",
       "      <td>0.584615</td>\n",
       "      <td>0.714286</td>\n",
       "      <td>...</td>\n",
       "      <td>0.0</td>\n",
       "      <td>0.0</td>\n",
       "      <td>1.0</td>\n",
       "      <td>0.0</td>\n",
       "      <td>1.000000</td>\n",
       "      <td>0.550000</td>\n",
       "      <td>0.719178</td>\n",
       "      <td>0.302326</td>\n",
       "      <td>0.958105</td>\n",
       "      <td>0.041895</td>\n",
       "    </tr>\n",
       "    <tr>\n",
       "      <th>4</th>\n",
       "      <td>0.1250</td>\n",
       "      <td>0.960591</td>\n",
       "      <td>0.034483</td>\n",
       "      <td>0.000000</td>\n",
       "      <td>0.000000</td>\n",
       "      <td>0.0</td>\n",
       "      <td>0.01</td>\n",
       "      <td>1.000000</td>\n",
       "      <td>0.446154</td>\n",
       "      <td>0.357143</td>\n",
       "      <td>...</td>\n",
       "      <td>0.0</td>\n",
       "      <td>0.0</td>\n",
       "      <td>0.0</td>\n",
       "      <td>0.0</td>\n",
       "      <td>0.318059</td>\n",
       "      <td>0.714286</td>\n",
       "      <td>0.589041</td>\n",
       "      <td>0.395349</td>\n",
       "      <td>0.815787</td>\n",
       "      <td>0.184213</td>\n",
       "    </tr>\n",
       "  </tbody>\n",
       "</table>\n",
       "<p>5 rows × 25 columns</p>\n",
       "</div>"
      ],
      "text/plain": [
       "   Education_new  Occupation_new  Working Status_new  \\\n",
       "0         0.8125        0.423645            0.448276   \n",
       "1         0.8125        0.689655            0.793103   \n",
       "2         0.7500        0.995074            0.931034   \n",
       "3         0.0000        0.137931            0.724138   \n",
       "4         0.1250        0.960591            0.034483   \n",
       "\n",
       "   Smoking (packet/year)_new       Age  DM   HT duration_new  MMSE_new  \\\n",
       "0                   0.000000  0.177778  0.0             0.16  0.379926   \n",
       "1                   0.000000  0.022222  0.0             0.00  0.379926   \n",
       "2                   0.637681  0.177778  0.0             0.80  0.250000   \n",
       "3                   0.420290  0.200000  0.0             0.28  0.379926   \n",
       "4                   0.000000  0.000000  0.0             0.01  1.000000   \n",
       "\n",
       "   Weight_new  Height_new  ...    Alcohol_REGULAR    Alcohol_SOCIAL  \\\n",
       "0    0.430769    0.785714  ...                0.0               0.0   \n",
       "1    0.692308    0.476190  ...                0.0               0.0   \n",
       "2    0.661538    0.571429  ...                0.0               0.0   \n",
       "3    0.584615    0.714286  ...                0.0               0.0   \n",
       "4    0.446154    0.357143  ...                0.0               0.0   \n",
       "\n",
       "   Exercise_new_1-2/WEEK  Exercise_new_3-4/WEEK  LowCST_new   CST_new  \\\n",
       "0                    1.0                    0.0    0.000000  0.514286   \n",
       "1                    0.0                    0.0    0.000000  0.242857   \n",
       "2                    0.0                    0.0    0.000000  0.542857   \n",
       "3                    1.0                    0.0    1.000000  0.550000   \n",
       "4                    0.0                    0.0    0.318059  0.714286   \n",
       "\n",
       "   Gait speed_new  Grip strength_new   Prob3_0   Prob3_1  \n",
       "0        0.630137           0.534884  0.906576  0.093424  \n",
       "1        0.602740           0.441860  0.984751  0.015249  \n",
       "2        0.205479           0.790698  0.971658  0.028342  \n",
       "3        0.719178           0.302326  0.958105  0.041895  \n",
       "4        0.589041           0.395349  0.815787  0.184213  \n",
       "\n",
       "[5 rows x 25 columns]"
      ]
     },
     "execution_count": 148,
     "metadata": {},
     "output_type": "execute_result"
    }
   ],
   "source": [
    "X_train['Prob3_0']=pd.DataFrame(X_train_proba3[:,0],columns=['Prob3_0'])\n",
    "X_train['Prob3_1']=pd.DataFrame(X_train_proba3[:,1],columns=['Prob3_1'])\n",
    "X_train.head()\n"
   ]
  },
  {
   "cell_type": "code",
   "execution_count": 149,
   "id": "314efac5",
   "metadata": {},
   "outputs": [
    {
     "data": {
      "text/html": [
       "<div>\n",
       "<style scoped>\n",
       "    .dataframe tbody tr th:only-of-type {\n",
       "        vertical-align: middle;\n",
       "    }\n",
       "\n",
       "    .dataframe tbody tr th {\n",
       "        vertical-align: top;\n",
       "    }\n",
       "\n",
       "    .dataframe thead th {\n",
       "        text-align: right;\n",
       "    }\n",
       "</style>\n",
       "<table border=\"1\" class=\"dataframe\">\n",
       "  <thead>\n",
       "    <tr style=\"text-align: right;\">\n",
       "      <th></th>\n",
       "      <th>Education_new</th>\n",
       "      <th>Occupation_new</th>\n",
       "      <th>Working Status_new</th>\n",
       "      <th>Smoking (packet/year)_new</th>\n",
       "      <th>Age</th>\n",
       "      <th>DM</th>\n",
       "      <th>HT duration_new</th>\n",
       "      <th>MMSE_new</th>\n",
       "      <th>Weight_new</th>\n",
       "      <th>Height_new</th>\n",
       "      <th>...</th>\n",
       "      <th>Alcohol_REGULAR</th>\n",
       "      <th>Alcohol_SOCIAL</th>\n",
       "      <th>Exercise_new_1-2/WEEK</th>\n",
       "      <th>Exercise_new_3-4/WEEK</th>\n",
       "      <th>LowCST_new</th>\n",
       "      <th>CST_new</th>\n",
       "      <th>Gait speed_new</th>\n",
       "      <th>Grip strength_new</th>\n",
       "      <th>Prob3_0</th>\n",
       "      <th>Prob3_1</th>\n",
       "    </tr>\n",
       "  </thead>\n",
       "  <tbody>\n",
       "    <tr>\n",
       "      <th>0</th>\n",
       "      <td>0.0625</td>\n",
       "      <td>0.502463</td>\n",
       "      <td>0.896552</td>\n",
       "      <td>0.898551</td>\n",
       "      <td>0.000000</td>\n",
       "      <td>0.0</td>\n",
       "      <td>0.00</td>\n",
       "      <td>1.000000</td>\n",
       "      <td>0.076923</td>\n",
       "      <td>0.476190</td>\n",
       "      <td>...</td>\n",
       "      <td>0.0</td>\n",
       "      <td>0.0</td>\n",
       "      <td>0.0</td>\n",
       "      <td>0.0</td>\n",
       "      <td>0.318059</td>\n",
       "      <td>0.950000</td>\n",
       "      <td>0.719178</td>\n",
       "      <td>0.255814</td>\n",
       "      <td>0.935520</td>\n",
       "      <td>0.064480</td>\n",
       "    </tr>\n",
       "    <tr>\n",
       "      <th>1</th>\n",
       "      <td>0.8125</td>\n",
       "      <td>0.394089</td>\n",
       "      <td>0.724138</td>\n",
       "      <td>0.724638</td>\n",
       "      <td>0.488889</td>\n",
       "      <td>0.0</td>\n",
       "      <td>0.60</td>\n",
       "      <td>0.379926</td>\n",
       "      <td>0.723077</td>\n",
       "      <td>0.571429</td>\n",
       "      <td>...</td>\n",
       "      <td>0.0</td>\n",
       "      <td>0.0</td>\n",
       "      <td>0.0</td>\n",
       "      <td>0.0</td>\n",
       "      <td>0.000000</td>\n",
       "      <td>0.314286</td>\n",
       "      <td>0.321918</td>\n",
       "      <td>0.860465</td>\n",
       "      <td>0.955351</td>\n",
       "      <td>0.044649</td>\n",
       "    </tr>\n",
       "    <tr>\n",
       "      <th>2</th>\n",
       "      <td>0.6875</td>\n",
       "      <td>0.492611</td>\n",
       "      <td>0.724138</td>\n",
       "      <td>0.536232</td>\n",
       "      <td>0.577778</td>\n",
       "      <td>1.0</td>\n",
       "      <td>0.40</td>\n",
       "      <td>0.750000</td>\n",
       "      <td>0.692308</td>\n",
       "      <td>0.309524</td>\n",
       "      <td>...</td>\n",
       "      <td>0.0</td>\n",
       "      <td>0.0</td>\n",
       "      <td>0.0</td>\n",
       "      <td>0.0</td>\n",
       "      <td>0.318059</td>\n",
       "      <td>0.450000</td>\n",
       "      <td>0.390411</td>\n",
       "      <td>0.232558</td>\n",
       "      <td>0.472877</td>\n",
       "      <td>0.527123</td>\n",
       "    </tr>\n",
       "    <tr>\n",
       "      <th>3</th>\n",
       "      <td>0.0000</td>\n",
       "      <td>0.009852</td>\n",
       "      <td>0.310345</td>\n",
       "      <td>0.000000</td>\n",
       "      <td>0.022222</td>\n",
       "      <td>0.0</td>\n",
       "      <td>0.36</td>\n",
       "      <td>0.379926</td>\n",
       "      <td>0.461538</td>\n",
       "      <td>0.500000</td>\n",
       "      <td>...</td>\n",
       "      <td>0.0</td>\n",
       "      <td>0.0</td>\n",
       "      <td>0.0</td>\n",
       "      <td>0.0</td>\n",
       "      <td>1.000000</td>\n",
       "      <td>0.550000</td>\n",
       "      <td>0.315068</td>\n",
       "      <td>0.348837</td>\n",
       "      <td>0.910226</td>\n",
       "      <td>0.089774</td>\n",
       "    </tr>\n",
       "    <tr>\n",
       "      <th>4</th>\n",
       "      <td>0.7500</td>\n",
       "      <td>0.655172</td>\n",
       "      <td>0.724138</td>\n",
       "      <td>0.782609</td>\n",
       "      <td>0.311111</td>\n",
       "      <td>1.0</td>\n",
       "      <td>0.16</td>\n",
       "      <td>0.379926</td>\n",
       "      <td>0.400000</td>\n",
       "      <td>0.571429</td>\n",
       "      <td>...</td>\n",
       "      <td>0.0</td>\n",
       "      <td>0.0</td>\n",
       "      <td>0.0</td>\n",
       "      <td>1.0</td>\n",
       "      <td>0.000000</td>\n",
       "      <td>0.100000</td>\n",
       "      <td>0.390411</td>\n",
       "      <td>0.813953</td>\n",
       "      <td>0.983849</td>\n",
       "      <td>0.016151</td>\n",
       "    </tr>\n",
       "  </tbody>\n",
       "</table>\n",
       "<p>5 rows × 25 columns</p>\n",
       "</div>"
      ],
      "text/plain": [
       "   Education_new  Occupation_new  Working Status_new  \\\n",
       "0         0.0625        0.502463            0.896552   \n",
       "1         0.8125        0.394089            0.724138   \n",
       "2         0.6875        0.492611            0.724138   \n",
       "3         0.0000        0.009852            0.310345   \n",
       "4         0.7500        0.655172            0.724138   \n",
       "\n",
       "   Smoking (packet/year)_new       Age  DM   HT duration_new  MMSE_new  \\\n",
       "0                   0.898551  0.000000  0.0             0.00  1.000000   \n",
       "1                   0.724638  0.488889  0.0             0.60  0.379926   \n",
       "2                   0.536232  0.577778  1.0             0.40  0.750000   \n",
       "3                   0.000000  0.022222  0.0             0.36  0.379926   \n",
       "4                   0.782609  0.311111  1.0             0.16  0.379926   \n",
       "\n",
       "   Weight_new  Height_new  ...    Alcohol_REGULAR    Alcohol_SOCIAL  \\\n",
       "0    0.076923    0.476190  ...                0.0               0.0   \n",
       "1    0.723077    0.571429  ...                0.0               0.0   \n",
       "2    0.692308    0.309524  ...                0.0               0.0   \n",
       "3    0.461538    0.500000  ...                0.0               0.0   \n",
       "4    0.400000    0.571429  ...                0.0               0.0   \n",
       "\n",
       "   Exercise_new_1-2/WEEK  Exercise_new_3-4/WEEK  LowCST_new   CST_new  \\\n",
       "0                    0.0                    0.0    0.318059  0.950000   \n",
       "1                    0.0                    0.0    0.000000  0.314286   \n",
       "2                    0.0                    0.0    0.318059  0.450000   \n",
       "3                    0.0                    0.0    1.000000  0.550000   \n",
       "4                    0.0                    1.0    0.000000  0.100000   \n",
       "\n",
       "   Gait speed_new  Grip strength_new   Prob3_0   Prob3_1  \n",
       "0        0.719178           0.255814  0.935520  0.064480  \n",
       "1        0.321918           0.860465  0.955351  0.044649  \n",
       "2        0.390411           0.232558  0.472877  0.527123  \n",
       "3        0.315068           0.348837  0.910226  0.089774  \n",
       "4        0.390411           0.813953  0.983849  0.016151  \n",
       "\n",
       "[5 rows x 25 columns]"
      ]
     },
     "execution_count": 149,
     "metadata": {},
     "output_type": "execute_result"
    }
   ],
   "source": [
    "X_test['Prob3_0']=pd.DataFrame(X_test_proba3[:,0],columns=['Prob3_0'])\n",
    "X_test['Prob3_1']=pd.DataFrame(X_test_proba3[:,1],columns=['Prob3_1'])\n",
    "X_test.head()"
   ]
  },
  {
   "cell_type": "code",
   "execution_count": 150,
   "id": "f8f3d39d",
   "metadata": {},
   "outputs": [
    {
     "data": {
      "text/plain": [
       "Int64Index([ 20,  34,  56, 117, 143, 188, 204, 215, 223, 246, 260, 307, 308,\n",
       "            313, 366, 373, 422, 441, 482, 514, 515, 524, 602, 618, 626, 633,\n",
       "            640, 643, 714, 723, 758, 789, 800, 802, 810, 813, 815, 848, 902,\n",
       "            926, 927],\n",
       "           dtype='int64')"
      ]
     },
     "execution_count": 150,
     "metadata": {},
     "output_type": "execute_result"
    }
   ],
   "source": [
    "ind3_train =X_train[X_train['Prob3_1']>=0.70].index\n",
    "ind3_train\n"
   ]
  },
  {
   "cell_type": "code",
   "execution_count": 151,
   "id": "5fc00546",
   "metadata": {},
   "outputs": [
    {
     "data": {
      "text/plain": [
       "Int64Index([32, 40, 58, 66, 76, 99, 137, 157, 243], dtype='int64')"
      ]
     },
     "execution_count": 151,
     "metadata": {},
     "output_type": "execute_result"
    }
   ],
   "source": [
    "ind3_test =X_test[X_test['Prob3_1']>=0.70].index\n",
    "ind3_test"
   ]
  },
  {
   "cell_type": "markdown",
   "id": "a5825560",
   "metadata": {},
   "source": [
    "Res of all observationes need to go through the testing process."
   ]
  },
  {
   "cell_type": "markdown",
   "id": "16bc95ba",
   "metadata": {},
   "source": [
    "### Model evaluation\n",
    "\n",
    "We need to evaluate our models for answering the following questions:\n",
    "\n",
    "- How well is our model doing? Is it a useful model?\n",
    "- Will training our model on more data improve its performance?\n",
    "- Do we need to include more features?\n",
    "- etc"
   ]
  },
  {
   "cell_type": "markdown",
   "id": "24a521cb",
   "metadata": {},
   "source": [
    "#### Confusion Matrix\n",
    "\n",
    "A Confusion matrix is an N x N matrix used for evaluating the performance of a classification model, where N is the number of target classes. The matrix compares the actual target values with those predicted by the machine learning model. This gives us a holistic view of how well our classification model is performing and what kinds of errors it is making.\n",
    "\n",
    "For a binary classification problem, we would have a 2 x 2 matrix with 4 values.\n",
    "\n",
    "- True Positive (TP) \n",
    "\n",
    "    - The predicted value matches the actual value\n",
    "    - The actual value was positive and the model predicted a positive value\n",
    "\n",
    "- True Negative (TN) \n",
    "\n",
    "    - The predicted value matches the actual value\n",
    "    - The actual value was negative and the model predicted a negative value\n",
    "    \n",
    "- False Positive (FP) – Type 1 error\n",
    "\n",
    "    - The predicted value was falsely predicted\n",
    "    - The actual value was negative but the model predicted a positive value. Also known as the Type 1 error\n",
    "\n",
    "- False Negative (FN) – Type 2 error\n",
    "\n",
    "    - The predicted value was falsely predicted\n",
    "    - The actual value was positive but the model predicted a negative value. Also known as the Type 2 error\n",
    "    \n",
    "Using these values, we can find several classification metrics."
   ]
  },
  {
   "cell_type": "code",
   "execution_count": 152,
   "id": "64ec3bc4",
   "metadata": {},
   "outputs": [],
   "source": [
    "X_train.drop(['Prob3_0','Prob3_1'],axis=1,inplace=True)\n",
    "X_test.drop(['Prob3_0','Prob3_1'],axis=1,inplace=True)"
   ]
  },
  {
   "cell_type": "code",
   "execution_count": 153,
   "id": "b171d2cc",
   "metadata": {},
   "outputs": [
    {
     "data": {
      "image/png": "[encoded data removed]",
      "text/plain": [
       "<Figure size 432x288 with 2 Axes>"
      ]
     },
     "metadata": {
      "needs_background": "light"
     },
     "output_type": "display_data"
    }
   ],
   "source": [
    "from sklearn.metrics import confusion_matrix\n",
    "import matplotlib.pyplot as plt\n",
    "import seaborn as sns\n",
    "\n",
    "cm = confusion_matrix(y_test,y_pred_gb3)\n",
    "sns.heatmap(cm, annot=True)\n",
    "plt.title('Confusion matrix')\n",
    "plt.ylabel('Actual label')\n",
    "plt.xlabel('Predicted label')\n",
    "plt.show()"
   ]
  },
  {
   "attachments": {
    "Pic-2.PNG": {
     "image/png": "[encoded data removed]"
    },
    "Pic-3.PNG": {
     "image/png": "[encoded data removed]"
    },
    "Pic-4.PNG": {
     "image/png": "[encoded data removed]"
    },
    "Pic.PNG": {
     "image/png": "[encoded data removed]"
    }
   },
   "cell_type": "markdown",
   "id": "59b0760f",
   "metadata": {},
   "source": [
    "#### Classification metrics\n",
    "\n",
    "Accuracy is defined as the is the ratio of the total number of correct predictions and the total number of predictions. Higher values of accuracy, is a requirement.\n",
    "\n",
    "![Pic-2.PNG](attachment:Pic-2.PNG)\n",
    "\n",
    "\n",
    "Precision is the ratio between the True Positives and all the Positives. Precision can be seen as a measure of quality. Precision also gives us a measure of the relevant data points. Higher precision values are desired.\n",
    "\n",
    "![Pic-4.PNG](attachment:Pic-4.PNG)\n",
    "\n",
    "\n",
    "\n",
    "Recall is measure of our model correctly identifying True Positives. Recall also gives a measure of how accurately our model is able to identify the relevant data. Higher values are better.\n",
    "\n",
    "![Pic-3.PNG](attachment:Pic-3.PNG)\n",
    "\n",
    "The F1-score combines the precision and recall of a classifier into a single metric by taking their harmonic mean.It is primarily used to compare the performance of two classifiers. It acts as a tradeoff between Precision and Recall. Higher the value, better it is.\n",
    "\n",
    "![Pic.PNG](attachment:Pic.PNG)\n",
    "\n",
    "\n",
    "\n",
    "\n",
    "\n",
    "\n"
   ]
  },
  {
   "cell_type": "code",
   "execution_count": 154,
   "id": "2974991b",
   "metadata": {},
   "outputs": [
    {
     "name": "stdout",
     "output_type": "stream",
     "text": [
      "Gradient Boosting-Accuracy: 0.8623481781376519\n",
      "Gradient Boosting-Recall score: 0.3695652173913043\n",
      "Gradient Boosting-F1 score: 0.4999999999999999\n",
      "Gradient Boosting-Precision score: 0.7727272727272727\n"
     ]
    }
   ],
   "source": [
    "from sklearn.metrics import accuracy_score,f1_score,precision_score,recall_score,confusion_matrix,roc_curve, auc, roc_auc_score\n",
    "\n",
    "gb3_acc = accuracy_score(y_test,y_pred_gb3)\n",
    "print(\"Gradient Boosting-Accuracy:\", gb3_acc)\n",
    "gb3_rec = recall_score(y_test,y_pred_gb3)\n",
    "print(\"Gradient Boosting-Recall score:\",gb3_rec)\n",
    "gb3_f1 = f1_score(y_test,y_pred_gb3)\n",
    "print(\"Gradient Boosting-F1 score:\",gb3_f1)\n",
    "gb3_ps = precision_score(y_test,y_pred_gb3)\n",
    "print(\"Gradient Boosting-Precision score:\",gb3_ps)"
   ]
  },
  {
   "attachments": {
    "Pic.PNG": {
     "image/png": "[encoded data removed]"
    }
   },
   "cell_type": "markdown",
   "id": "b0a458bf",
   "metadata": {},
   "source": [
    "#### ROC-AUC Curve\n",
    "\n",
    "This curve shows us the behavior of the classifier for every threshold by plotting two variables: the True Positive Rate (TPR) and the False Positive Rate (FPR).\n",
    "\n",
    "![Pic.PNG](attachment:Pic.PNG)\n",
    "\n",
    "The intent of the ROC Curve is to show how well the model works for every possible threshold, as a relation of TPR vs FPR. So basically to plot the curve we need to calculate these variables for each threshold and plot it on a plane.\n",
    "\n",
    "On the plots, the  red line represents where TPR = FPR, while the blue line represents the ROC curve of the classifier.If the ROC curve is exactly on the red line, it means that the classifier has the same predictive power as flipping a coin.\n",
    "\n",
    "The AUROC Curve (Area Under ROC Curve) or simply ROC AUC Score, is a metric that allows us to compare different ROC Curves.\n",
    "\n",
    "The red line is the lower limit, and the area under that line is 0.5, and the perfect ROC Curve would have an area of 1. As closer as our model’s ROC AUC is from 1, the better it is in separating classes and making better predictions."
   ]
  },
  {
   "cell_type": "code",
   "execution_count": 156,
   "id": "e6c6b5a6",
   "metadata": {},
   "outputs": [
    {
     "data": {
      "image/png": "[encoded data removed]",
      "text/plain": [
       "<Figure size 432x288 with 1 Axes>"
      ]
     },
     "metadata": {
      "needs_background": "light"
     },
     "output_type": "display_data"
    }
   ],
   "source": [
    "from sklearn.metrics import roc_auc_score\n",
    "from sklearn.metrics import roc_curve\n",
    "\n",
    "gb3_roc_auc = roc_auc_score(y_test, gb3.predict(X_test))\n",
    "fpr, tpr, thresholds = roc_curve(y_test, gb3.predict_proba(X_test)[:,1])\n",
    "plt.figure()\n",
    "plt.plot(fpr, tpr, label='Gradient Boosting (area = %0.2f)' % gb3_roc_auc)\n",
    "plt.plot([0, 1], [0, 1],'r--')\n",
    "plt.xlim([0.0, 1.0])\n",
    "plt.ylim([0.0, 1.05])\n",
    "plt.xlabel('False Positive Rate')\n",
    "plt.ylabel('True Positive Rate')\n",
    "plt.title('Receiver Operating Characteristic-Gradient Boosting (learning_rate=0.1,n_estimators=100,max_features=5, random_state=100)')\n",
    "plt.legend(loc=\"lower right\")\n",
    "plt.show()\n"
   ]
  },
  {
   "cell_type": "markdown",
   "id": "9d2874aa",
   "metadata": {},
   "source": [
    "If the blue line is relatively close to the red one, it means that the classifier is bad. The  model is a moderately good enough classifier, closer to what is possible to get from real-world data. The AUC is a moderately reasonable 0.67."
   ]
  },
  {
   "attachments": {
    "Pic.PNG": {
     "image/png": "[encoded data removed]"
    }
   },
   "cell_type": "markdown",
   "id": "b5e15bc3",
   "metadata": {},
   "source": [
    "### Hyper parameter tuning\n",
    "\n",
    "After building the model, the next challenge is how to fine-tune the hyperparameters of our model so that it works well with the dataset we have. It can be done quite easily using the GridSearchCV function in the sklearn module.\n",
    "\n",
    "Cross validation is the base of this tuning methodology. The entire data is divided into k-folds (or k-parts, i.e. 10-fold means divide the dataset into 10 equal parts). Out of the k-folds, use 1 fold for testing and k-1 folds for training.\n",
    "\n",
    "![Pic.PNG](attachment:Pic.PNG)\n",
    "\n",
    "GridSearchCV is a function in sklearn’s model_selection package. It allows us to specify the different values for each hyperparameter and try out all the possible combinations when fitting our model. It does the training and testing using cross validation of our dataset — hence the acronym “CV” in GridSearchCV. The end result of GridSearchCV is a set of hyperparameters that best fit our data according to the scoring metric that we want our model to optimize on."
   ]
  },
  {
   "cell_type": "code",
   "execution_count": 157,
   "id": "bbcbe219",
   "metadata": {},
   "outputs": [
    {
     "data": {
      "text/plain": [
       "{'learning_rate': [0.01, 0.05, 0.1],\n",
       " 'n_estimators': array([100, 200, 300, 400])}"
      ]
     },
     "execution_count": 157,
     "metadata": {},
     "output_type": "execute_result"
    }
   ],
   "source": [
    "#grid search CV\n",
    "from sklearn.model_selection import GridSearchCV\n",
    "\n",
    "#dictionary containing all the various hyperparameters that you want to try when fitting your model\n",
    "param_grid_gb ={'learning_rate':[0.01,0.05,0.1],\n",
    "\n",
    "    'n_estimators':np.arange(100,500,100),         \n",
    "}\n",
    "param_grid_gb"
   ]
  },
  {
   "cell_type": "code",
   "execution_count": 158,
   "id": "f1e296fe",
   "metadata": {},
   "outputs": [
    {
     "data": {
      "text/html": [
       "<style>#sk-container-id-13 {color: black;background-color: white;}#sk-container-id-13 pre{padding: 0;}#sk-container-id-13 div.sk-toggleable {background-color: white;}#sk-container-id-13 label.sk-toggleable__label {cursor: pointer;display: block;width: 100%;margin-bottom: 0;padding: 0.3em;box-sizing: border-box;text-align: center;}#sk-container-id-13 label.sk-toggleable__label-arrow:before {content: \"▸\";float: left;margin-right: 0.25em;color: #696969;}#sk-container-id-13 label.sk-toggleable__label-arrow:hover:before {color: black;}#sk-container-id-13 div.sk-estimator:hover label.sk-toggleable__label-arrow:before {color: black;}#sk-container-id-13 div.sk-toggleable__content {max-height: 0;max-width: 0;overflow: hidden;text-align: left;background-color: #f0f8ff;}#sk-container-id-13 div.sk-toggleable__content pre {margin: 0.2em;color: black;border-radius: 0.25em;background-color: #f0f8ff;}#sk-container-id-13 input.sk-toggleable__control:checked~div.sk-toggleable__content {max-height: 200px;max-width: 100%;overflow: auto;}#sk-container-id-13 input.sk-toggleable__control:checked~label.sk-toggleable__label-arrow:before {content: \"▾\";}#sk-container-id-13 div.sk-estimator input.sk-toggleable__control:checked~label.sk-toggleable__label {background-color: #d4ebff;}#sk-container-id-13 div.sk-label input.sk-toggleable__control:checked~label.sk-toggleable__label {background-color: #d4ebff;}#sk-container-id-13 input.sk-hidden--visually {border: 0;clip: rect(1px 1px 1px 1px);clip: rect(1px, 1px, 1px, 1px);height: 1px;margin: -1px;overflow: hidden;padding: 0;position: absolute;width: 1px;}#sk-container-id-13 div.sk-estimator {font-family: monospace;background-color: #f0f8ff;border: 1px dotted black;border-radius: 0.25em;box-sizing: border-box;margin-bottom: 0.5em;}#sk-container-id-13 div.sk-estimator:hover {background-color: #d4ebff;}#sk-container-id-13 div.sk-parallel-item::after {content: \"\";width: 100%;border-bottom: 1px solid gray;flex-grow: 1;}#sk-container-id-13 div.sk-label:hover label.sk-toggleable__label {background-color: #d4ebff;}#sk-container-id-13 div.sk-serial::before {content: \"\";position: absolute;border-left: 1px solid gray;box-sizing: border-box;top: 0;bottom: 0;left: 50%;z-index: 0;}#sk-container-id-13 div.sk-serial {display: flex;flex-direction: column;align-items: center;background-color: white;padding-right: 0.2em;padding-left: 0.2em;position: relative;}#sk-container-id-13 div.sk-item {position: relative;z-index: 1;}#sk-container-id-13 div.sk-parallel {display: flex;align-items: stretch;justify-content: center;background-color: white;position: relative;}#sk-container-id-13 div.sk-item::before, #sk-container-id-13 div.sk-parallel-item::before {content: \"\";position: absolute;border-left: 1px solid gray;box-sizing: border-box;top: 0;bottom: 0;left: 50%;z-index: -1;}#sk-container-id-13 div.sk-parallel-item {display: flex;flex-direction: column;z-index: 1;position: relative;background-color: white;}#sk-container-id-13 div.sk-parallel-item:first-child::after {align-self: flex-end;width: 50%;}#sk-container-id-13 div.sk-parallel-item:last-child::after {align-self: flex-start;width: 50%;}#sk-container-id-13 div.sk-parallel-item:only-child::after {width: 0;}#sk-container-id-13 div.sk-dashed-wrapped {border: 1px dashed gray;margin: 0 0.4em 0.5em 0.4em;box-sizing: border-box;padding-bottom: 0.4em;background-color: white;}#sk-container-id-13 div.sk-label label {font-family: monospace;font-weight: bold;display: inline-block;line-height: 1.2em;}#sk-container-id-13 div.sk-label-container {text-align: center;}#sk-container-id-13 div.sk-container {/* jupyter's `normalize.less` sets `[hidden] { display: none; }` but bootstrap.min.css set `[hidden] { display: none !important; }` so we also need the `!important` here to be able to override the default hidden behavior on the sphinx rendered scikit-learn.org. See: https://github.com/scikit-learn/scikit-learn/issues/21755 */display: inline-block !important;position: relative;}#sk-container-id-13 div.sk-text-repr-fallback {display: none;}</style><div id=\"sk-container-id-13\" class=\"sk-top-container\"><div class=\"sk-text-repr-fallback\"><pre>GridSearchCV(cv=10, error_score=&#x27;raise&#x27;,\n",
       "             estimator=GradientBoostingClassifier(max_features=5,\n",
       "                                                  random_state=100),\n",
       "             param_grid={&#x27;learning_rate&#x27;: [0.01, 0.05, 0.1],\n",
       "                         &#x27;n_estimators&#x27;: array([100, 200, 300, 400])},\n",
       "             return_train_score=True, scoring=&#x27;accuracy&#x27;)</pre><b>In a Jupyter environment, please rerun this cell to show the HTML representation or trust the notebook. <br />On GitHub, the HTML representation is unable to render, please try loading this page with nbviewer.org.</b></div><div class=\"sk-container\" hidden><div class=\"sk-item sk-dashed-wrapped\"><div class=\"sk-label-container\"><div class=\"sk-label sk-toggleable\"><input class=\"sk-toggleable__control sk-hidden--visually\" id=\"sk-estimator-id-13\" type=\"checkbox\" ><label for=\"sk-estimator-id-13\" class=\"sk-toggleable__label sk-toggleable__label-arrow\">GridSearchCV</label><div class=\"sk-toggleable__content\"><pre>GridSearchCV(cv=10, error_score=&#x27;raise&#x27;,\n",
       "             estimator=GradientBoostingClassifier(max_features=5,\n",
       "                                                  random_state=100),\n",
       "             param_grid={&#x27;learning_rate&#x27;: [0.01, 0.05, 0.1],\n",
       "                         &#x27;n_estimators&#x27;: array([100, 200, 300, 400])},\n",
       "             return_train_score=True, scoring=&#x27;accuracy&#x27;)</pre></div></div></div><div class=\"sk-parallel\"><div class=\"sk-parallel-item\"><div class=\"sk-item\"><div class=\"sk-label-container\"><div class=\"sk-label sk-toggleable\"><input class=\"sk-toggleable__control sk-hidden--visually\" id=\"sk-estimator-id-14\" type=\"checkbox\" ><label for=\"sk-estimator-id-14\" class=\"sk-toggleable__label sk-toggleable__label-arrow\">estimator: GradientBoostingClassifier</label><div class=\"sk-toggleable__content\"><pre>GradientBoostingClassifier(max_features=5, random_state=100)</pre></div></div></div><div class=\"sk-serial\"><div class=\"sk-item\"><div class=\"sk-estimator sk-toggleable\"><input class=\"sk-toggleable__control sk-hidden--visually\" id=\"sk-estimator-id-15\" type=\"checkbox\" ><label for=\"sk-estimator-id-15\" class=\"sk-toggleable__label sk-toggleable__label-arrow\">GradientBoostingClassifier</label><div class=\"sk-toggleable__content\"><pre>GradientBoostingClassifier(max_features=5, random_state=100)</pre></div></div></div></div></div></div></div></div></div></div>"
      ],
      "text/plain": [
       "GridSearchCV(cv=10, error_score='raise',\n",
       "             estimator=GradientBoostingClassifier(max_features=5,\n",
       "                                                  random_state=100),\n",
       "             param_grid={'learning_rate': [0.01, 0.05, 0.1],\n",
       "                         'n_estimators': array([100, 200, 300, 400])},\n",
       "             return_train_score=True, scoring='accuracy')"
      ]
     },
     "execution_count": 158,
     "metadata": {},
     "output_type": "execute_result"
    }
   ],
   "source": [
    "#call the GridSearchCV() function using the algorithm that we are using, together with the various arguments\n",
    "gs_gb = GridSearchCV(estimator=gb3,#estimator object\n",
    "                  param_grid=param_grid_gb,\n",
    "                  cv=10, #integer, to specify the number of folds in a `(Stratified)KFold`\n",
    "                  scoring = 'accuracy', #evaluation metrics\n",
    "                  verbose=0, #Controls the verbosity: the higher, the more messages\n",
    "                  error_score='raise',\n",
    "                  return_train_score=True #If False, the cv_results_ attribute will not include training scores\n",
    "                 )\n",
    "gs_gb"
   ]
  },
  {
   "cell_type": "code",
   "execution_count": 159,
   "id": "6fd2627a",
   "metadata": {},
   "outputs": [
    {
     "data": {
      "text/html": [
       "<style>#sk-container-id-14 {color: black;background-color: white;}#sk-container-id-14 pre{padding: 0;}#sk-container-id-14 div.sk-toggleable {background-color: white;}#sk-container-id-14 label.sk-toggleable__label {cursor: pointer;display: block;width: 100%;margin-bottom: 0;padding: 0.3em;box-sizing: border-box;text-align: center;}#sk-container-id-14 label.sk-toggleable__label-arrow:before {content: \"▸\";float: left;margin-right: 0.25em;color: #696969;}#sk-container-id-14 label.sk-toggleable__label-arrow:hover:before {color: black;}#sk-container-id-14 div.sk-estimator:hover label.sk-toggleable__label-arrow:before {color: black;}#sk-container-id-14 div.sk-toggleable__content {max-height: 0;max-width: 0;overflow: hidden;text-align: left;background-color: #f0f8ff;}#sk-container-id-14 div.sk-toggleable__content pre {margin: 0.2em;color: black;border-radius: 0.25em;background-color: #f0f8ff;}#sk-container-id-14 input.sk-toggleable__control:checked~div.sk-toggleable__content {max-height: 200px;max-width: 100%;overflow: auto;}#sk-container-id-14 input.sk-toggleable__control:checked~label.sk-toggleable__label-arrow:before {content: \"▾\";}#sk-container-id-14 div.sk-estimator input.sk-toggleable__control:checked~label.sk-toggleable__label {background-color: #d4ebff;}#sk-container-id-14 div.sk-label input.sk-toggleable__control:checked~label.sk-toggleable__label {background-color: #d4ebff;}#sk-container-id-14 input.sk-hidden--visually {border: 0;clip: rect(1px 1px 1px 1px);clip: rect(1px, 1px, 1px, 1px);height: 1px;margin: -1px;overflow: hidden;padding: 0;position: absolute;width: 1px;}#sk-container-id-14 div.sk-estimator {font-family: monospace;background-color: #f0f8ff;border: 1px dotted black;border-radius: 0.25em;box-sizing: border-box;margin-bottom: 0.5em;}#sk-container-id-14 div.sk-estimator:hover {background-color: #d4ebff;}#sk-container-id-14 div.sk-parallel-item::after {content: \"\";width: 100%;border-bottom: 1px solid gray;flex-grow: 1;}#sk-container-id-14 div.sk-label:hover label.sk-toggleable__label {background-color: #d4ebff;}#sk-container-id-14 div.sk-serial::before {content: \"\";position: absolute;border-left: 1px solid gray;box-sizing: border-box;top: 0;bottom: 0;left: 50%;z-index: 0;}#sk-container-id-14 div.sk-serial {display: flex;flex-direction: column;align-items: center;background-color: white;padding-right: 0.2em;padding-left: 0.2em;position: relative;}#sk-container-id-14 div.sk-item {position: relative;z-index: 1;}#sk-container-id-14 div.sk-parallel {display: flex;align-items: stretch;justify-content: center;background-color: white;position: relative;}#sk-container-id-14 div.sk-item::before, #sk-container-id-14 div.sk-parallel-item::before {content: \"\";position: absolute;border-left: 1px solid gray;box-sizing: border-box;top: 0;bottom: 0;left: 50%;z-index: -1;}#sk-container-id-14 div.sk-parallel-item {display: flex;flex-direction: column;z-index: 1;position: relative;background-color: white;}#sk-container-id-14 div.sk-parallel-item:first-child::after {align-self: flex-end;width: 50%;}#sk-container-id-14 div.sk-parallel-item:last-child::after {align-self: flex-start;width: 50%;}#sk-container-id-14 div.sk-parallel-item:only-child::after {width: 0;}#sk-container-id-14 div.sk-dashed-wrapped {border: 1px dashed gray;margin: 0 0.4em 0.5em 0.4em;box-sizing: border-box;padding-bottom: 0.4em;background-color: white;}#sk-container-id-14 div.sk-label label {font-family: monospace;font-weight: bold;display: inline-block;line-height: 1.2em;}#sk-container-id-14 div.sk-label-container {text-align: center;}#sk-container-id-14 div.sk-container {/* jupyter's `normalize.less` sets `[hidden] { display: none; }` but bootstrap.min.css set `[hidden] { display: none !important; }` so we also need the `!important` here to be able to override the default hidden behavior on the sphinx rendered scikit-learn.org. See: https://github.com/scikit-learn/scikit-learn/issues/21755 */display: inline-block !important;position: relative;}#sk-container-id-14 div.sk-text-repr-fallback {display: none;}</style><div id=\"sk-container-id-14\" class=\"sk-top-container\"><div class=\"sk-text-repr-fallback\"><pre>GridSearchCV(cv=10, error_score=&#x27;raise&#x27;,\n",
       "             estimator=GradientBoostingClassifier(max_features=5,\n",
       "                                                  random_state=100),\n",
       "             param_grid={&#x27;learning_rate&#x27;: [0.01, 0.05, 0.1],\n",
       "                         &#x27;n_estimators&#x27;: array([100, 200, 300, 400])},\n",
       "             return_train_score=True, scoring=&#x27;accuracy&#x27;)</pre><b>In a Jupyter environment, please rerun this cell to show the HTML representation or trust the notebook. <br />On GitHub, the HTML representation is unable to render, please try loading this page with nbviewer.org.</b></div><div class=\"sk-container\" hidden><div class=\"sk-item sk-dashed-wrapped\"><div class=\"sk-label-container\"><div class=\"sk-label sk-toggleable\"><input class=\"sk-toggleable__control sk-hidden--visually\" id=\"sk-estimator-id-16\" type=\"checkbox\" ><label for=\"sk-estimator-id-16\" class=\"sk-toggleable__label sk-toggleable__label-arrow\">GridSearchCV</label><div class=\"sk-toggleable__content\"><pre>GridSearchCV(cv=10, error_score=&#x27;raise&#x27;,\n",
       "             estimator=GradientBoostingClassifier(max_features=5,\n",
       "                                                  random_state=100),\n",
       "             param_grid={&#x27;learning_rate&#x27;: [0.01, 0.05, 0.1],\n",
       "                         &#x27;n_estimators&#x27;: array([100, 200, 300, 400])},\n",
       "             return_train_score=True, scoring=&#x27;accuracy&#x27;)</pre></div></div></div><div class=\"sk-parallel\"><div class=\"sk-parallel-item\"><div class=\"sk-item\"><div class=\"sk-label-container\"><div class=\"sk-label sk-toggleable\"><input class=\"sk-toggleable__control sk-hidden--visually\" id=\"sk-estimator-id-17\" type=\"checkbox\" ><label for=\"sk-estimator-id-17\" class=\"sk-toggleable__label sk-toggleable__label-arrow\">estimator: GradientBoostingClassifier</label><div class=\"sk-toggleable__content\"><pre>GradientBoostingClassifier(max_features=5, random_state=100)</pre></div></div></div><div class=\"sk-serial\"><div class=\"sk-item\"><div class=\"sk-estimator sk-toggleable\"><input class=\"sk-toggleable__control sk-hidden--visually\" id=\"sk-estimator-id-18\" type=\"checkbox\" ><label for=\"sk-estimator-id-18\" class=\"sk-toggleable__label sk-toggleable__label-arrow\">GradientBoostingClassifier</label><div class=\"sk-toggleable__content\"><pre>GradientBoostingClassifier(max_features=5, random_state=100)</pre></div></div></div></div></div></div></div></div></div></div>"
      ],
      "text/plain": [
       "GridSearchCV(cv=10, error_score='raise',\n",
       "             estimator=GradientBoostingClassifier(max_features=5,\n",
       "                                                  random_state=100),\n",
       "             param_grid={'learning_rate': [0.01, 0.05, 0.1],\n",
       "                         'n_estimators': array([100, 200, 300, 400])},\n",
       "             return_train_score=True, scoring='accuracy')"
      ]
     },
     "execution_count": 159,
     "metadata": {},
     "output_type": "execute_result"
    }
   ],
   "source": [
    "#train the model\n",
    "gs_gb.fit(X_train,y_train.values.ravel())"
   ]
  },
  {
   "cell_type": "code",
   "execution_count": 160,
   "id": "05949a41",
   "metadata": {},
   "outputs": [
    {
     "data": {
      "text/html": [
       "<div>\n",
       "<style scoped>\n",
       "    .dataframe tbody tr th:only-of-type {\n",
       "        vertical-align: middle;\n",
       "    }\n",
       "\n",
       "    .dataframe tbody tr th {\n",
       "        vertical-align: top;\n",
       "    }\n",
       "\n",
       "    .dataframe thead th {\n",
       "        text-align: right;\n",
       "    }\n",
       "</style>\n",
       "<table border=\"1\" class=\"dataframe\">\n",
       "  <thead>\n",
       "    <tr style=\"text-align: right;\">\n",
       "      <th></th>\n",
       "      <th>mean_fit_time</th>\n",
       "      <th>std_fit_time</th>\n",
       "      <th>mean_score_time</th>\n",
       "      <th>std_score_time</th>\n",
       "      <th>param_learning_rate</th>\n",
       "      <th>param_n_estimators</th>\n",
       "      <th>params</th>\n",
       "      <th>split0_test_score</th>\n",
       "      <th>split1_test_score</th>\n",
       "      <th>split2_test_score</th>\n",
       "      <th>...</th>\n",
       "      <th>split2_train_score</th>\n",
       "      <th>split3_train_score</th>\n",
       "      <th>split4_train_score</th>\n",
       "      <th>split5_train_score</th>\n",
       "      <th>split6_train_score</th>\n",
       "      <th>split7_train_score</th>\n",
       "      <th>split8_train_score</th>\n",
       "      <th>split9_train_score</th>\n",
       "      <th>mean_train_score</th>\n",
       "      <th>std_train_score</th>\n",
       "    </tr>\n",
       "  </thead>\n",
       "  <tbody>\n",
       "    <tr>\n",
       "      <th>0</th>\n",
       "      <td>0.196466</td>\n",
       "      <td>0.014337</td>\n",
       "      <td>0.004140</td>\n",
       "      <td>0.006333</td>\n",
       "      <td>0.01</td>\n",
       "      <td>100</td>\n",
       "      <td>{'learning_rate': 0.01, 'n_estimators': 100}</td>\n",
       "      <td>0.854167</td>\n",
       "      <td>0.854167</td>\n",
       "      <td>0.854167</td>\n",
       "      <td>...</td>\n",
       "      <td>0.852668</td>\n",
       "      <td>0.852668</td>\n",
       "      <td>0.852668</td>\n",
       "      <td>0.853828</td>\n",
       "      <td>0.852668</td>\n",
       "      <td>0.853828</td>\n",
       "      <td>0.852839</td>\n",
       "      <td>0.852839</td>\n",
       "      <td>0.852934</td>\n",
       "      <td>0.000452</td>\n",
       "    </tr>\n",
       "    <tr>\n",
       "      <th>1</th>\n",
       "      <td>0.400248</td>\n",
       "      <td>0.016910</td>\n",
       "      <td>0.006526</td>\n",
       "      <td>0.008029</td>\n",
       "      <td>0.01</td>\n",
       "      <td>200</td>\n",
       "      <td>{'learning_rate': 0.01, 'n_estimators': 200}</td>\n",
       "      <td>0.843750</td>\n",
       "      <td>0.843750</td>\n",
       "      <td>0.854167</td>\n",
       "      <td>...</td>\n",
       "      <td>0.883991</td>\n",
       "      <td>0.885151</td>\n",
       "      <td>0.885151</td>\n",
       "      <td>0.879350</td>\n",
       "      <td>0.882831</td>\n",
       "      <td>0.879350</td>\n",
       "      <td>0.879490</td>\n",
       "      <td>0.881808</td>\n",
       "      <td>0.882162</td>\n",
       "      <td>0.002254</td>\n",
       "    </tr>\n",
       "    <tr>\n",
       "      <th>2</th>\n",
       "      <td>0.625150</td>\n",
       "      <td>0.030398</td>\n",
       "      <td>0.005607</td>\n",
       "      <td>0.006883</td>\n",
       "      <td>0.01</td>\n",
       "      <td>300</td>\n",
       "      <td>{'learning_rate': 0.01, 'n_estimators': 300}</td>\n",
       "      <td>0.843750</td>\n",
       "      <td>0.843750</td>\n",
       "      <td>0.854167</td>\n",
       "      <td>...</td>\n",
       "      <td>0.897912</td>\n",
       "      <td>0.889791</td>\n",
       "      <td>0.895592</td>\n",
       "      <td>0.902552</td>\n",
       "      <td>0.892111</td>\n",
       "      <td>0.892111</td>\n",
       "      <td>0.888760</td>\n",
       "      <td>0.896871</td>\n",
       "      <td>0.894920</td>\n",
       "      <td>0.003977</td>\n",
       "    </tr>\n",
       "    <tr>\n",
       "      <th>3</th>\n",
       "      <td>0.744945</td>\n",
       "      <td>0.145366</td>\n",
       "      <td>0.001837</td>\n",
       "      <td>0.004667</td>\n",
       "      <td>0.01</td>\n",
       "      <td>400</td>\n",
       "      <td>{'learning_rate': 0.01, 'n_estimators': 400}</td>\n",
       "      <td>0.843750</td>\n",
       "      <td>0.843750</td>\n",
       "      <td>0.843750</td>\n",
       "      <td>...</td>\n",
       "      <td>0.904872</td>\n",
       "      <td>0.904872</td>\n",
       "      <td>0.901392</td>\n",
       "      <td>0.903712</td>\n",
       "      <td>0.910673</td>\n",
       "      <td>0.906032</td>\n",
       "      <td>0.904983</td>\n",
       "      <td>0.914253</td>\n",
       "      <td>0.906517</td>\n",
       "      <td>0.003505</td>\n",
       "    </tr>\n",
       "    <tr>\n",
       "      <th>4</th>\n",
       "      <td>0.202983</td>\n",
       "      <td>0.004427</td>\n",
       "      <td>0.004691</td>\n",
       "      <td>0.007165</td>\n",
       "      <td>0.05</td>\n",
       "      <td>100</td>\n",
       "      <td>{'learning_rate': 0.05, 'n_estimators': 100}</td>\n",
       "      <td>0.854167</td>\n",
       "      <td>0.843750</td>\n",
       "      <td>0.864583</td>\n",
       "      <td>...</td>\n",
       "      <td>0.910673</td>\n",
       "      <td>0.915313</td>\n",
       "      <td>0.914153</td>\n",
       "      <td>0.914153</td>\n",
       "      <td>0.911833</td>\n",
       "      <td>0.914153</td>\n",
       "      <td>0.913094</td>\n",
       "      <td>0.916570</td>\n",
       "      <td>0.913941</td>\n",
       "      <td>0.002838</td>\n",
       "    </tr>\n",
       "  </tbody>\n",
       "</table>\n",
       "<p>5 rows × 32 columns</p>\n",
       "</div>"
      ],
      "text/plain": [
       "   mean_fit_time  std_fit_time  mean_score_time  std_score_time  \\\n",
       "0       0.196466      0.014337         0.004140        0.006333   \n",
       "1       0.400248      0.016910         0.006526        0.008029   \n",
       "2       0.625150      0.030398         0.005607        0.006883   \n",
       "3       0.744945      0.145366         0.001837        0.004667   \n",
       "4       0.202983      0.004427         0.004691        0.007165   \n",
       "\n",
       "  param_learning_rate param_n_estimators  \\\n",
       "0                0.01                100   \n",
       "1                0.01                200   \n",
       "2                0.01                300   \n",
       "3                0.01                400   \n",
       "4                0.05                100   \n",
       "\n",
       "                                         params  split0_test_score  \\\n",
       "0  {'learning_rate': 0.01, 'n_estimators': 100}           0.854167   \n",
       "1  {'learning_rate': 0.01, 'n_estimators': 200}           0.843750   \n",
       "2  {'learning_rate': 0.01, 'n_estimators': 300}           0.843750   \n",
       "3  {'learning_rate': 0.01, 'n_estimators': 400}           0.843750   \n",
       "4  {'learning_rate': 0.05, 'n_estimators': 100}           0.854167   \n",
       "\n",
       "   split1_test_score  split2_test_score  ...  split2_train_score  \\\n",
       "0           0.854167           0.854167  ...            0.852668   \n",
       "1           0.843750           0.854167  ...            0.883991   \n",
       "2           0.843750           0.854167  ...            0.897912   \n",
       "3           0.843750           0.843750  ...            0.904872   \n",
       "4           0.843750           0.864583  ...            0.910673   \n",
       "\n",
       "   split3_train_score  split4_train_score  split5_train_score  \\\n",
       "0            0.852668            0.852668            0.853828   \n",
       "1            0.885151            0.885151            0.879350   \n",
       "2            0.889791            0.895592            0.902552   \n",
       "3            0.904872            0.901392            0.903712   \n",
       "4            0.915313            0.914153            0.914153   \n",
       "\n",
       "   split6_train_score  split7_train_score  split8_train_score  \\\n",
       "0            0.852668            0.853828            0.852839   \n",
       "1            0.882831            0.879350            0.879490   \n",
       "2            0.892111            0.892111            0.888760   \n",
       "3            0.910673            0.906032            0.904983   \n",
       "4            0.911833            0.914153            0.913094   \n",
       "\n",
       "   split9_train_score  mean_train_score  std_train_score  \n",
       "0            0.852839          0.852934         0.000452  \n",
       "1            0.881808          0.882162         0.002254  \n",
       "2            0.896871          0.894920         0.003977  \n",
       "3            0.914253          0.906517         0.003505  \n",
       "4            0.916570          0.913941         0.002838  \n",
       "\n",
       "[5 rows x 32 columns]"
      ]
     },
     "execution_count": 160,
     "metadata": {},
     "output_type": "execute_result"
    }
   ],
   "source": [
    "#create a dataframe with the Cross-validation results\n",
    "df = pd.DataFrame(gs_gb.cv_results_)\n",
    "df.head()"
   ]
  },
  {
   "cell_type": "code",
   "execution_count": 161,
   "id": "57cd4c8d",
   "metadata": {},
   "outputs": [
    {
     "data": {
      "image/png": "[encoded data removed]",
      "text/plain": [
       "<Figure size 432x288 with 1 Axes>"
      ]
     },
     "metadata": {
      "needs_background": "light"
     },
     "output_type": "display_data"
    }
   ],
   "source": [
    "#plot the mean_test_score vs mean_train_score\n",
    "import  matplotlib.pyplot as plt\n",
    "test_scores = gs_gb.cv_results_['mean_test_score']\n",
    "#print(test_scores)\n",
    "train_scores = gs_gb.cv_results_['mean_train_score'] \n",
    "#print(train_scores)\n",
    "\n",
    "plt.plot(test_scores, label='test')\n",
    "plt.plot(train_scores, label='train')\n",
    "plt.legend(loc='best')\n",
    "plt.show()"
   ]
  },
  {
   "cell_type": "code",
   "execution_count": 162,
   "id": "64691cd2",
   "metadata": {},
   "outputs": [
    {
     "data": {
      "text/plain": [
       "0.8570065789473684"
      ]
     },
     "execution_count": 162,
     "metadata": {},
     "output_type": "execute_result"
    }
   ],
   "source": [
    "#mean cross-validated score of the best_estimator\n",
    "gs_gb.best_score_ "
   ]
  },
  {
   "cell_type": "code",
   "execution_count": 163,
   "id": "ba55b9f4",
   "metadata": {},
   "outputs": [
    {
     "data": {
      "text/plain": [
       "{'learning_rate': 0.01, 'n_estimators': 300}"
      ]
     },
     "execution_count": 163,
     "metadata": {},
     "output_type": "execute_result"
    }
   ],
   "source": [
    "#parameter setting that gave the best results on the hold out data.\n",
    "gs_gb.best_params_"
   ]
  },
  {
   "cell_type": "code",
   "execution_count": 164,
   "id": "29d538b9",
   "metadata": {},
   "outputs": [
    {
     "data": {
      "text/html": [
       "<style>#sk-container-id-15 {color: black;background-color: white;}#sk-container-id-15 pre{padding: 0;}#sk-container-id-15 div.sk-toggleable {background-color: white;}#sk-container-id-15 label.sk-toggleable__label {cursor: pointer;display: block;width: 100%;margin-bottom: 0;padding: 0.3em;box-sizing: border-box;text-align: center;}#sk-container-id-15 label.sk-toggleable__label-arrow:before {content: \"▸\";float: left;margin-right: 0.25em;color: #696969;}#sk-container-id-15 label.sk-toggleable__label-arrow:hover:before {color: black;}#sk-container-id-15 div.sk-estimator:hover label.sk-toggleable__label-arrow:before {color: black;}#sk-container-id-15 div.sk-toggleable__content {max-height: 0;max-width: 0;overflow: hidden;text-align: left;background-color: #f0f8ff;}#sk-container-id-15 div.sk-toggleable__content pre {margin: 0.2em;color: black;border-radius: 0.25em;background-color: #f0f8ff;}#sk-container-id-15 input.sk-toggleable__control:checked~div.sk-toggleable__content {max-height: 200px;max-width: 100%;overflow: auto;}#sk-container-id-15 input.sk-toggleable__control:checked~label.sk-toggleable__label-arrow:before {content: \"▾\";}#sk-container-id-15 div.sk-estimator input.sk-toggleable__control:checked~label.sk-toggleable__label {background-color: #d4ebff;}#sk-container-id-15 div.sk-label input.sk-toggleable__control:checked~label.sk-toggleable__label {background-color: #d4ebff;}#sk-container-id-15 input.sk-hidden--visually {border: 0;clip: rect(1px 1px 1px 1px);clip: rect(1px, 1px, 1px, 1px);height: 1px;margin: -1px;overflow: hidden;padding: 0;position: absolute;width: 1px;}#sk-container-id-15 div.sk-estimator {font-family: monospace;background-color: #f0f8ff;border: 1px dotted black;border-radius: 0.25em;box-sizing: border-box;margin-bottom: 0.5em;}#sk-container-id-15 div.sk-estimator:hover {background-color: #d4ebff;}#sk-container-id-15 div.sk-parallel-item::after {content: \"\";width: 100%;border-bottom: 1px solid gray;flex-grow: 1;}#sk-container-id-15 div.sk-label:hover label.sk-toggleable__label {background-color: #d4ebff;}#sk-container-id-15 div.sk-serial::before {content: \"\";position: absolute;border-left: 1px solid gray;box-sizing: border-box;top: 0;bottom: 0;left: 50%;z-index: 0;}#sk-container-id-15 div.sk-serial {display: flex;flex-direction: column;align-items: center;background-color: white;padding-right: 0.2em;padding-left: 0.2em;position: relative;}#sk-container-id-15 div.sk-item {position: relative;z-index: 1;}#sk-container-id-15 div.sk-parallel {display: flex;align-items: stretch;justify-content: center;background-color: white;position: relative;}#sk-container-id-15 div.sk-item::before, #sk-container-id-15 div.sk-parallel-item::before {content: \"\";position: absolute;border-left: 1px solid gray;box-sizing: border-box;top: 0;bottom: 0;left: 50%;z-index: -1;}#sk-container-id-15 div.sk-parallel-item {display: flex;flex-direction: column;z-index: 1;position: relative;background-color: white;}#sk-container-id-15 div.sk-parallel-item:first-child::after {align-self: flex-end;width: 50%;}#sk-container-id-15 div.sk-parallel-item:last-child::after {align-self: flex-start;width: 50%;}#sk-container-id-15 div.sk-parallel-item:only-child::after {width: 0;}#sk-container-id-15 div.sk-dashed-wrapped {border: 1px dashed gray;margin: 0 0.4em 0.5em 0.4em;box-sizing: border-box;padding-bottom: 0.4em;background-color: white;}#sk-container-id-15 div.sk-label label {font-family: monospace;font-weight: bold;display: inline-block;line-height: 1.2em;}#sk-container-id-15 div.sk-label-container {text-align: center;}#sk-container-id-15 div.sk-container {/* jupyter's `normalize.less` sets `[hidden] { display: none; }` but bootstrap.min.css set `[hidden] { display: none !important; }` so we also need the `!important` here to be able to override the default hidden behavior on the sphinx rendered scikit-learn.org. See: https://github.com/scikit-learn/scikit-learn/issues/21755 */display: inline-block !important;position: relative;}#sk-container-id-15 div.sk-text-repr-fallback {display: none;}</style><div id=\"sk-container-id-15\" class=\"sk-top-container\"><div class=\"sk-text-repr-fallback\"><pre>GradientBoostingClassifier(learning_rate=0.01, max_features=5, n_estimators=300,\n",
       "                           random_state=100)</pre><b>In a Jupyter environment, please rerun this cell to show the HTML representation or trust the notebook. <br />On GitHub, the HTML representation is unable to render, please try loading this page with nbviewer.org.</b></div><div class=\"sk-container\" hidden><div class=\"sk-item\"><div class=\"sk-estimator sk-toggleable\"><input class=\"sk-toggleable__control sk-hidden--visually\" id=\"sk-estimator-id-19\" type=\"checkbox\" checked><label for=\"sk-estimator-id-19\" class=\"sk-toggleable__label sk-toggleable__label-arrow\">GradientBoostingClassifier</label><div class=\"sk-toggleable__content\"><pre>GradientBoostingClassifier(learning_rate=0.01, max_features=5, n_estimators=300,\n",
       "                           random_state=100)</pre></div></div></div></div></div>"
      ],
      "text/plain": [
       "GradientBoostingClassifier(learning_rate=0.01, max_features=5, n_estimators=300,\n",
       "                           random_state=100)"
      ]
     },
     "execution_count": 164,
     "metadata": {},
     "output_type": "execute_result"
    }
   ],
   "source": [
    "gs_gb.best_estimator_"
   ]
  },
  {
   "cell_type": "markdown",
   "id": "7981d11d",
   "metadata": {},
   "source": [
    "### Conclusion"
   ]
  },
  {
   "cell_type": "markdown",
   "id": "4b03f551",
   "metadata": {},
   "source": [
    "Since the performance of tuned model(85.7%) is less than or almost same as the base model(86.2%), we cant say if Gradient boosting is the best model for our data."
   ]
  },
  {
   "cell_type": "code",
   "execution_count": null,
   "id": "4fa52198",
   "metadata": {},
   "outputs": [],
   "source": []
  }
 ],
 "metadata": {
  "kernelspec": {
   "display_name": "Python 3 (ipykernel)",
   "language": "python",
   "name": "python3"
  },
  "language_info": {
   "codemirror_mode": {
    "name": "ipython",
    "version": 3
   },
   "file_extension": ".py",
   "mimetype": "text/x-python",
   "name": "python",
   "nbconvert_exporter": "python",
   "pygments_lexer": "ipython3",
   "version": "3.9.7"
  }
 },
 "nbformat": 4,
 "nbformat_minor": 5
}

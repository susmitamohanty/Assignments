{
 "cells": [
  {
   "cell_type": "markdown",
   "id": "12437ac4",
   "metadata": {},
   "source": [
    "##### List Assignment"
   ]
  },
  {
   "cell_type": "markdown",
   "id": "0ffa2b49",
   "metadata": {},
   "source": [
    "##### 1- Write a code to compute the sum of the two lowest numbers and the two highest numbers in the following list."
   ]
  },
  {
   "cell_type": "code",
   "execution_count": 4,
   "id": "d41de557",
   "metadata": {},
   "outputs": [],
   "source": [
    "import numpy as np"
   ]
  },
  {
   "cell_type": "code",
   "execution_count": 1,
   "id": "8727d109",
   "metadata": {},
   "outputs": [],
   "source": [
    "my_list = [34, 56, 76, 45, 2, 12, 67, 98, 37, 54, 66]"
   ]
  },
  {
   "cell_type": "code",
   "execution_count": 6,
   "id": "6fa36c4b",
   "metadata": {},
   "outputs": [
    {
     "data": {
      "text/plain": [
       "2"
      ]
     },
     "execution_count": 6,
     "metadata": {},
     "output_type": "execute_result"
    }
   ],
   "source": [
    "min1 = np.min(my_list)\n",
    "min1"
   ]
  },
  {
   "cell_type": "code",
   "execution_count": 10,
   "id": "f129f336",
   "metadata": {},
   "outputs": [
    {
     "name": "stdout",
     "output_type": "stream",
     "text": [
      "[34, 56, 76, 45, 12, 67, 98, 37, 54, 66]\n",
      "2 12\n"
     ]
    }
   ],
   "source": [
    "ls = []\n",
    "for n in my_list:\n",
    "    if n != min1:\n",
    "        ls.append(n)\n",
    " \n",
    "print(ls)\n",
    "min2 = np.min(ls)       \n",
    "print(min1,min2)\n",
    "        "
   ]
  },
  {
   "cell_type": "code",
   "execution_count": 11,
   "id": "5e77505a",
   "metadata": {},
   "outputs": [
    {
     "data": {
      "text/plain": [
       "98"
      ]
     },
     "execution_count": 11,
     "metadata": {},
     "output_type": "execute_result"
    }
   ],
   "source": [
    "max1 = np.max(my_list)\n",
    "max1"
   ]
  },
  {
   "cell_type": "code",
   "execution_count": 15,
   "id": "0fe8a4bc",
   "metadata": {},
   "outputs": [
    {
     "name": "stdout",
     "output_type": "stream",
     "text": [
      "[34, 56, 76, 45, 2, 12, 67, 37, 54, 66]\n",
      "98 76\n"
     ]
    }
   ],
   "source": [
    "ls2 = []\n",
    "for n in my_list:\n",
    "    if n != max1:\n",
    "        ls2.append(n)\n",
    " \n",
    "print(ls2)\n",
    "max2 = np.max(ls2)       \n",
    "print(max1,max2)\n",
    "        "
   ]
  },
  {
   "cell_type": "code",
   "execution_count": 12,
   "id": "b1caefad",
   "metadata": {},
   "outputs": [
    {
     "name": "stdout",
     "output_type": "stream",
     "text": [
      "14\n"
     ]
    }
   ],
   "source": [
    "print(min1+min2)"
   ]
  },
  {
   "cell_type": "code",
   "execution_count": 17,
   "id": "a09e6da6",
   "metadata": {},
   "outputs": [
    {
     "name": "stdout",
     "output_type": "stream",
     "text": [
      "174\n"
     ]
    }
   ],
   "source": [
    "print(max1+max2)"
   ]
  },
  {
   "cell_type": "markdown",
   "id": "5393f72d",
   "metadata": {},
   "source": [
    "##### 2- The following two lists contain student names and scores. Write a code that gets the name from the user and prints the score of that student."
   ]
  },
  {
   "cell_type": "code",
   "execution_count": 50,
   "id": "7b9cb321",
   "metadata": {},
   "outputs": [],
   "source": [
    "names = [\"David\", \"Michael\", \"John\", \"James\", \"Greg\", \"Mark\", \"William\", \"Richard\", \"Thomas\", \"Steven\",\"Mary\", \"Susan\", \"Maria\", \"Karen\", \"Lisa\", \"Linda\", \"Donna\", \"Patricia\", \"Debra\", \"Eric\"]\n",
    "#names"
   ]
  },
  {
   "cell_type": "code",
   "execution_count": 34,
   "id": "1e7ef694",
   "metadata": {},
   "outputs": [],
   "source": [
    "scores = [99, 87, 78, 86, 68, 94, 76, 97, 56, 98, 76, 87, 79, 90, 73, 93, 82, 69, 97, 99]\n",
    "#scores"
   ]
  },
  {
   "cell_type": "code",
   "execution_count": 24,
   "id": "4b3652aa",
   "metadata": {},
   "outputs": [
    {
     "name": "stdout",
     "output_type": "stream",
     "text": [
      "David 99\n",
      "Michael 87\n",
      "John 78\n",
      "James 86\n",
      "Greg 68\n",
      "Mark 94\n",
      "William 76\n",
      "Richard 97\n",
      "Thomas 56\n",
      "Steven 98\n"
     ]
    }
   ],
   "source": [
    "for n,s in zip(names,scores):\n",
    "    print(n,s)"
   ]
  },
  {
   "cell_type": "code",
   "execution_count": 29,
   "id": "24eecc5d",
   "metadata": {},
   "outputs": [
    {
     "data": {
      "text/plain": [
       "3"
      ]
     },
     "execution_count": 29,
     "metadata": {},
     "output_type": "execute_result"
    }
   ],
   "source": [
    "ind = names.index(\"James\")\n",
    "ind"
   ]
  },
  {
   "cell_type": "code",
   "execution_count": 30,
   "id": "62dd5813",
   "metadata": {},
   "outputs": [
    {
     "data": {
      "text/plain": [
       "86"
      ]
     },
     "execution_count": 30,
     "metadata": {},
     "output_type": "execute_result"
    }
   ],
   "source": [
    "scores[ind]"
   ]
  },
  {
   "cell_type": "code",
   "execution_count": 31,
   "id": "7dee5caf",
   "metadata": {},
   "outputs": [
    {
     "name": "stdout",
     "output_type": "stream",
     "text": [
      "Enter the name:James\n"
     ]
    }
   ],
   "source": [
    "name = input(\"Enter the name:\")"
   ]
  },
  {
   "cell_type": "code",
   "execution_count": 32,
   "id": "5c8331d8",
   "metadata": {},
   "outputs": [
    {
     "data": {
      "text/plain": [
       "86"
      ]
     },
     "execution_count": 32,
     "metadata": {},
     "output_type": "execute_result"
    }
   ],
   "source": [
    "scores[names.index(name)]"
   ]
  },
  {
   "cell_type": "code",
   "execution_count": 43,
   "id": "e82ae094",
   "metadata": {},
   "outputs": [
    {
     "data": {
      "text/plain": [
       "3"
      ]
     },
     "execution_count": 43,
     "metadata": {},
     "output_type": "execute_result"
    }
   ],
   "source": [
    "names.index(name)"
   ]
  },
  {
   "cell_type": "markdown",
   "id": "dd95b2c1",
   "metadata": {},
   "source": [
    "##### 3- By using the two lists above, what is the maximum score and how many students got that score?"
   ]
  },
  {
   "cell_type": "code",
   "execution_count": 35,
   "id": "a0bbbb8a",
   "metadata": {},
   "outputs": [
    {
     "data": {
      "text/plain": [
       "99"
      ]
     },
     "execution_count": 35,
     "metadata": {},
     "output_type": "execute_result"
    }
   ],
   "source": [
    "max_score = np.max(scores)\n",
    "max_score"
   ]
  },
  {
   "cell_type": "code",
   "execution_count": 40,
   "id": "f42a167e",
   "metadata": {},
   "outputs": [
    {
     "name": "stdout",
     "output_type": "stream",
     "text": [
      "0 99\n",
      "1 87\n",
      "2 78\n",
      "3 86\n",
      "4 68\n",
      "5 94\n",
      "6 76\n",
      "7 97\n",
      "8 56\n",
      "9 98\n",
      "10 76\n",
      "11 87\n",
      "12 79\n",
      "13 90\n",
      "14 73\n",
      "15 93\n",
      "16 82\n",
      "17 69\n",
      "18 97\n",
      "19 99\n",
      "[0, 19]\n"
     ]
    }
   ],
   "source": [
    "ls3=[]\n",
    "for i,each in enumerate(scores):\n",
    "    print(i, each)\n",
    "    if each == max_score:\n",
    "        ls3.append(i)\n",
    "        \n",
    "#print(ls3)"
   ]
  },
  {
   "cell_type": "code",
   "execution_count": 54,
   "id": "144e5e66",
   "metadata": {},
   "outputs": [
    {
     "data": {
      "text/plain": [
       "['David', 'Eric']"
      ]
     },
     "execution_count": 54,
     "metadata": {},
     "output_type": "execute_result"
    }
   ],
   "source": [
    "ls4 = [names[i] for i in ls3]\n",
    "ls4"
   ]
  },
  {
   "cell_type": "code",
   "execution_count": 56,
   "id": "98109e42",
   "metadata": {},
   "outputs": [
    {
     "name": "stdout",
     "output_type": "stream",
     "text": [
      "('David', 'Eric')\n"
     ]
    }
   ],
   "source": [
    "from operator import itemgetter\n",
    "print(itemgetter(*ls3)(names))"
   ]
  }
 ],
 "metadata": {
  "kernelspec": {
   "display_name": "Python 3 (ipykernel)",
   "language": "python",
   "name": "python3"
  },
  "language_info": {
   "codemirror_mode": {
    "name": "ipython",
    "version": 3
   },
   "file_extension": ".py",
   "mimetype": "text/x-python",
   "name": "python",
   "nbconvert_exporter": "python",
   "pygments_lexer": "ipython3",
   "version": "3.9.7"
  }
 },
 "nbformat": 4,
 "nbformat_minor": 5
}

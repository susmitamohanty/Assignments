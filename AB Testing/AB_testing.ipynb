{
 "cells": [
  {
   "cell_type": "markdown",
   "id": "eaae29a1",
   "metadata": {},
   "source": [
    "# What is AB testing?\n",
    "\n",
    "In A/B testing we show the enhanced/modified version of the product to a sample of customers - the experimental group and the existing version of the product to another sample of customers - the control group. We track, the difference in product performance in experimental versus the control group, if any, to identify the effect of this new version of the product on its performance. In other words, the goal is to track the metric during the test period and find out if there is a difference in the performance of the product and what type of difference is it.\n",
    "\n",
    "- Advantages \n",
    "\n",
    "    -  Feedback about results can be collected very quickly\n",
    "    -  Results are unbiased as, users are unaware.\n",
    "\n",
    "- Disadvantages \n",
    "\n",
    "    -  Might lead to incorrect results, if parameters are not chosen carefully."
   ]
  },
  {
   "cell_type": "markdown",
   "id": "69497b5e",
   "metadata": {},
   "source": [
    "# Steps for AB testing \n",
    "\n",
    "- Designing our experiment\n",
    "- Collecting and preparing the data\n",
    "- Testing the hypothesis\n",
    "- Visualising the results\n",
    "- Drawing conclusions"
   ]
  },
  {
   "cell_type": "markdown",
   "id": "7cc96b0a",
   "metadata": {},
   "source": [
    "## Problem \n",
    "\n",
    "An advertising company has developed a new ad to have users engage with their questionnaire. The company has shown the new ad to some users and a dummy ad to others and wants their data analyst team to interpret the results. Does the new ad generate more responses to their questionnaire? Is it statistically significant? Is the company justified in using the new ad?  \n",
    "\n",
    "A/B testing is common in the business world and is a way to compare two versions of something to figure out which performs better. Figuring out which ad users prefer is a real life business problem that would be expected to know how to solve as a business data analyst. "
   ]
  },
  {
   "cell_type": "markdown",
   "id": "b0ae73c3",
   "metadata": {},
   "source": [
    "## Dataset \n",
    "\n",
    "Dataset is found on kaggle from an advertising company. https://www.kaggle.com/osuolaleemmanuel/ad-ab-testing.\n",
    "\n",
    "Detailed eda has been performed in EDA.ipynb."
   ]
  },
  {
   "cell_type": "markdown",
   "id": "78d9d228",
   "metadata": {},
   "source": [
    "## AB TESTING\n",
    "\n",
    "If we want to test \n",
    "-  whether there is a statistically significant difference between the control and experimental groups’ metrics that are in the form of averages (e.g. average purchase amount) or proportions (e.g. Click Through Rate), \n",
    "-  metric follows Normal distribution, or \n",
    "-  when the sample size is larger than 30 such that you can use Central Limit Theorem (CLT) to state that the sampling distributions of Control and Experimental groups are asymptotically Normal, you can use 2-tailed Z-test.\n",
    "\n",
    "We formulate a hypothesis for 2-tailed z-test.\n",
    "\n",
    "- H_0: p_exposed = p_control\n",
    "- H_a: p_exposed <> p_control\n",
    "\n",
    "Where p_control and and p_exposed stand for conversion rate of old and new ad.\n",
    "\n",
    "- H_0 is the null hypothesis that states there is no statistically significant difference between the control and experimental groups response.\n",
    "- H_a is the alternate hypothesis that states there is statistically significant difference between control and experimental groups.\n",
    "\n",
    "Power is the the probability of correctly identifying the effect when there is indeed an effect. Usually the power of the test(1-beta) is chosen as 80%.\n",
    "\n",
    "Significance level, also denoted as alpha or α: is the probability of rejecting a null hypothesis when it is true. By rejecting a true null hypothesis, we falsely claim there is an effect when there is no actual effect. Thus, it is also called the probability of False Positive. We use alpha = 0.05%. That means the confidence level is 95%.\n",
    "\n",
    "The minimum change that the business would like to detect in this test. Choice of this parameter depends on the nature of the test and business constraints.We would like to detect at least a 0.1% increase in clicking yes button in order for it to be worth the effort."
   ]
  },
  {
   "cell_type": "markdown",
   "id": "55c05f89",
   "metadata": {},
   "source": [
    "###### Collect and Prepare data"
   ]
  },
  {
   "cell_type": "code",
   "execution_count": 6,
   "id": "5426926c",
   "metadata": {},
   "outputs": [
    {
     "data": {
      "text/html": [
       "<div>\n",
       "<style scoped>\n",
       "    .dataframe tbody tr th:only-of-type {\n",
       "        vertical-align: middle;\n",
       "    }\n",
       "\n",
       "    .dataframe tbody tr th {\n",
       "        vertical-align: top;\n",
       "    }\n",
       "\n",
       "    .dataframe thead th {\n",
       "        text-align: right;\n",
       "    }\n",
       "</style>\n",
       "<table border=\"1\" class=\"dataframe\">\n",
       "  <thead>\n",
       "    <tr style=\"text-align: right;\">\n",
       "      <th></th>\n",
       "      <th>auction_id</th>\n",
       "      <th>experiment</th>\n",
       "      <th>date</th>\n",
       "      <th>hour</th>\n",
       "      <th>device_make</th>\n",
       "      <th>platform_os</th>\n",
       "      <th>browser</th>\n",
       "      <th>yes</th>\n",
       "      <th>no</th>\n",
       "    </tr>\n",
       "  </thead>\n",
       "  <tbody>\n",
       "    <tr>\n",
       "      <th>0</th>\n",
       "      <td>0008ef63-77a7-448b-bd1e-075f42c55e39</td>\n",
       "      <td>exposed</td>\n",
       "      <td>2020-07-10</td>\n",
       "      <td>8</td>\n",
       "      <td>Generic Smartphone</td>\n",
       "      <td>6</td>\n",
       "      <td>Chrome Mobile</td>\n",
       "      <td>0</td>\n",
       "      <td>0</td>\n",
       "    </tr>\n",
       "    <tr>\n",
       "      <th>1</th>\n",
       "      <td>000eabc5-17ce-4137-8efe-44734d914446</td>\n",
       "      <td>exposed</td>\n",
       "      <td>2020-07-07</td>\n",
       "      <td>10</td>\n",
       "      <td>Generic Smartphone</td>\n",
       "      <td>6</td>\n",
       "      <td>Chrome Mobile</td>\n",
       "      <td>0</td>\n",
       "      <td>0</td>\n",
       "    </tr>\n",
       "    <tr>\n",
       "      <th>2</th>\n",
       "      <td>0016d14a-ae18-4a02-a204-6ba53b52f2ed</td>\n",
       "      <td>exposed</td>\n",
       "      <td>2020-07-05</td>\n",
       "      <td>2</td>\n",
       "      <td>E5823</td>\n",
       "      <td>6</td>\n",
       "      <td>Chrome Mobile WebView</td>\n",
       "      <td>0</td>\n",
       "      <td>1</td>\n",
       "    </tr>\n",
       "    <tr>\n",
       "      <th>3</th>\n",
       "      <td>00187412-2932-4542-a8ef-3633901c98d9</td>\n",
       "      <td>control</td>\n",
       "      <td>2020-07-03</td>\n",
       "      <td>15</td>\n",
       "      <td>Samsung SM-A705FN</td>\n",
       "      <td>6</td>\n",
       "      <td>Facebook</td>\n",
       "      <td>0</td>\n",
       "      <td>0</td>\n",
       "    </tr>\n",
       "    <tr>\n",
       "      <th>4</th>\n",
       "      <td>001a7785-d3fe-4e11-a344-c8735acacc2c</td>\n",
       "      <td>control</td>\n",
       "      <td>2020-07-03</td>\n",
       "      <td>15</td>\n",
       "      <td>Generic Smartphone</td>\n",
       "      <td>6</td>\n",
       "      <td>Chrome Mobile</td>\n",
       "      <td>0</td>\n",
       "      <td>0</td>\n",
       "    </tr>\n",
       "  </tbody>\n",
       "</table>\n",
       "</div>"
      ],
      "text/plain": [
       "                             auction_id experiment        date  hour  \\\n",
       "0  0008ef63-77a7-448b-bd1e-075f42c55e39    exposed  2020-07-10     8   \n",
       "1  000eabc5-17ce-4137-8efe-44734d914446    exposed  2020-07-07    10   \n",
       "2  0016d14a-ae18-4a02-a204-6ba53b52f2ed    exposed  2020-07-05     2   \n",
       "3  00187412-2932-4542-a8ef-3633901c98d9    control  2020-07-03    15   \n",
       "4  001a7785-d3fe-4e11-a344-c8735acacc2c    control  2020-07-03    15   \n",
       "\n",
       "          device_make  platform_os                browser  yes  no  \n",
       "0  Generic Smartphone            6          Chrome Mobile    0   0  \n",
       "1  Generic Smartphone            6          Chrome Mobile    0   0  \n",
       "2               E5823            6  Chrome Mobile WebView    0   1  \n",
       "3   Samsung SM-A705FN            6               Facebook    0   0  \n",
       "4  Generic Smartphone            6          Chrome Mobile    0   0  "
      ]
     },
     "execution_count": 6,
     "metadata": {},
     "output_type": "execute_result"
    }
   ],
   "source": [
    "import pandas as pd\n",
    "ads=pd.read_csv(\"AdSmartABdata - AdSmartABdata.csv\")\n",
    "#show the first 5 rows of the data\n",
    "ads.head() "
   ]
  },
  {
   "cell_type": "code",
   "execution_count": 7,
   "id": "2e612cc2",
   "metadata": {},
   "outputs": [
    {
     "data": {
      "text/plain": [
       "(4006, 9)"
      ]
     },
     "execution_count": 7,
     "metadata": {},
     "output_type": "execute_result"
    }
   ],
   "source": [
    "#extract the exposed group\n",
    "exposed_data = ads[ads['experiment']=='exposed']\n",
    "exposed_data.shape"
   ]
  },
  {
   "cell_type": "code",
   "execution_count": 8,
   "id": "c61fbc01",
   "metadata": {},
   "outputs": [
    {
     "data": {
      "text/plain": [
       "(4071, 9)"
      ]
     },
     "execution_count": 8,
     "metadata": {},
     "output_type": "execute_result"
    }
   ],
   "source": [
    "#extract the control group\n",
    "control_data = ads[ads['experiment']=='control']\n",
    "control_data.shape"
   ]
  },
  {
   "cell_type": "code",
   "execution_count": 13,
   "id": "1a8dfdd2",
   "metadata": {},
   "outputs": [],
   "source": [
    "import statsmodels.stats.api as sms\n",
    "import numpy as np"
   ]
  },
  {
   "cell_type": "code",
   "execution_count": 16,
   "id": "92c65dc0",
   "metadata": {},
   "outputs": [
    {
     "name": "stdout",
     "output_type": "stream",
     "text": [
      "Sample Size: 1571.000\n",
      "Number of control data rows : 98\n",
      "Number of exposed data rows : 110\n",
      "p-value for sampled data : 0.38913620811158944\n"
     ]
    }
   ],
   "source": [
    "#check if we can use a sample of our dataset for the experiments.\n",
    "import scipy.stats as stats\n",
    "from statsmodels.stats.power import TTestIndPower\n",
    "np.random.seed(1)\n",
    "effect = 0.1\n",
    "alpha = 0.05\n",
    "power = 0.8\n",
    "\n",
    "# perform power analysis \n",
    "analysis = TTestIndPower()\n",
    "result = analysis.solve_power(effect, power = power,nobs1= None, ratio = 1.0, alpha = alpha)\n",
    "print('Sample Size: %.3f' % round(result))\n",
    "df_control = control_data.sample(n=1571,replace=True)\n",
    "X_control_sampled = df_control[df_control['yes']==1].count()[0]\n",
    "print(\"Number of control data rows :\", X_control_sampled)\n",
    "df_exposed = exposed_data.sample(n=1571,replace=True)\n",
    "X_exposed_sampled=df_exposed[df_exposed['yes']==1].count()[0]\n",
    "print(\"Number of exposed data rows :\",X_exposed_sampled)\n",
    "p_control_sampled =X_control_sampled/result\n",
    "p_exposed_sampled =X_exposed_sampled/result\n",
    "p_pooled_success_sampled = (X_control_sampled + X_exposed_sampled)/(1571*2)\n",
    "#print(p_pooled_success_sampled )\n",
    "pooled_variance_sampled = p_pooled_success_sampled*(1-p_pooled_success_sampled)* (1/1571 + 1/1571)\n",
    "#print(pooled_variance_sampled)\n",
    "test_stat_sampled = np.abs(p_control_sampled-p_exposed_sampled)/np.sqrt(pooled_variance_sampled)\n",
    "#print(test_stat_sampled)\n",
    "one_side_sampled = 1 - stats.norm(loc = 0, scale = 1).cdf(test_stat_sampled)\n",
    "#print(one_side_sampled)\n",
    "p_value_sampled = one_side_sampled * 2\n",
    "print(\"p-value for sampled data :\",p_value_sampled)\n",
    "\n"
   ]
  },
  {
   "cell_type": "markdown",
   "id": "a4c54f0a",
   "metadata": {},
   "source": [
    "Since the sampling at a specific value(here 1) gives us less than 100 rows for the control group. And per industry practices, a minimum of 100 rows should be used in the tests. Also different seed values, gives varied p-value results, due to which such tests can not be used conclusively to arrive at any conclusion. \n",
    "\n",
    "Hence we have decided not to use a sample of the dataset, rather all the rows will be used in our test."
   ]
  },
  {
   "cell_type": "markdown",
   "id": "eef5a09e",
   "metadata": {},
   "source": [
    "###### Test the hypothesis\n",
    "\n",
    "Continuing our test with the entire dataset."
   ]
  },
  {
   "cell_type": "code",
   "execution_count": 17,
   "id": "11cc2127",
   "metadata": {},
   "outputs": [
    {
     "data": {
      "text/plain": [
       "264"
      ]
     },
     "execution_count": 17,
     "metadata": {},
     "output_type": "execute_result"
    }
   ],
   "source": [
    "#number of yes clicks for control group \n",
    "X_control = control_data[control_data['yes']==1].count()[0]\n",
    "X_control"
   ]
  },
  {
   "cell_type": "code",
   "execution_count": 18,
   "id": "353d4325",
   "metadata": {},
   "outputs": [
    {
     "data": {
      "text/plain": [
       "4071"
      ]
     },
     "execution_count": 18,
     "metadata": {},
     "output_type": "execute_result"
    }
   ],
   "source": [
    "#Total number of impressions for control group \n",
    "N_control = control_data.count()[0]\n",
    "N_control"
   ]
  },
  {
   "cell_type": "code",
   "execution_count": 19,
   "id": "a39fc8aa",
   "metadata": {},
   "outputs": [
    {
     "data": {
      "text/plain": [
       "0.06484893146647015"
      ]
     },
     "execution_count": 19,
     "metadata": {},
     "output_type": "execute_result"
    }
   ],
   "source": [
    "p_control = X_control/N_control\n",
    "p_control"
   ]
  },
  {
   "cell_type": "code",
   "execution_count": 20,
   "id": "c069e63d",
   "metadata": {},
   "outputs": [
    {
     "data": {
      "text/plain": [
       "308"
      ]
     },
     "execution_count": 20,
     "metadata": {},
     "output_type": "execute_result"
    }
   ],
   "source": [
    "#number of yes clicks for exposed group \n",
    "X_exposed = exposed_data[exposed_data['yes']==1].count()[0]\n",
    "X_exposed"
   ]
  },
  {
   "cell_type": "code",
   "execution_count": 21,
   "id": "be4f57c0",
   "metadata": {},
   "outputs": [
    {
     "data": {
      "text/plain": [
       "4006"
      ]
     },
     "execution_count": 21,
     "metadata": {},
     "output_type": "execute_result"
    }
   ],
   "source": [
    "#Total number of impressions for exposed group \n",
    "N_exposed = exposed_data.count()[0]\n",
    "N_exposed"
   ]
  },
  {
   "cell_type": "code",
   "execution_count": 22,
   "id": "dfac65e6",
   "metadata": {},
   "outputs": [
    {
     "data": {
      "text/plain": [
       "0.07688467299051423"
      ]
     },
     "execution_count": 22,
     "metadata": {},
     "output_type": "execute_result"
    }
   ],
   "source": [
    "p_exposed = X_exposed/N_exposed \n",
    "p_exposed"
   ]
  },
  {
   "cell_type": "markdown",
   "id": "111c01da",
   "metadata": {},
   "source": [
    "Since we are testing for the difference in these probabilities, we need to obtain an estimate for the pooled probability of success and an estimate for pooled variance"
   ]
  },
  {
   "cell_type": "code",
   "execution_count": 23,
   "id": "f0796fc0",
   "metadata": {},
   "outputs": [
    {
     "data": {
      "text/plain": [
       "0.07081837315835088"
      ]
     },
     "execution_count": 23,
     "metadata": {},
     "output_type": "execute_result"
    }
   ],
   "source": [
    "#estimate for the pooled probability of success\n",
    "p_pooled_success = (X_control + X_exposed)/(N_control + N_exposed)\n",
    "p_pooled_success"
   ]
  },
  {
   "cell_type": "code",
   "execution_count": 24,
   "id": "ccb1b5d6",
   "metadata": {},
   "outputs": [
    {
     "data": {
      "text/plain": [
       "3.259001761135153e-05"
      ]
     },
     "execution_count": 24,
     "metadata": {},
     "output_type": "execute_result"
    }
   ],
   "source": [
    "#estimate for pooled variance\n",
    "pooled_variance = p_pooled_success*(1-p_pooled_success)* (1/N_control + 1/N_exposed)\n",
    "pooled_variance"
   ]
  },
  {
   "cell_type": "code",
   "execution_count": 25,
   "id": "95d714c7",
   "metadata": {},
   "outputs": [
    {
     "data": {
      "text/plain": [
       "2.108290999972843"
      ]
     },
     "execution_count": 25,
     "metadata": {},
     "output_type": "execute_result"
    }
   ],
   "source": [
    "#test statsitics\n",
    "import numpy as np\n",
    "test_stat = np.abs(p_control-p_exposed)/np.sqrt(pooled_variance)\n",
    "test_stat"
   ]
  },
  {
   "cell_type": "code",
   "execution_count": 26,
   "id": "912dcda9",
   "metadata": {},
   "outputs": [
    {
     "data": {
      "text/plain": [
       "0.01750291298416229"
      ]
     },
     "execution_count": 26,
     "metadata": {},
     "output_type": "execute_result"
    }
   ],
   "source": [
    "#two sided test and using symmetry property of Normal distibution so we multiple with 2\n",
    "import scipy.stats as stats\n",
    "one_side = 1 - stats.norm(loc = 0, scale = 1).cdf(test_stat)\n",
    "one_side"
   ]
  },
  {
   "cell_type": "code",
   "execution_count": 27,
   "id": "24b5f874",
   "metadata": {},
   "outputs": [
    {
     "data": {
      "text/plain": [
       "0.03500582596832458"
      ]
     },
     "execution_count": 27,
     "metadata": {},
     "output_type": "execute_result"
    }
   ],
   "source": [
    "p_value = one_side * 2\n",
    "p_value"
   ]
  },
  {
   "cell_type": "code",
   "execution_count": 28,
   "id": "307dd3ff",
   "metadata": {},
   "outputs": [
    {
     "data": {
      "text/plain": [
       "-0.012035741524044075"
      ]
     },
     "execution_count": 28,
     "metadata": {},
     "output_type": "execute_result"
    }
   ],
   "source": [
    "# Confidence Interval\n",
    "p_diff = p_control-p_exposed\n",
    "p_diff "
   ]
  },
  {
   "cell_type": "code",
   "execution_count": 29,
   "id": "a91fc944",
   "metadata": {},
   "outputs": [],
   "source": [
    "significance = 0.05"
   ]
  },
  {
   "cell_type": "code",
   "execution_count": 30,
   "id": "f4586313",
   "metadata": {},
   "outputs": [
    {
     "data": {
      "text/plain": [
       "0.95"
      ]
     },
     "execution_count": 30,
     "metadata": {},
     "output_type": "execute_result"
    }
   ],
   "source": [
    "confidence = 1 - significance\n",
    "confidence"
   ]
  },
  {
   "cell_type": "code",
   "execution_count": 31,
   "id": "8a985d89",
   "metadata": {},
   "outputs": [
    {
     "data": {
      "text/plain": [
       "1.959963984540054"
      ]
     },
     "execution_count": 31,
     "metadata": {},
     "output_type": "execute_result"
    }
   ],
   "source": [
    "#z critical value using the standard normal distribution\n",
    "Z_crit = stats.norm(loc = 0, scale = 1).ppf(confidence + significance / 2)\n",
    "Z_crit"
   ]
  },
  {
   "cell_type": "code",
   "execution_count": 32,
   "id": "298b409c",
   "metadata": {},
   "outputs": [
    {
     "data": {
      "text/plain": [
       "0.005708766732960065"
      ]
     },
     "execution_count": 32,
     "metadata": {},
     "output_type": "execute_result"
    }
   ],
   "source": [
    "#margin error\n",
    "se = np.sqrt(pooled_variance)\n",
    "se"
   ]
  },
  {
   "cell_type": "code",
   "execution_count": 33,
   "id": "57371431",
   "metadata": {},
   "outputs": [
    {
     "data": {
      "text/plain": [
       "array([-0.02322472, -0.00084676])"
      ]
     },
     "execution_count": 33,
     "metadata": {},
     "output_type": "execute_result"
    }
   ],
   "source": [
    "confint = p_diff + np.array([-1, 1]) * Z_crit * se\n",
    "confint"
   ]
  },
  {
   "cell_type": "code",
   "execution_count": 34,
   "id": "2b5cb82c",
   "metadata": {},
   "outputs": [
    {
     "name": "stdout",
     "output_type": "stream",
     "text": [
      "Test Statistics stat:  2.108290999972843\n",
      "Z-critical:  1.959963984540054\n",
      "P_value:  0.03500582596832458\n",
      "Confidence Interval of 2 sample Z-test for proportions:  [-0.02322472 -0.00084676]\n"
     ]
    }
   ],
   "source": [
    "print(\"Test Statistics stat: \", test_stat)\n",
    "print(\"Z-critical: \", Z_crit)\n",
    "print(\"P_value: \", p_value)\n",
    "print(\"Confidence Interval of 2 sample Z-test for proportions: \", confint)"
   ]
  },
  {
   "cell_type": "markdown",
   "id": "5317ee12",
   "metadata": {},
   "source": [
    "###### Compare the values with stats library"
   ]
  },
  {
   "cell_type": "code",
   "execution_count": 44,
   "id": "83101508",
   "metadata": {},
   "outputs": [],
   "source": [
    "from statsmodels.stats.proportion import proportions_ztest, proportion_confint, confint_proportions_2indep"
   ]
  },
  {
   "cell_type": "code",
   "execution_count": 45,
   "id": "93d3af44",
   "metadata": {},
   "outputs": [
    {
     "data": {
      "text/plain": [
       "[264, 308]"
      ]
     },
     "execution_count": 45,
     "metadata": {},
     "output_type": "execute_result"
    }
   ],
   "source": [
    "successes = [X_control, X_exposed]\n",
    "successes"
   ]
  },
  {
   "cell_type": "code",
   "execution_count": 46,
   "id": "200cce9e",
   "metadata": {},
   "outputs": [
    {
     "data": {
      "text/plain": [
       "[4071, 4006]"
      ]
     },
     "execution_count": 46,
     "metadata": {},
     "output_type": "execute_result"
    }
   ],
   "source": [
    "nobs = [N_control,N_exposed]\n",
    "nobs"
   ]
  },
  {
   "cell_type": "code",
   "execution_count": 47,
   "id": "8946076c",
   "metadata": {},
   "outputs": [
    {
     "data": {
      "text/plain": [
       "(-2.108290999972843, 0.035005825968324515)"
      ]
     },
     "execution_count": 47,
     "metadata": {},
     "output_type": "execute_result"
    }
   ],
   "source": [
    "z_stat, pval = proportions_ztest(successes, nobs=nobs)\n",
    "(z_stat, pval)"
   ]
  },
  {
   "cell_type": "code",
   "execution_count": 48,
   "id": "9b8ca887",
   "metadata": {},
   "outputs": [
    {
     "name": "stdout",
     "output_type": "stream",
     "text": [
      "-0.023274457406590773 -0.0008398362969589592\n"
     ]
    }
   ],
   "source": [
    "from statsmodels.stats.proportion import confint_proportions_2indep\n",
    "lower, upper =  confint_proportions_2indep(X_control,\n",
    "                                           N_control, \n",
    "                                           X_exposed,\n",
    "                                           N_exposed, \n",
    "                                           method=None,\n",
    "                                           compare='diff',\n",
    "                                           alpha=0.05, \n",
    "                                           correction=True)\n",
    "print(lower,upper)"
   ]
  },
  {
   "cell_type": "code",
   "execution_count": 49,
   "id": "92c65436",
   "metadata": {},
   "outputs": [
    {
     "name": "stdout",
     "output_type": "stream",
     "text": [
      "Test Statistics stat:  -2.108290999972843\n",
      "P_value:  0.035005825968324515\n",
      "Confidence Interval of 2 sample Z-test for proportions:  (-0.023274457406590773, -0.0008398362969589592)\n"
     ]
    }
   ],
   "source": [
    "print(\"Test Statistics stat: \", z_stat)\n",
    "print(\"P_value: \", pval)\n",
    "print(\"Confidence Interval of 2 sample Z-test for proportions: \", (lower,upper))"
   ]
  },
  {
   "cell_type": "markdown",
   "id": "c68d9cd9",
   "metadata": {},
   "source": [
    "###### Visualise the results "
   ]
  },
  {
   "cell_type": "code",
   "execution_count": 50,
   "id": "2023f5b0",
   "metadata": {},
   "outputs": [
    {
     "name": "stdout",
     "output_type": "stream",
     "text": [
      "0.06484893146647015 0.07688467299051423\n"
     ]
    }
   ],
   "source": [
    "#https://cosmiccoding.com.au/tutorials/ab_tests\n",
    "rate_control, rate_exposed = X_control/N_control, X_exposed/N_exposed \n",
    "print(rate_control, rate_exposed)"
   ]
  },
  {
   "cell_type": "code",
   "execution_count": 51,
   "id": "5ecfbc8a",
   "metadata": {},
   "outputs": [
    {
     "data": {
      "text/plain": [
       "<matplotlib.legend.Legend at 0x1698cd2c940>"
      ]
     },
     "execution_count": 51,
     "metadata": {},
     "output_type": "execute_result"
    },
    {
     "data": {
      "image/png": "[encoded data removed]",
      "text/plain": [
       "<Figure size 432x288 with 1 Axes>"
      ]
     },
     "metadata": {
      "needs_background": "light"
     },
     "output_type": "display_data"
    }
   ],
   "source": [
    "import matplotlib.pyplot as plt\n",
    "std_control = np.sqrt(rate_control*(1-rate_control)/N_control)\n",
    "std_exposed = np.sqrt(rate_exposed*(1-rate_exposed)/N_exposed)\n",
    "click_yes_rate = np.linspace(0, 0.20, 200)\n",
    "\n",
    "prob_control = stats.norm(rate_control, std_control).pdf(click_yes_rate)\n",
    "prob_exposed = stats.norm(rate_exposed, std_exposed).pdf(click_yes_rate)\n",
    "# Make the bar plots.\n",
    "plt.plot(click_yes_rate, prob_control, label=\"Control Group\")\n",
    "plt.plot(click_yes_rate, prob_exposed, label=\"Exposed Group\")\n",
    "plt.xlabel(\"Click_yes_rate\"); \n",
    "plt.ylabel(\"Probability\");\n",
    "plt.legend()"
   ]
  },
  {
   "cell_type": "markdown",
   "id": "c38b6396",
   "metadata": {},
   "source": [
    "This is showing, given the data we collected, the probability that the actual click_yes_rate for A and B has a certain value."
   ]
  },
  {
   "cell_type": "markdown",
   "id": "fbf08999",
   "metadata": {},
   "source": [
    "###### Conclude the results"
   ]
  },
  {
   "cell_type": "markdown",
   "id": "ca6223b9",
   "metadata": {},
   "source": [
    "- Since our p-value=0.03500582596832458 is less than our α=0.05 threshold, we can reject the Null hypothesis Hₒ, which means that our new ad did perform statistically significantly different than our old one. \n",
    "\n",
    "- Since 0 is not included in the confidence interval, the change is statiscally significant. "
   ]
  },
  {
   "cell_type": "code",
   "execution_count": null,
   "id": "60827460",
   "metadata": {},
   "outputs": [],
   "source": []
  }
 ],
 "metadata": {
  "kernelspec": {
   "display_name": "Python 3 (ipykernel)",
   "language": "python",
   "name": "python3"
  },
  "language_info": {
   "codemirror_mode": {
    "name": "ipython",
    "version": 3
   },
   "file_extension": ".py",
   "mimetype": "text/x-python",
   "name": "python",
   "nbconvert_exporter": "python",
   "pygments_lexer": "ipython3",
   "version": "3.9.7"
  }
 },
 "nbformat": 4,
 "nbformat_minor": 5
}

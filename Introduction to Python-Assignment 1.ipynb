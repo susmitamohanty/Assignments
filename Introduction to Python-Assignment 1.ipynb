{
 "cells": [
  {
   "cell_type": "markdown",
   "id": "8043ede1",
   "metadata": {},
   "source": [
    "# String"
   ]
  },
  {
   "cell_type": "markdown",
   "id": "bc4aa287",
   "metadata": {},
   "source": [
    "###### 1.  Ask the user to enter their first name and surname in lower case.Change the case to title case and join them together. Display the finished result."
   ]
  },
  {
   "cell_type": "code",
   "execution_count": 6,
   "id": "1a2f99c3",
   "metadata": {},
   "outputs": [
    {
     "name": "stdout",
     "output_type": "stream",
     "text": [
      "Enter your first name in lower case:susmita\n"
     ]
    }
   ],
   "source": [
    "first_name = input(\"Enter your first name in lower case:\")"
   ]
  },
  {
   "cell_type": "code",
   "execution_count": 7,
   "id": "6da18c33",
   "metadata": {},
   "outputs": [
    {
     "name": "stdout",
     "output_type": "stream",
     "text": [
      "susmita\n"
     ]
    }
   ],
   "source": [
    "print(first_name)"
   ]
  },
  {
   "cell_type": "code",
   "execution_count": 8,
   "id": "12a6a2e5",
   "metadata": {},
   "outputs": [
    {
     "name": "stdout",
     "output_type": "stream",
     "text": [
      "Enter your last name in lower case:mohanty\n"
     ]
    }
   ],
   "source": [
    "last_name = input(\"Enter your last name in lower case:\")\n"
   ]
  },
  {
   "cell_type": "code",
   "execution_count": 9,
   "id": "c286606c",
   "metadata": {},
   "outputs": [
    {
     "data": {
      "text/plain": [
       "'mohanty'"
      ]
     },
     "execution_count": 9,
     "metadata": {},
     "output_type": "execute_result"
    }
   ],
   "source": [
    "last_name"
   ]
  },
  {
   "cell_type": "code",
   "execution_count": 2,
   "id": "6f4a671a",
   "metadata": {},
   "outputs": [
    {
     "data": {
      "text/plain": [
       "'SUSMITA MOHANTY'"
      ]
     },
     "execution_count": 2,
     "metadata": {},
     "output_type": "execute_result"
    }
   ],
   "source": [
    "#first_name='susmita'\n",
    "#sur_name = 'mohanty'\n",
    "name = first_name.upper() + ' ' + last_name.upper()\n",
    "name \n"
   ]
  },
  {
   "cell_type": "markdown",
   "id": "0bb090d9",
   "metadata": {},
   "source": [
    "###### 2. Ask the user to type in the first line of a poem Raven by Edgar Allen Poe and display the length of the string. Ask for a starting number and an ending number and then display just that section of the text (remember Python starts counting from 0 and not 1). "
   ]
  },
  {
   "cell_type": "code",
   "execution_count": 10,
   "id": "5e36e438",
   "metadata": {},
   "outputs": [
    {
     "name": "stdout",
     "output_type": "stream",
     "text": [
      "Enter first line of poem Raven by Edgar Allen Poe:Deep into that darkness peering,  Long I stood there, wondering, fearing,  Doubting, dreaming dreams no mortals  Ever dared to dream before;  But the silence was unbroken,  And the stillness gave no token,  And the only word there spoken  Was the whispered word, \"Lenore!\"  This I whispered, and an echo  Murmured back the word, \"Lenore!\"  Merely this, and nothing more.\n"
     ]
    }
   ],
   "source": [
    "poem=input(\"Enter first line of poem Raven by Edgar Allen Poe:\")"
   ]
  },
  {
   "cell_type": "code",
   "execution_count": 16,
   "id": "39f1a4e3",
   "metadata": {},
   "outputs": [
    {
     "name": "stdout",
     "output_type": "stream",
     "text": [
      "Enter starting position:5\n"
     ]
    }
   ],
   "source": [
    "start=int(input(\"Enter starting position:\"))"
   ]
  },
  {
   "cell_type": "code",
   "execution_count": 17,
   "id": "999c54c7",
   "metadata": {},
   "outputs": [
    {
     "name": "stdout",
     "output_type": "stream",
     "text": [
      "Enter last position:20\n"
     ]
    }
   ],
   "source": [
    "end =int(input(\"Enter last position:\"))"
   ]
  },
  {
   "cell_type": "code",
   "execution_count": 18,
   "id": "30bf4481",
   "metadata": {},
   "outputs": [
    {
     "name": "stdout",
     "output_type": "stream",
     "text": [
      "into that darkn\n"
     ]
    }
   ],
   "source": [
    "print(poem[start:end])"
   ]
  },
  {
   "cell_type": "markdown",
   "id": "c9c75db3",
   "metadata": {},
   "source": [
    "###### 3. Removes extra characters from the start and end of a string and explain why you need to remove white spaces while exploring text."
   ]
  },
  {
   "cell_type": "code",
   "execution_count": 19,
   "id": "779525f4",
   "metadata": {},
   "outputs": [
    {
     "name": "stdout",
     "output_type": "stream",
     "text": [
      "   This is a test   \n",
      "This is a test\n"
     ]
    }
   ],
   "source": [
    "str=\"   This is a test   \"\n",
    "print(str)\n",
    "print(str.strip())"
   ]
  },
  {
   "cell_type": "markdown",
   "id": "aff95ef6",
   "metadata": {},
   "source": [
    "White spaces at the start and end of a string add no inherent value to it."
   ]
  },
  {
   "cell_type": "markdown",
   "id": "d585efd2",
   "metadata": {},
   "source": [
    "# Data Types Assignment"
   ]
  },
  {
   "cell_type": "markdown",
   "id": "a1295d86",
   "metadata": {},
   "source": [
    "###### 1- Suppose you invested in Bitcoin at the end of 2020 when Bitcoin gained a lot of value. What would be your money at the end of a week if you had invested $1000 with an average daily increase of 12% ? You can solve the problem using Python."
   ]
  },
  {
   "cell_type": "code",
   "execution_count": 22,
   "id": "84218aad",
   "metadata": {},
   "outputs": [
    {
     "name": "stdout",
     "output_type": "stream",
     "text": [
      "2210.6814074060803\n"
     ]
    }
   ],
   "source": [
    "range_days = 7\n",
    "capital = 1000.00\n",
    "for i in range(7):\n",
    "    growth = capital * 0.12\n",
    "    capital += growth\n",
    "    \n",
    "print(capital)"
   ]
  },
  {
   "cell_type": "markdown",
   "id": "64478ad7",
   "metadata": {},
   "source": [
    "###### 2- Print the text in quotes with Python. However, you must get the numbers from variables using .format() notation. Because the text is long, you might consider writing in two lines:\n",
    "\"When we buy bitcoin with 1000 USD at the beginning of the week, we would earn 1210.68 USD at the end of the week, with an average gain of 12\\%.\""
   ]
  },
  {
   "cell_type": "code",
   "execution_count": 25,
   "id": "ce62ee3f",
   "metadata": {},
   "outputs": [],
   "source": [
    "capital = 1000.00\n",
    "result = 1210.68\n",
    "rate = 12"
   ]
  },
  {
   "cell_type": "code",
   "execution_count": 26,
   "id": "7a11e1fc",
   "metadata": {},
   "outputs": [
    {
     "name": "stdout",
     "output_type": "stream",
     "text": [
      "When we buy bitcoin with 1000.0 USD at the beginning of the week,we would earn 1210.68 USD at the end of the week, with an average gain of 12%.\n"
     ]
    }
   ],
   "source": [
    "print(\"When we buy bitcoin with {} USD at the beginning of the week,we would earn {} USD at the end of the week, \\\n",
    "with an average gain of {}%.\".format(capital,result,rate))"
   ]
  },
  {
   "cell_type": "markdown",
   "id": "0b88a5dd",
   "metadata": {},
   "source": [
    "###### 3- Get the temperature in Fahrenheit from user and write a code to convert it to Celcius. For conversion, you can use this formula: C = (5/9) * (F - 32)\n"
   ]
  },
  {
   "cell_type": "code",
   "execution_count": 27,
   "id": "025d0770",
   "metadata": {},
   "outputs": [
    {
     "name": "stdout",
     "output_type": "stream",
     "text": [
      "Enter the temperature in Fahrenheit:25\n"
     ]
    }
   ],
   "source": [
    "f=int(input(\"Enter the temperature in Fahrenheit:\"))\n"
   ]
  },
  {
   "cell_type": "code",
   "execution_count": 28,
   "id": "e1fa8998",
   "metadata": {},
   "outputs": [
    {
     "name": "stdout",
     "output_type": "stream",
     "text": [
      "25\n"
     ]
    }
   ],
   "source": [
    "print(f)"
   ]
  },
  {
   "cell_type": "code",
   "execution_count": 29,
   "id": "2896f627",
   "metadata": {},
   "outputs": [
    {
     "name": "stdout",
     "output_type": "stream",
     "text": [
      "Temperature(C) -3.8888888888888893\n"
     ]
    }
   ],
   "source": [
    "output=(5/9)*(f-32)\n",
    "print(\"Temperature(C)\",output)"
   ]
  },
  {
   "cell_type": "markdown",
   "id": "746d9c5b",
   "metadata": {},
   "source": [
    "###### 4- Get a three digit number the from user and calculate the sum of the digits in the integer."
   ]
  },
  {
   "cell_type": "code",
   "execution_count": 33,
   "id": "ae493862",
   "metadata": {},
   "outputs": [
    {
     "name": "stdout",
     "output_type": "stream",
     "text": [
      "Enter 3-digit number:543\n"
     ]
    }
   ],
   "source": [
    "f=input(\"Enter 3-digit number:\")\n"
   ]
  },
  {
   "cell_type": "code",
   "execution_count": 34,
   "id": "0409213b",
   "metadata": {},
   "outputs": [
    {
     "name": "stdout",
     "output_type": "stream",
     "text": [
      "543\n"
     ]
    }
   ],
   "source": [
    "print(f)"
   ]
  },
  {
   "cell_type": "code",
   "execution_count": 35,
   "id": "a04805b2",
   "metadata": {},
   "outputs": [
    {
     "name": "stdout",
     "output_type": "stream",
     "text": [
      "12\n"
     ]
    }
   ],
   "source": [
    "import numpy as np\n",
    "sum=0\n",
    "for x in f:\n",
    "    sum+=np.int64(x)\n",
    "    \n",
    "print(sum)"
   ]
  },
  {
   "cell_type": "code",
   "execution_count": 36,
   "id": "8f1922bc",
   "metadata": {},
   "outputs": [
    {
     "name": "stdout",
     "output_type": "stream",
     "text": [
      "12\n"
     ]
    },
    {
     "name": "stderr",
     "output_type": "stream",
     "text": [
      "C:\\Users\\smoha\\AppData\\Local\\Temp/ipykernel_11136/1625774860.py:1: DeprecationWarning: Calling np.sum(generator) is deprecated, and in the future will give a different result. Use np.sum(np.fromiter(generator)) or the python sum builtin instead.\n",
      "  print(np.sum(np.int64(x) for x in f))\n"
     ]
    }
   ],
   "source": [
    "print(np.sum(np.int64(x) for x in f))"
   ]
  },
  {
   "cell_type": "markdown",
   "id": "e646486d",
   "metadata": {},
   "source": [
    "##### 5- Write some code to calculate the hypotenuse of a right angled triangle. Get the side lengths from the user."
   ]
  },
  {
   "cell_type": "code",
   "execution_count": 39,
   "id": "34931d29",
   "metadata": {},
   "outputs": [
    {
     "name": "stdout",
     "output_type": "stream",
     "text": [
      "Enter first side length:4\n"
     ]
    }
   ],
   "source": [
    "a = int(input(\"Enter first side length:\"))"
   ]
  },
  {
   "cell_type": "code",
   "execution_count": 40,
   "id": "700b8480",
   "metadata": {},
   "outputs": [
    {
     "name": "stdout",
     "output_type": "stream",
     "text": [
      "Enter second side length:3\n"
     ]
    }
   ],
   "source": [
    "b = int(input(\"Enter second side length:\"))"
   ]
  },
  {
   "cell_type": "code",
   "execution_count": 44,
   "id": "b3272304",
   "metadata": {},
   "outputs": [
    {
     "data": {
      "text/plain": [
       "16"
      ]
     },
     "execution_count": 44,
     "metadata": {},
     "output_type": "execute_result"
    }
   ],
   "source": [
    "a\n",
    "a**2"
   ]
  },
  {
   "cell_type": "code",
   "execution_count": 46,
   "id": "1a53b9e1",
   "metadata": {},
   "outputs": [
    {
     "data": {
      "text/plain": [
       "9"
      ]
     },
     "execution_count": 46,
     "metadata": {},
     "output_type": "execute_result"
    }
   ],
   "source": [
    "b\n",
    "b**2"
   ]
  },
  {
   "cell_type": "code",
   "execution_count": 50,
   "id": "f000323c",
   "metadata": {},
   "outputs": [
    {
     "data": {
      "text/plain": [
       "5.0"
      ]
     },
     "execution_count": 50,
     "metadata": {},
     "output_type": "execute_result"
    }
   ],
   "source": [
    "h = np.sqrt(np.sum([a**2,b**2]))\n",
    "h"
   ]
  }
 ],
 "metadata": {
  "kernelspec": {
   "display_name": "Python 3 (ipykernel)",
   "language": "python",
   "name": "python3"
  },
  "language_info": {
   "codemirror_mode": {
    "name": "ipython",
    "version": 3
   },
   "file_extension": ".py",
   "mimetype": "text/x-python",
   "name": "python",
   "nbconvert_exporter": "python",
   "pygments_lexer": "ipython3",
   "version": "3.9.7"
  }
 },
 "nbformat": 4,
 "nbformat_minor": 5
}

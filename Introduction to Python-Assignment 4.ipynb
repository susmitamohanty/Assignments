{
 "cells": [
  {
   "cell_type": "markdown",
   "id": "19e01cd1",
   "metadata": {},
   "source": [
    "### Conditional Statements Assignment"
   ]
  },
  {
   "cell_type": "markdown",
   "id": "41f4598c",
   "metadata": {},
   "source": [
    "##### 1- Ask the user to enter a number between 10 and 20 (inclusive). If they enter a number within this range, display the message “Thank you”, otherwise display the message “Incorrect answer”."
   ]
  },
  {
   "cell_type": "code",
   "execution_count": 3,
   "id": "8080cfa7",
   "metadata": {},
   "outputs": [
    {
     "name": "stdout",
     "output_type": "stream",
     "text": [
      "Enter a number between 10 and 20: 11\n",
      "Thank you\n"
     ]
    }
   ],
   "source": [
    "num = int(input(\"Enter a number between 10 and 20: \"))\n",
    "if (num >= 10 and num <= 20):\n",
    "    print(\"Thank you\")\n",
    "else:\n",
    "    print(\"Incorrect answer\")\n",
    "    "
   ]
  },
  {
   "cell_type": "markdown",
   "id": "a6deb69d",
   "metadata": {},
   "source": [
    "##### 2- In this exercise, you will create a program that reads a letter of the alphabet from the user. According to the answer:\n",
    "\n",
    "If the user enters a, e, i, o, u, then your program should display a message indicating that the entered letter is a vowel.\n",
    "\n",
    "If the user enters y, then your program should display a message indicating that y is sometimes a vowel and sometimes a consonant.\n",
    "\n",
    "Otherwise, your program should display a message indicating that the letter is a consonant.\n",
    "\n"
   ]
  },
  {
   "cell_type": "code",
   "execution_count": 8,
   "id": "a79c842f",
   "metadata": {},
   "outputs": [
    {
     "name": "stdout",
     "output_type": "stream",
     "text": [
      "Enter a letter of the english aplhabets: a\n",
      "Entered letter is a vowel.\n"
     ]
    }
   ],
   "source": [
    "letter = input(\"Enter a letter of the english aplhabets: \")\n",
    "\n",
    "if (letter == 'a' or\n",
    "   letter == 'e' or \n",
    "   letter == 'i' or\n",
    "   letter == 'o' or\n",
    "   letter == 'u'):\n",
    "    print(\"Entered letter is a vowel.\")\n",
    "elif (letter == 'y'):\n",
    "          print(\"Entered letter is sometimes a vowel and sometimes a consonant.\")\n",
    "else:\n",
    "    print(\"Entered letter is a consonant.\")\n"
   ]
  }
 ],
 "metadata": {
  "kernelspec": {
   "display_name": "Python 3 (ipykernel)",
   "language": "python",
   "name": "python3"
  },
  "language_info": {
   "codemirror_mode": {
    "name": "ipython",
    "version": 3
   },
   "file_extension": ".py",
   "mimetype": "text/x-python",
   "name": "python",
   "nbconvert_exporter": "python",
   "pygments_lexer": "ipython3",
   "version": "3.9.7"
  }
 },
 "nbformat": 4,
 "nbformat_minor": 5
}

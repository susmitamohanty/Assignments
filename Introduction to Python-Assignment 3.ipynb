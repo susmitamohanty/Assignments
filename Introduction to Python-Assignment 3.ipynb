{
 "cells": [
  {
   "cell_type": "markdown",
   "id": "12437ac4",
   "metadata": {},
   "source": [
    "##### Dictionary Assignment"
   ]
  },
  {
   "cell_type": "markdown",
   "id": "0ffa2b49",
   "metadata": {},
   "source": [
    "##### 1-Create a dictionary with 7 days. Ask the user to choose 2 different days by listing the (e.g. \"12\" for Monday and Tuesday). Delete the user-selected days from the dictionary and print the remaining 5 days on the screen."
   ]
  },
  {
   "cell_type": "code",
   "execution_count": 74,
   "id": "b0976125",
   "metadata": {},
   "outputs": [],
   "source": [
    "num_days=[0,1,2,3,4,5,6,7]\n",
    "day=['Sunday','Monday','Tuesday','Wednesday','Thursday','Friday','Saturday']"
   ]
  },
  {
   "cell_type": "code",
   "execution_count": 78,
   "id": "1e85aa51",
   "metadata": {},
   "outputs": [
    {
     "data": {
      "text/plain": [
       "{0: 'Sunday',\n",
       " 1: 'Monday',\n",
       " 2: 'Tuesday',\n",
       " 3: 'Wednesday',\n",
       " 4: 'Thursday',\n",
       " 5: 'Friday',\n",
       " 6: 'Saturday'}"
      ]
     },
     "execution_count": 78,
     "metadata": {},
     "output_type": "execute_result"
    }
   ],
   "source": [
    "week=dict(zip(num_days,day))\n",
    "week"
   ]
  },
  {
   "cell_type": "code",
   "execution_count": 76,
   "id": "cd4f12ea",
   "metadata": {},
   "outputs": [
    {
     "name": "stdout",
     "output_type": "stream",
     "text": [
      "Enter weekday 1:1\n"
     ]
    }
   ],
   "source": [
    "user_day1=int(input(\"Enter weekday 1:\"))"
   ]
  },
  {
   "cell_type": "code",
   "execution_count": 77,
   "id": "4a069eed",
   "metadata": {},
   "outputs": [
    {
     "name": "stdout",
     "output_type": "stream",
     "text": [
      "Enter weekday 2:2\n"
     ]
    }
   ],
   "source": [
    "user_day2=int(input(\"Enter weekday 2:\"))"
   ]
  },
  {
   "cell_type": "code",
   "execution_count": 79,
   "id": "6ed64da1",
   "metadata": {},
   "outputs": [
    {
     "name": "stdout",
     "output_type": "stream",
     "text": [
      "{0: 'Sunday', 1: 'Monday', 2: 'Tuesday', 3: 'Wednesday', 4: 'Thursday', 5: 'Friday', 6: 'Saturday'}\n"
     ]
    }
   ],
   "source": [
    "print(week)"
   ]
  },
  {
   "cell_type": "code",
   "execution_count": 80,
   "id": "925d7c70",
   "metadata": {},
   "outputs": [
    {
     "name": "stdout",
     "output_type": "stream",
     "text": [
      "{0: 'Sunday', 1: 'Monday', 2: 'Tuesday', 3: 'Wednesday', 4: 'Thursday', 5: 'Friday', 6: 'Saturday'}\n",
      "{0: 'Sunday', 3: 'Wednesday', 4: 'Thursday', 5: 'Friday', 6: 'Saturday'}\n"
     ]
    }
   ],
   "source": [
    "week2 = {}\n",
    "for i in week:\n",
    "    if (i != user_day1) and (i != user_day2):\n",
    "        week2[i] = week[i]\n",
    "        \n",
    "print(week)\n",
    "print(week2)\n",
    "        "
   ]
  },
  {
   "cell_type": "markdown",
   "id": "b36997d7",
   "metadata": {},
   "source": [
    "##### 2- Create a dictionary with the following personnel. Use names as keys."
   ]
  },
  {
   "cell_type": "code",
   "execution_count": 81,
   "id": "a8e73c43",
   "metadata": {},
   "outputs": [
    {
     "data": {
      "text/plain": [
       "{'Michael': {'age': 47, 'gender': 'male'},\n",
       " 'Malcolm': {'age': 57, 'gender': 'male'},\n",
       " 'Eva': {'age': 49, 'gender': 'female'},\n",
       " 'Tracy': {'age': 37, 'gender': 'female'},\n",
       " 'Linda': {'age': 40, 'gender': 'female'},\n",
       " 'John': {'age': 42, 'gender': 'male'}}"
      ]
     },
     "execution_count": 81,
     "metadata": {},
     "output_type": "execute_result"
    }
   ],
   "source": [
    "personnel = {'Michael':{'age':47,'gender':'male'},\n",
    "             'Malcolm':{'age':57,'gender':'male'},\n",
    "             'Eva':{'age':49,'gender':'female'},\n",
    "             'Tracy':{'age':37,'gender':'female'},\n",
    "             'Linda':{'age':40,'gender':'female'},\n",
    "             'John':{'age':42,'gender':'male'}\n",
    "            }             \n",
    "personnel"
   ]
  },
  {
   "cell_type": "markdown",
   "id": "8766e3c6",
   "metadata": {},
   "source": [
    "##### 3- Add child information to Michael and Linda. Michael has two children (Karen (age : 12, female) and Greg (age : 7, male) and Linda has one child (Susan (age: 6, female))"
   ]
  },
  {
   "cell_type": "code",
   "execution_count": 82,
   "id": "206286d7",
   "metadata": {},
   "outputs": [],
   "source": [
    "\n",
    "for key in personnel.keys():\n",
    "   \n",
    "    if key == 'Michael' or key == 'Linda':\n",
    "        \n",
    "        d={}\n",
    "        if key == 'Michael':\n",
    "            d['Karen']={'age':7,'gender':'male'}\n",
    "            d['Greg']={'age':7,'gender':'male'}          \n",
    "            personnel[key]['children']=d\n",
    "        else:\n",
    "            d['Susan']={'age':6,'gender':'female'}\n",
    "            personnel[key]['children']=d       \n",
    "        "
   ]
  },
  {
   "cell_type": "code",
   "execution_count": 83,
   "id": "81f40d36",
   "metadata": {},
   "outputs": [
    {
     "data": {
      "text/plain": [
       "{'Michael': {'age': 47,\n",
       "  'gender': 'male',\n",
       "  'children': {'Karen': {'age': 7, 'gender': 'male'},\n",
       "   'Greg': {'age': 7, 'gender': 'male'}}},\n",
       " 'Malcolm': {'age': 57, 'gender': 'male'},\n",
       " 'Eva': {'age': 49, 'gender': 'female'},\n",
       " 'Tracy': {'age': 37, 'gender': 'female'},\n",
       " 'Linda': {'age': 40,\n",
       "  'gender': 'female',\n",
       "  'children': {'Susan': {'age': 6, 'gender': 'female'}}},\n",
       " 'John': {'age': 42, 'gender': 'male'}}"
      ]
     },
     "execution_count": 83,
     "metadata": {},
     "output_type": "execute_result"
    }
   ],
   "source": [
    "personnel"
   ]
  },
  {
   "cell_type": "markdown",
   "id": "b63e97ae",
   "metadata": {},
   "source": [
    "##### 4- Print the names of Michael's children in a list."
   ]
  },
  {
   "cell_type": "code",
   "execution_count": 84,
   "id": "a86dea97",
   "metadata": {},
   "outputs": [
    {
     "name": "stdout",
     "output_type": "stream",
     "text": [
      "['Karen', 'Greg']\n"
     ]
    }
   ],
   "source": [
    "print([k for k in personnel['Michael']['children'].keys()])\n"
   ]
  }
 ],
 "metadata": {
  "kernelspec": {
   "display_name": "Python 3 (ipykernel)",
   "language": "python",
   "name": "python3"
  },
  "language_info": {
   "codemirror_mode": {
    "name": "ipython",
    "version": 3
   },
   "file_extension": ".py",
   "mimetype": "text/x-python",
   "name": "python",
   "nbconvert_exporter": "python",
   "pygments_lexer": "ipython3",
   "version": "3.9.7"
  }
 },
 "nbformat": 4,
 "nbformat_minor": 5
}

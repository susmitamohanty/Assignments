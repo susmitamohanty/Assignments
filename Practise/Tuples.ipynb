{
 "cells": [
  {
   "cell_type": "markdown",
   "id": "9eead454",
   "metadata": {},
   "source": [
    "Tuples is very similar to lists. we should choose tuples because it is much faster than lists."
   ]
  },
  {
   "cell_type": "code",
   "execution_count": 1,
   "id": "0c430b3b",
   "metadata": {},
   "outputs": [
    {
     "data": {
      "text/plain": [
       "(1, 2, 3)"
      ]
     },
     "execution_count": 1,
     "metadata": {},
     "output_type": "execute_result"
    }
   ],
   "source": [
    "#create a tuple of numbers \n",
    "t = (1,2,3)\n",
    "t"
   ]
  },
  {
   "cell_type": "code",
   "execution_count": 3,
   "id": "40c1a391",
   "metadata": {},
   "outputs": [
    {
     "data": {
      "text/plain": [
       "('cat', 2, 3, 4.3, 'dog')"
      ]
     },
     "execution_count": 3,
     "metadata": {},
     "output_type": "execute_result"
    }
   ],
   "source": [
    "# Create a tuple of mixed data types\n",
    "t2=('cat',2,3,4.3,'dog')\n",
    "t2"
   ]
  },
  {
   "cell_type": "code",
   "execution_count": 4,
   "id": "8b5042e5",
   "metadata": {},
   "outputs": [
    {
     "data": {
      "text/plain": [
       "'cat'"
      ]
     },
     "execution_count": 4,
     "metadata": {},
     "output_type": "execute_result"
    }
   ],
   "source": [
    "#indexing\n",
    "t2[0]"
   ]
  },
  {
   "cell_type": "code",
   "execution_count": 5,
   "id": "243c432b",
   "metadata": {},
   "outputs": [
    {
     "data": {
      "text/plain": [
       "2"
      ]
     },
     "execution_count": 5,
     "metadata": {},
     "output_type": "execute_result"
    }
   ],
   "source": [
    "t2[1]"
   ]
  },
  {
   "cell_type": "code",
   "execution_count": 6,
   "id": "18e1bdd3",
   "metadata": {},
   "outputs": [
    {
     "data": {
      "text/plain": [
       "(2, 3)"
      ]
     },
     "execution_count": 6,
     "metadata": {},
     "output_type": "execute_result"
    }
   ],
   "source": [
    "#slicing\n",
    "t2[1:3]"
   ]
  },
  {
   "cell_type": "code",
   "execution_count": 7,
   "id": "52caa56a",
   "metadata": {},
   "outputs": [
    {
     "data": {
      "text/plain": [
       "('cat', 2)"
      ]
     },
     "execution_count": 7,
     "metadata": {},
     "output_type": "execute_result"
    }
   ],
   "source": [
    "t2[0:2]"
   ]
  },
  {
   "cell_type": "code",
   "execution_count": 8,
   "id": "0e08375d",
   "metadata": {},
   "outputs": [
    {
     "data": {
      "text/plain": [
       "['a', 'b', 'c', 'd', 'e']"
      ]
     },
     "execution_count": 8,
     "metadata": {},
     "output_type": "execute_result"
    }
   ],
   "source": [
    "#It is possible to convert a list or dictionary to tuple. All we need is to use tuple() function.\n",
    "ls = ['a','b','c','d','e']\n",
    "ls\n"
   ]
  },
  {
   "cell_type": "code",
   "execution_count": 9,
   "id": "b4531718",
   "metadata": {},
   "outputs": [
    {
     "data": {
      "text/plain": [
       "('a', 'b', 'c', 'd', 'e')"
      ]
     },
     "execution_count": 9,
     "metadata": {},
     "output_type": "execute_result"
    }
   ],
   "source": [
    "t3=tuple(ls)\n",
    "t3"
   ]
  },
  {
   "cell_type": "code",
   "execution_count": 10,
   "id": "325f36fe",
   "metadata": {},
   "outputs": [
    {
     "data": {
      "text/plain": [
       "{'elem1': 1, 'elem2': 2, 'elem3': 3}"
      ]
     },
     "execution_count": 10,
     "metadata": {},
     "output_type": "execute_result"
    }
   ],
   "source": [
    "d={}\n",
    "d={'elem1':1,'elem2':2,'elem3':3}\n",
    "d\n"
   ]
  },
  {
   "cell_type": "code",
   "execution_count": 12,
   "id": "02c980e3",
   "metadata": {},
   "outputs": [
    {
     "data": {
      "text/plain": [
       "(1, 2, 3)"
      ]
     },
     "execution_count": 12,
     "metadata": {},
     "output_type": "execute_result"
    }
   ],
   "source": [
    "t4=tuple(d.values())\n",
    "t4"
   ]
  },
  {
   "cell_type": "code",
   "execution_count": 13,
   "id": "e7120bac",
   "metadata": {},
   "outputs": [
    {
     "data": {
      "text/plain": [
       "['a', 'b']"
      ]
     },
     "execution_count": 13,
     "metadata": {},
     "output_type": "execute_result"
    }
   ],
   "source": [
    "#Lists vs Tuples\n",
    "ls2 = ['a','b']\n",
    "ls2"
   ]
  },
  {
   "cell_type": "code",
   "execution_count": 14,
   "id": "78ec9c31",
   "metadata": {},
   "outputs": [
    {
     "data": {
      "text/plain": [
       "['x', 'b']"
      ]
     },
     "execution_count": 14,
     "metadata": {},
     "output_type": "execute_result"
    }
   ],
   "source": [
    "ls2[0]='x'\n",
    "ls2"
   ]
  },
  {
   "cell_type": "code",
   "execution_count": 15,
   "id": "eda2b747",
   "metadata": {},
   "outputs": [
    {
     "data": {
      "text/plain": [
       "(1, 2, 3)"
      ]
     },
     "execution_count": 15,
     "metadata": {},
     "output_type": "execute_result"
    }
   ],
   "source": [
    "t5 = (1,2,3)\n",
    "t5"
   ]
  },
  {
   "cell_type": "code",
   "execution_count": 16,
   "id": "ee65e0bd",
   "metadata": {},
   "outputs": [
    {
     "ename": "TypeError",
     "evalue": "'tuple' object does not support item assignment",
     "output_type": "error",
     "traceback": [
      "\u001b[1;31m---------------------------------------------------------------------------\u001b[0m",
      "\u001b[1;31mTypeError\u001b[0m                                 Traceback (most recent call last)",
      "\u001b[1;32m~\\AppData\\Local\\Temp/ipykernel_7644/3897510789.py\u001b[0m in \u001b[0;36m<module>\u001b[1;34m\u001b[0m\n\u001b[1;32m----> 1\u001b[1;33m \u001b[0mt5\u001b[0m\u001b[1;33m[\u001b[0m\u001b[1;36m0\u001b[0m\u001b[1;33m]\u001b[0m\u001b[1;33m=\u001b[0m\u001b[1;36m5\u001b[0m\u001b[1;33m\u001b[0m\u001b[1;33m\u001b[0m\u001b[0m\n\u001b[0m",
      "\u001b[1;31mTypeError\u001b[0m: 'tuple' object does not support item assignment"
     ]
    }
   ],
   "source": [
    "t5[0]=5"
   ]
  }
 ],
 "metadata": {
  "kernelspec": {
   "display_name": "Python 3 (ipykernel)",
   "language": "python",
   "name": "python3"
  },
  "language_info": {
   "codemirror_mode": {
    "name": "ipython",
    "version": 3
   },
   "file_extension": ".py",
   "mimetype": "text/x-python",
   "name": "python",
   "nbconvert_exporter": "python",
   "pygments_lexer": "ipython3",
   "version": "3.9.7"
  }
 },
 "nbformat": 4,
 "nbformat_minor": 5
}

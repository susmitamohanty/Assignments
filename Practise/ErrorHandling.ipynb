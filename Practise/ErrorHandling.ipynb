{
 "cells": [
  {
   "cell_type": "code",
   "execution_count": 2,
   "id": "47215d76",
   "metadata": {},
   "outputs": [
    {
     "name": "stdout",
     "output_type": "stream",
     "text": [
      "enter a numbera\n",
      "Please type a number only!\n"
     ]
    }
   ],
   "source": [
    "try:\n",
    "    x=int(input('enter a number'))\n",
    "    print(x**x)\n",
    "    \n",
    "except:\n",
    "    print(\"Please type a number only!\")"
   ]
  },
  {
   "cell_type": "code",
   "execution_count": 4,
   "id": "b3d427d2",
   "metadata": {},
   "outputs": [],
   "source": [
    "#If we know or guess what kind of error we may encounter, different actions can be taken depending on the error:\n",
    "#except IOError:\n",
    "#    print('A problem occured reading a file.')\n",
    "\n",
    "##except ValueError:\n",
    "#    print('Non-numeric data in the folder.')\n",
    "\n",
    "#except ImportError:\n",
    "#    print \"No specified module.\"\n",
    "\n",
    "#except EOFError:\n",
    "#    print('End of file exception error !')\n",
    "\n",
    "#except KeyboardInterrupt:\n",
    "#    print('KeyboardInterrupt..')\n",
    "\n",
    "#except:\n",
    "#    print('An error occurred.')"
   ]
  },
  {
   "cell_type": "code",
   "execution_count": 5,
   "id": "36f08c14",
   "metadata": {},
   "outputs": [
    {
     "name": "stdout",
     "output_type": "stream",
     "text": [
      "enter a numbers\n"
     ]
    }
   ],
   "source": [
    "#If we do not specify anything after the except statement, we can use the pass command:\n",
    "try:\n",
    "    x=int(input('enter a number'))\n",
    "    print(x**x)\n",
    "    \n",
    "except:\n",
    "    pass"
   ]
  },
  {
   "cell_type": "code",
   "execution_count": 7,
   "id": "36ed146f",
   "metadata": {},
   "outputs": [
    {
     "name": "stdout",
     "output_type": "stream",
     "text": [
      "'division by zero' error occured\n"
     ]
    }
   ],
   "source": [
    "try:\n",
    "    x=1/0\n",
    "except Exception as e:\n",
    "    print(\"'{}' error occured\".format(e))"
   ]
  }
 ],
 "metadata": {
  "kernelspec": {
   "display_name": "Python 3 (ipykernel)",
   "language": "python",
   "name": "python3"
  },
  "language_info": {
   "codemirror_mode": {
    "name": "ipython",
    "version": 3
   },
   "file_extension": ".py",
   "mimetype": "text/x-python",
   "name": "python",
   "nbconvert_exporter": "python",
   "pygments_lexer": "ipython3",
   "version": "3.9.7"
  }
 },
 "nbformat": 4,
 "nbformat_minor": 5
}

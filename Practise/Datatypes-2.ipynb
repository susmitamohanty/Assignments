{
 "cells": [
  {
   "cell_type": "markdown",
   "id": "81beaecf",
   "metadata": {},
   "source": [
    "#### Categorical data\n",
    "\n",
    "Categorical data has to do with characteristics. \n",
    "\n",
    "Categorical Data Type is used in the following cases:\n",
    "\n",
    "- A string variable that consists of only a few different values. The act of converting such string to a categorical variable will save memory.\n",
    "- The lexical order of a variable is not the same as the logical order (“one”, “two”, “three”), converting such to a categorical variable and specifying an order on the categories, sorting will use the logical order instead of the lexical order."
   ]
  },
  {
   "cell_type": "markdown",
   "id": "2bff5824",
   "metadata": {},
   "source": [
    "- Nominal variables represent categories or groups, so we are not able to sort and rank values.\n",
    "\n",
    "- For example, marital status; it is a four-category variable that can be classified as married, single, widowed, divorced, and this variable can be coded as “married: 0”, “single: 1”, “widow: 2” “divorced: 3”, but these numerical codes are numeric. It does not represent a size nor can be ordered."
   ]
  },
  {
   "cell_type": "markdown",
   "id": "5e601423",
   "metadata": {},
   "source": [
    "- Ordinal Variables are the variables in which their categories are listed sequentially. It indicates the order.\n",
    "- For example, runners are orders like first place, second place, and 3 for third place, etc. However, this does not provide any information about the distance between places.  "
   ]
  },
  {
   "cell_type": "markdown",
   "id": "37fde45c",
   "metadata": {},
   "source": [
    " - Binary variables take two values and this makes it a special type of categorical variable. \n",
    " - These variables are usually categorical in nature and are called binary or dichotomous variables. \n",
    " - For instance, male and female, yes and no, and rich and poor are examples of binary variables."
   ]
  },
  {
   "cell_type": "markdown",
   "id": "465ca65e",
   "metadata": {},
   "source": [
    "#### Discrete Data "
   ]
  },
  {
   "cell_type": "markdown",
   "id": "281b52fd",
   "metadata": {},
   "source": [
    "- Discrete data are kinds of data that can’t be measured but they can be counted, they represent classified information. Categorical variable takes on a limited but fixed number of possible values. An example can be described in a situation where we are trying to get the number of heads that appear in 200 tossed coin. When you are dealing with data and they are data that can be counted and divided up into smaller parts, then such data are discrete data. Other examples are represented in getting person’s gender, blood type, country affiliation, social class etc.\n",
    "\n",
    "- Discrete data includes whole numbers (integers) like 1,3,5,6, 9 that can not be divided because of the nature of what they are.\n",
    "\n",
    "- Other examples can be:\n",
    "\n",
    "    - the number of persons in a class,\n",
    "    - the number of children someone has or\n",
    "    - the number of fingers someone has.\n"
   ]
  },
  {
   "cell_type": "markdown",
   "id": "8fb5dc5b",
   "metadata": {},
   "source": [
    "#### Continuous Data "
   ]
  },
  {
   "cell_type": "markdown",
   "id": "2451470f",
   "metadata": {},
   "source": [
    "##### Interval variable\n",
    "\n",
    "- It is a type of variable that has an uncertain starting point, and from this starting point, the scale is divided into equal intervals, with no absolute zero.\n",
    "\n",
    "- Interval variables show both order and difference. The temperature is a good example for the interval variable. The difference between 10 °C and 15 °C is the same as the difference between 20 ° C and 25 ° C (5 °C). \n",
    "\n",
    "- The most important point about the interval variables is that there is no absolute zero point. For example, a temperature of 0 °C does not mean that there is no temperature in the air! The absence of an absolute zero point means that the comparison is subject to subjective interpretation, for instance, 20 °C is not twice as hot as 10 ° C."
   ]
  },
  {
   "cell_type": "markdown",
   "id": "1bbac78a",
   "metadata": {},
   "source": [
    "##### Ratio Variables\n",
    "\n",
    "- These are the variable that have a starting point that shows absolute absence so that the ratio as well as the differences between the values can be calculated. \n",
    "\n",
    "- The difference of the ratio variables from the ratio variable is that it has a real zero (origin) point and a divisible feature. \n",
    "\n",
    "- The fact that all arithmetic operations can be applied to ratio variables makes this scale stronger than other variables. Hence, ratio variables show the order, distance, and a meaningful absolute zero value - when a rate variable has a score of 0, we know that none of the amount measured by the variable is available. \n",
    "\n",
    "- The existence of an absolute zero value is the main distinction between the ratio and interval variables. For example, age is a rate variable: a 0-year-old is not yet born, and a 20-year-old lived twice as much as a 10-year-old."
   ]
  },
  {
   "cell_type": "code",
   "execution_count": null,
   "id": "4715c21d",
   "metadata": {},
   "outputs": [],
   "source": []
  }
 ],
 "metadata": {
  "kernelspec": {
   "display_name": "Python 3 (ipykernel)",
   "language": "python",
   "name": "python3"
  },
  "language_info": {
   "codemirror_mode": {
    "name": "ipython",
    "version": 3
   },
   "file_extension": ".py",
   "mimetype": "text/x-python",
   "name": "python",
   "nbconvert_exporter": "python",
   "pygments_lexer": "ipython3",
   "version": "3.9.7"
  }
 },
 "nbformat": 4,
 "nbformat_minor": 5
}

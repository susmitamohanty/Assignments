{
 "cells": [
  {
   "cell_type": "code",
   "execution_count": 1,
   "id": "7806cf50",
   "metadata": {},
   "outputs": [
    {
     "data": {
      "text/plain": [
       "{'lettera': 'A', 'letterb': 'B'}"
      ]
     },
     "execution_count": 1,
     "metadata": {},
     "output_type": "execute_result"
    }
   ],
   "source": [
    "d = {\"lettera\":\"A\",\"letterb\":\"B\"}\n",
    "d"
   ]
  },
  {
   "cell_type": "code",
   "execution_count": 3,
   "id": "7055edd2",
   "metadata": {},
   "outputs": [
    {
     "name": "stdout",
     "output_type": "stream",
     "text": [
      "A\n",
      "B\n"
     ]
    }
   ],
   "source": [
    "print(d[\"lettera\"])\n",
    "print(d[\"letterb\"])"
   ]
  },
  {
   "cell_type": "code",
   "execution_count": 7,
   "id": "b3ffabcd",
   "metadata": {},
   "outputs": [
    {
     "data": {
      "text/plain": [
       "'A'"
      ]
     },
     "execution_count": 7,
     "metadata": {},
     "output_type": "execute_result"
    }
   ],
   "source": [
    "# use get method and specify an error message or value to be returned if not found\n",
    "d.get('lettera')"
   ]
  },
  {
   "cell_type": "code",
   "execution_count": 10,
   "id": "62ae3862",
   "metadata": {},
   "outputs": [
    {
     "data": {
      "text/plain": [
       "[1, 2, 3]"
      ]
     },
     "execution_count": 10,
     "metadata": {},
     "output_type": "execute_result"
    }
   ],
   "source": [
    "#A dictionary can hold any type of data, it can hold a list as a value for the key.\n",
    "d1={'key':[1,2,3]}\n",
    "d1['key']"
   ]
  },
  {
   "cell_type": "code",
   "execution_count": 11,
   "id": "41d0a070",
   "metadata": {},
   "outputs": [
    {
     "data": {
      "text/plain": [
       "{'key': {'key2': 100}}"
      ]
     },
     "execution_count": 11,
     "metadata": {},
     "output_type": "execute_result"
    }
   ],
   "source": [
    "#store a dictionary in a dictionary\n",
    "d2={'key':{'key2':100}}\n",
    "d2"
   ]
  },
  {
   "cell_type": "code",
   "execution_count": 12,
   "id": "d1277a17",
   "metadata": {},
   "outputs": [
    {
     "data": {
      "text/plain": [
       "100"
      ]
     },
     "execution_count": 12,
     "metadata": {},
     "output_type": "execute_result"
    }
   ],
   "source": [
    "d2['key']['key2']"
   ]
  },
  {
   "cell_type": "code",
   "execution_count": 26,
   "id": "18571ab0",
   "metadata": {},
   "outputs": [
    {
     "data": {
      "text/plain": [
       "{'apple': 3}"
      ]
     },
     "execution_count": 26,
     "metadata": {},
     "output_type": "execute_result"
    }
   ],
   "source": [
    "#Add new key-value pair\n",
    "d3={}\n",
    "d3['apple']=3\n",
    "d3"
   ]
  },
  {
   "cell_type": "code",
   "execution_count": 27,
   "id": "90341a61",
   "metadata": {},
   "outputs": [
    {
     "data": {
      "text/plain": [
       "{'apple': 3, 'orange': 4}"
      ]
     },
     "execution_count": 27,
     "metadata": {},
     "output_type": "execute_result"
    }
   ],
   "source": [
    "d3['orange']=4\n",
    "d3"
   ]
  },
  {
   "cell_type": "code",
   "execution_count": 28,
   "id": "6accb731",
   "metadata": {},
   "outputs": [
    {
     "data": {
      "text/plain": [
       "{'apple': 3, 'orange': 6}"
      ]
     },
     "execution_count": 28,
     "metadata": {},
     "output_type": "execute_result"
    }
   ],
   "source": [
    "#Overwrite an existing key-value pair\n",
    "d3['orange']=6\n",
    "d3"
   ]
  },
  {
   "cell_type": "code",
   "execution_count": 29,
   "id": "e5a44908",
   "metadata": {},
   "outputs": [
    {
     "data": {
      "text/plain": [
       "dict_keys(['apple', 'orange'])"
      ]
     },
     "execution_count": 29,
     "metadata": {},
     "output_type": "execute_result"
    }
   ],
   "source": [
    "#If you want to see all the keys in a dictionary, you'll use the keys() method\n",
    "d3.keys()"
   ]
  },
  {
   "cell_type": "code",
   "execution_count": 20,
   "id": "c1860a6a",
   "metadata": {},
   "outputs": [
    {
     "data": {
      "text/plain": [
       "dict_values([3, 6])"
      ]
     },
     "execution_count": 20,
     "metadata": {},
     "output_type": "execute_result"
    }
   ],
   "source": [
    "d3.values()"
   ]
  },
  {
   "cell_type": "code",
   "execution_count": 21,
   "id": "977cccc9",
   "metadata": {},
   "outputs": [
    {
     "data": {
      "text/plain": [
       "dict_items([('apple', 3), ('orange', 6)])"
      ]
     },
     "execution_count": 21,
     "metadata": {},
     "output_type": "execute_result"
    }
   ],
   "source": [
    "d3.items()"
   ]
  },
  {
   "cell_type": "code",
   "execution_count": 30,
   "id": "a5d3eb56",
   "metadata": {},
   "outputs": [
    {
     "data": {
      "text/plain": [
       "{'apple': 3, 'orange': 6, 'kiwi': 7}"
      ]
     },
     "execution_count": 30,
     "metadata": {},
     "output_type": "execute_result"
    }
   ],
   "source": [
    "#Remove item - pop()\n",
    "d3['kiwi']=7\n",
    "d3"
   ]
  },
  {
   "cell_type": "code",
   "execution_count": 31,
   "id": "aae3bef0",
   "metadata": {},
   "outputs": [
    {
     "data": {
      "text/plain": [
       "{'apple': 3, 'orange': 6, 'kiwi': 7, 'banana': 9}"
      ]
     },
     "execution_count": 31,
     "metadata": {},
     "output_type": "execute_result"
    }
   ],
   "source": [
    "d3['banana']=9\n",
    "d3"
   ]
  },
  {
   "cell_type": "code",
   "execution_count": 32,
   "id": "024e5c80",
   "metadata": {},
   "outputs": [
    {
     "data": {
      "text/plain": [
       "7"
      ]
     },
     "execution_count": 32,
     "metadata": {},
     "output_type": "execute_result"
    }
   ],
   "source": [
    "popped = d3.pop('kiwi')\n",
    "popped"
   ]
  },
  {
   "cell_type": "code",
   "execution_count": 34,
   "id": "9347dd67",
   "metadata": {},
   "outputs": [
    {
     "data": {
      "text/plain": [
       "('banana', 9)"
      ]
     },
     "execution_count": 34,
     "metadata": {},
     "output_type": "execute_result"
    }
   ],
   "source": [
    "#Remove the last element - popitem()\n",
    "popped2 = d3.popitem()\n",
    "popped2\n"
   ]
  },
  {
   "cell_type": "code",
   "execution_count": 35,
   "id": "4ecad9ba",
   "metadata": {},
   "outputs": [
    {
     "data": {
      "text/plain": [
       "{'apple': 3, 'orange': 6}"
      ]
     },
     "execution_count": 35,
     "metadata": {},
     "output_type": "execute_result"
    }
   ],
   "source": [
    "d3"
   ]
  },
  {
   "cell_type": "code",
   "execution_count": 36,
   "id": "799fc4c7",
   "metadata": {},
   "outputs": [
    {
     "data": {
      "text/plain": [
       "{'apple': 3, 'orange': 6, 'kiwi': 7, 'banana': 9}"
      ]
     },
     "execution_count": 36,
     "metadata": {},
     "output_type": "execute_result"
    }
   ],
   "source": [
    "#Update the dictionary - update()\n",
    "d4={'apple': 3, 'orange': 6, 'kiwi': 7, 'banana': 9}\n",
    "d4"
   ]
  },
  {
   "cell_type": "code",
   "execution_count": 37,
   "id": "e0770be9",
   "metadata": {},
   "outputs": [
    {
     "data": {
      "text/plain": [
       "{'grapes': 10, 'blueberry': 6}"
      ]
     },
     "execution_count": 37,
     "metadata": {},
     "output_type": "execute_result"
    }
   ],
   "source": [
    "d5={'grapes': 10, 'blueberry': 6}\n",
    "d5"
   ]
  },
  {
   "cell_type": "code",
   "execution_count": 38,
   "id": "1673fa67",
   "metadata": {},
   "outputs": [
    {
     "data": {
      "text/plain": [
       "{'apple': 3, 'orange': 6, 'kiwi': 7, 'banana': 9, 'grapes': 10, 'blueberry': 6}"
      ]
     },
     "execution_count": 38,
     "metadata": {},
     "output_type": "execute_result"
    }
   ],
   "source": [
    "d4.update(d5)\n",
    "d4"
   ]
  },
  {
   "cell_type": "code",
   "execution_count": null,
   "id": "4d7cb226",
   "metadata": {},
   "outputs": [],
   "source": []
  }
 ],
 "metadata": {
  "kernelspec": {
   "display_name": "Python 3 (ipykernel)",
   "language": "python",
   "name": "python3"
  },
  "language_info": {
   "codemirror_mode": {
    "name": "ipython",
    "version": 3
   },
   "file_extension": ".py",
   "mimetype": "text/x-python",
   "name": "python",
   "nbconvert_exporter": "python",
   "pygments_lexer": "ipython3",
   "version": "3.9.7"
  }
 },
 "nbformat": 4,
 "nbformat_minor": 5
}

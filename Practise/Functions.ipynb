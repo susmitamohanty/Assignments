{
 "cells": [
  {
   "cell_type": "code",
   "execution_count": 2,
   "id": "fc72a63d",
   "metadata": {},
   "outputs": [
    {
     "name": "stdout",
     "output_type": "stream",
     "text": [
      "Hello from a function\n"
     ]
    }
   ],
   "source": [
    "#create function\n",
    "def my_function():\n",
    "    print(\"Hello from a function\")\n",
    "    \n",
    "#call function\n",
    "my_function()"
   ]
  },
  {
   "cell_type": "code",
   "execution_count": 3,
   "id": "2b6b8091",
   "metadata": {},
   "outputs": [
    {
     "name": "stdout",
     "output_type": "stream",
     "text": [
      "Hello Susmita\n"
     ]
    }
   ],
   "source": [
    "#pass arguments to a function\n",
    "def my_function(name):\n",
    "    print(\"Hello \" + name)\n",
    "    \n",
    "my_function(\"Susmita\")"
   ]
  },
  {
   "cell_type": "code",
   "execution_count": 5,
   "id": "bcb1a529",
   "metadata": {},
   "outputs": [
    {
     "name": "stdout",
     "output_type": "stream",
     "text": [
      "John Middle Paul\n"
     ]
    }
   ],
   "source": [
    "#multiple arguments\n",
    "def my_function(name1, name2):\n",
    "    print(name1 + \" Middle \" + name2)\n",
    "    \n",
    "my_function(\"John\",\"Paul\")"
   ]
  },
  {
   "cell_type": "code",
   "execution_count": 11,
   "id": "766d6bd4",
   "metadata": {},
   "outputs": [
    {
     "name": "stdout",
     "output_type": "stream",
     "text": [
      "('A', 'B', 'C')\n",
      "A\n",
      "B\n",
      "C\n",
      "3\n",
      "0 A\n",
      "1 B\n",
      "2 C\n"
     ]
    }
   ],
   "source": [
    "#arbitrary arguments *args\n",
    "#If you do not know how many arguments that will be passed into your function, add a * before the parameter name in the function definition. \n",
    "#This way the function will receive a tuple of arguments, and can access the items \n",
    "#accordingly.\n",
    "def my_function(*kids):\n",
    "    print(kids)\n",
    "    \n",
    "    for kid in kids:\n",
    "        print(kid)\n",
    "    \n",
    "    print(len(kids))\n",
    "    \n",
    "    for k in range(len(kids)):\n",
    "        print(k,kids[k])\n",
    "my_function('A','B','C')\n",
    "    "
   ]
  },
  {
   "cell_type": "code",
   "execution_count": 12,
   "id": "85d3e542",
   "metadata": {},
   "outputs": [
    {
     "name": "stdout",
     "output_type": "stream",
     "text": [
      "The youngest child is C\n"
     ]
    }
   ],
   "source": [
    "#keyword arguments\n",
    "#send arguments with the key = value syntax.This way the order of the arguments does not matter\n",
    "def my_function(child3, child2,child1):\n",
    "    print(\"The youngest child is {}\".format(child3))\n",
    "    \n",
    "my_function(child1='A',child2='B',child3='C')"
   ]
  },
  {
   "cell_type": "code",
   "execution_count": 14,
   "id": "fd85d76a",
   "metadata": {},
   "outputs": [
    {
     "name": "stdout",
     "output_type": "stream",
     "text": [
      "Last name is Paul\n",
      "Age is 30\n"
     ]
    }
   ],
   "source": [
    "#Arbitrary Keyword Arguments, **kwargs\n",
    "#f you do not know how many keyword arguments that will be passed into your function, \n",
    "#add two asterisk: ** before the parameter name in the function definition.This way \n",
    "#the function will receive a dictionary of arguments, and can access the items accordingly\n",
    "\n",
    "def my_function(**kid):\n",
    "    print(\"Last name is \" + kid[\"lname\"])\n",
    "    print(\"Age is \" + kid[\"age\"])\n",
    "    \n",
    "my_function(fname='John',lname='Paul',age='30')"
   ]
  },
  {
   "cell_type": "code",
   "execution_count": 16,
   "id": "dac055cb",
   "metadata": {},
   "outputs": [
    {
     "name": "stdout",
     "output_type": "stream",
     "text": [
      "My country is Norway\n",
      "My country is India\n"
     ]
    }
   ],
   "source": [
    "#default parameters\n",
    "def my_function(country = 'Norway'):\n",
    "    print(\"My country is \" + country)\n",
    "    \n",
    "my_function()\n",
    "my_function(\"India\")"
   ]
  },
  {
   "cell_type": "code",
   "execution_count": 18,
   "id": "3dd2b1cc",
   "metadata": {},
   "outputs": [
    {
     "name": "stdout",
     "output_type": "stream",
     "text": [
      "Apple\n",
      "Banana\n",
      "Pear\n"
     ]
    }
   ],
   "source": [
    "#Passing a List as an Argument\n",
    "#send any data types of argument to a function (string, number, list, dictionary etc.), \n",
    "#and it will be treated as the same data type inside the function.\n",
    "def my_function(foods):\n",
    "    for food in foods:\n",
    "        print(food)\n",
    "        \n",
    "        \n",
    "my_function(['Apple','Banana','Pear'])"
   ]
  },
  {
   "cell_type": "code",
   "execution_count": 20,
   "id": "1cb61f9f",
   "metadata": {},
   "outputs": [
    {
     "data": {
      "text/plain": [
       "15"
      ]
     },
     "execution_count": 20,
     "metadata": {},
     "output_type": "execute_result"
    }
   ],
   "source": [
    "#return values\n",
    "#To let a function return a value, use the return statement.\n",
    "def my_function(x):\n",
    "    return x*3\n",
    "\n",
    "my_function(3)\n",
    "my_function(4)\n",
    "my_function(5)"
   ]
  },
  {
   "cell_type": "code",
   "execution_count": 21,
   "id": "d9a9f753",
   "metadata": {},
   "outputs": [],
   "source": [
    "#pass statement\n",
    "#Function definitions cannot be empty, but if you for some \n",
    "#reason have a function definition with no content, put in the pass statement to avoid getting an error.\n",
    "def my_function():\n",
    "    pass\n",
    "\n",
    "my_function()"
   ]
  },
  {
   "cell_type": "code",
   "execution_count": 22,
   "id": "a1c0ccb5",
   "metadata": {},
   "outputs": [
    {
     "name": "stdout",
     "output_type": "stream",
     "text": [
      "22\n"
     ]
    }
   ],
   "source": [
    "#lambda functions\n",
    "x=lambda a:a+20\n",
    "print(x(2))"
   ]
  },
  {
   "cell_type": "code",
   "execution_count": 23,
   "id": "a90a9139",
   "metadata": {},
   "outputs": [
    {
     "name": "stdout",
     "output_type": "stream",
     "text": [
      "60\n"
     ]
    }
   ],
   "source": [
    "#lambda function with multiple argument\n",
    "x = lambda a,b,c:a+b+c\n",
    "print(x(10,20,30))"
   ]
  },
  {
   "cell_type": "code",
   "execution_count": 26,
   "id": "2f1597a6",
   "metadata": {},
   "outputs": [
    {
     "name": "stdout",
     "output_type": "stream",
     "text": [
      "30\n",
      "40\n"
     ]
    }
   ],
   "source": [
    "#lambda function- anonymous function inside another function\n",
    "def myfunc(n):\n",
    "    return lambda a:a+n\n",
    "\n",
    "mysum = myfunc(10)\n",
    "print(mysum(20))\n",
    "print(mysum(30))"
   ]
  },
  {
   "cell_type": "code",
   "execution_count": 27,
   "id": "a390fe32",
   "metadata": {},
   "outputs": [
    {
     "name": "stdout",
     "output_type": "stream",
     "text": [
      "5.0\n",
      "10.816653826391969\n"
     ]
    }
   ],
   "source": [
    "def hip(e1,e2):\n",
    "    h=((e1**2 + e2**2))**0.5\n",
    "    return h\n",
    "\n",
    "print(hip(3,4))\n",
    "print(hip(6,9))\n",
    "\n",
    "    "
   ]
  },
  {
   "cell_type": "code",
   "execution_count": 28,
   "id": "80329886",
   "metadata": {},
   "outputs": [
    {
     "name": "stdout",
     "output_type": "stream",
     "text": [
      "[0, 1, 4, 9, 16, 25, 36, 49, 64, 81]\n"
     ]
    }
   ],
   "source": [
    "def my_func2(x):\n",
    "    ls =[]\n",
    "    for y in range(x):\n",
    "        ls.append(y**2)\n",
    "    return ls\n",
    "\n",
    "print(my_func2(10))"
   ]
  }
 ],
 "metadata": {
  "kernelspec": {
   "display_name": "Python 3 (ipykernel)",
   "language": "python",
   "name": "python3"
  },
  "language_info": {
   "codemirror_mode": {
    "name": "ipython",
    "version": 3
   },
   "file_extension": ".py",
   "mimetype": "text/x-python",
   "name": "python",
   "nbconvert_exporter": "python",
   "pygments_lexer": "ipython3",
   "version": "3.9.7"
  }
 },
 "nbformat": 4,
 "nbformat_minor": 5
}

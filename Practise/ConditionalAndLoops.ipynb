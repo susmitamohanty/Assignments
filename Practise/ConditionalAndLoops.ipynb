{
 "cells": [
  {
   "cell_type": "code",
   "execution_count": 1,
   "id": "498f0630",
   "metadata": {},
   "outputs": [
    {
     "name": "stdout",
     "output_type": "stream",
     "text": [
      "b is greater than a\n"
     ]
    }
   ],
   "source": [
    "#conditions\n",
    "a=20\n",
    "b=30\n",
    "if (b>a):\n",
    "    print('b is greater than a')"
   ]
  },
  {
   "cell_type": "code",
   "execution_count": 3,
   "id": "55e7ec1b",
   "metadata": {},
   "outputs": [
    {
     "name": "stdout",
     "output_type": "stream",
     "text": [
      "Enter a number :19\n"
     ]
    }
   ],
   "source": [
    "num=int(input('Enter a number :'))\n"
   ]
  },
  {
   "cell_type": "code",
   "execution_count": 4,
   "id": "f7869517",
   "metadata": {},
   "outputs": [
    {
     "name": "stdout",
     "output_type": "stream",
     "text": [
      "number is greater than 10\n"
     ]
    }
   ],
   "source": [
    "if num > 10:\n",
    "    print('number is greater than 10')\n",
    "else:\n",
    "    print('number is less than 10')"
   ]
  },
  {
   "cell_type": "code",
   "execution_count": 5,
   "id": "eb3258ac",
   "metadata": {},
   "outputs": [
    {
     "name": "stdout",
     "output_type": "stream",
     "text": [
      "enter location :India\n",
      "Dont deliver\n"
     ]
    }
   ],
   "source": [
    "loc = input(\"enter location :\")\n",
    "if loc == 'USA':\n",
    "    print('Deliver to USA')\n",
    "elif loc == 'UK':\n",
    "    print('Deliver to UK')\n",
    "else:\n",
    "    print('Dont deliver')\n",
    "    "
   ]
  },
  {
   "cell_type": "code",
   "execution_count": 9,
   "id": "e7435697",
   "metadata": {},
   "outputs": [
    {
     "name": "stdout",
     "output_type": "stream",
     "text": [
      "Above 10\n",
      "And Above 20\n"
     ]
    }
   ],
   "source": [
    "#nested if \n",
    "x=31\n",
    "if x>10:\n",
    "    print(\"Above 10\")\n",
    "    if x >20:\n",
    "        print(\"And Above 20\")\n",
    "else:\n",
    "    print('less than 10')\n",
    "    "
   ]
  },
  {
   "cell_type": "code",
   "execution_count": 10,
   "id": "e59e1465",
   "metadata": {},
   "outputs": [],
   "source": [
    "#pass \n",
    "a=50\n",
    "b=100\n",
    "if (b>a):\n",
    "    pass"
   ]
  },
  {
   "cell_type": "code",
   "execution_count": 11,
   "id": "a779da15",
   "metadata": {},
   "outputs": [
    {
     "name": "stdout",
     "output_type": "stream",
     "text": [
      "Tokyo\n",
      "Washington\n",
      "London\n"
     ]
    }
   ],
   "source": [
    "#For loops\n",
    "cities=[\"Tokyo\",\"Washington\",\"London\"]\n",
    "for city in cities:\n",
    "    print(city)"
   ]
  },
  {
   "cell_type": "code",
   "execution_count": 12,
   "id": "5c81c739",
   "metadata": {},
   "outputs": [
    {
     "name": "stdout",
     "output_type": "stream",
     "text": [
      "2\n",
      "4\n",
      "6\n",
      "8\n",
      "10\n"
     ]
    }
   ],
   "source": [
    "#we combine for loops and if statement, which is very common in programming:\n",
    "ls=[1,2,3,4,5,6,7,8,9,10]\n",
    "for number in ls:\n",
    "    if number % 2 == 0:\n",
    "        print(number)\n",
    "        \n",
    "        "
   ]
  },
  {
   "cell_type": "code",
   "execution_count": 13,
   "id": "93f4a951",
   "metadata": {},
   "outputs": [
    {
     "name": "stdout",
     "output_type": "stream",
     "text": [
      "p\n",
      "y\n",
      "t\n",
      "h\n",
      "o\n",
      "n\n"
     ]
    }
   ],
   "source": [
    "str = \"python\"\n",
    "for s in str:\n",
    "    print(s)"
   ]
  },
  {
   "cell_type": "code",
   "execution_count": 14,
   "id": "b57efad4",
   "metadata": {},
   "outputs": [
    {
     "name": "stdout",
     "output_type": "stream",
     "text": [
      "hello\n",
      "hello\n",
      "hello\n",
      "hello\n",
      "hello\n"
     ]
    }
   ],
   "source": [
    "for _ in \"hello\":\n",
    "    print(\"hello\")"
   ]
  },
  {
   "cell_type": "code",
   "execution_count": 16,
   "id": "b3c860db",
   "metadata": {},
   "outputs": [
    {
     "name": "stdout",
     "output_type": "stream",
     "text": [
      "1 2\n",
      "3 4\n",
      "4 5\n"
     ]
    }
   ],
   "source": [
    "## Iterate over a list of tuples\n",
    "ls_of_tuples = [(1,2),(3,4),(4,5)]\n",
    "for t1,t2 in ls_of_tuples:\n",
    "    print(t1,t2)"
   ]
  },
  {
   "cell_type": "code",
   "execution_count": 18,
   "id": "1b4df4db",
   "metadata": {},
   "outputs": [
    {
     "name": "stdout",
     "output_type": "stream",
     "text": [
      "name\n",
      "age\n"
     ]
    }
   ],
   "source": [
    "d={'name':'john','age':12}\n",
    "for key in d.keys():\n",
    "    print(key)\n",
    "    "
   ]
  },
  {
   "cell_type": "code",
   "execution_count": 19,
   "id": "8e518469",
   "metadata": {},
   "outputs": [
    {
     "name": "stdout",
     "output_type": "stream",
     "text": [
      "john\n",
      "12\n"
     ]
    }
   ],
   "source": [
    "for value in d.values():\n",
    "    print(value)"
   ]
  },
  {
   "cell_type": "code",
   "execution_count": 20,
   "id": "d2994460",
   "metadata": {},
   "outputs": [
    {
     "name": "stdout",
     "output_type": "stream",
     "text": [
      "Tokyo\n"
     ]
    }
   ],
   "source": [
    "#break\n",
    "cities=[\"Tokyo\",\"Washington\",\"London\"]\n",
    "for city in cities:\n",
    "    if city == \"Washington\":\n",
    "        break\n",
    "    print(city)\n"
   ]
  },
  {
   "cell_type": "code",
   "execution_count": 22,
   "id": "5d06ed53",
   "metadata": {},
   "outputs": [
    {
     "name": "stdout",
     "output_type": "stream",
     "text": [
      "Tokyo\n",
      "London\n"
     ]
    }
   ],
   "source": [
    "#continue\n",
    "cities=[\"Tokyo\",\"Washington\",\"London\"]\n",
    "for city in cities:\n",
    "    if city == \"Washington\":\n",
    "        continue\n",
    "    print(city)\n",
    "    "
   ]
  },
  {
   "cell_type": "code",
   "execution_count": 23,
   "id": "cb5a786a",
   "metadata": {},
   "outputs": [
    {
     "name": "stdout",
     "output_type": "stream",
     "text": [
      "0\n",
      "1\n",
      "2\n",
      "3\n",
      "4\n",
      "5\n",
      "6\n",
      "7\n",
      "8\n",
      "9\n"
     ]
    }
   ],
   "source": [
    "#range To loop through a set of code a specified number of times, \n",
    "#we can use the range() function,To loop through a set of code a \n",
    "#specified number of times, we can use the range() function,\n",
    "\n",
    "for x in range(10):\n",
    "    print(x)"
   ]
  },
  {
   "cell_type": "code",
   "execution_count": 24,
   "id": "f3b3240f",
   "metadata": {},
   "outputs": [
    {
     "name": "stdout",
     "output_type": "stream",
     "text": [
      "2\n",
      "3\n",
      "4\n",
      "5\n",
      "6\n",
      "7\n",
      "8\n",
      "9\n"
     ]
    }
   ],
   "source": [
    "for x in range(2,10):\n",
    "    print(x)"
   ]
  },
  {
   "cell_type": "code",
   "execution_count": 25,
   "id": "4ff1b770",
   "metadata": {},
   "outputs": [
    {
     "name": "stdout",
     "output_type": "stream",
     "text": [
      "2\n",
      "5\n",
      "8\n",
      "11\n",
      "14\n",
      "17\n"
     ]
    }
   ],
   "source": [
    "for x in range(2,20,3):\n",
    "    print(x)"
   ]
  },
  {
   "cell_type": "code",
   "execution_count": 26,
   "id": "11b0f3be",
   "metadata": {},
   "outputs": [
    {
     "name": "stdout",
     "output_type": "stream",
     "text": [
      "0\n",
      "1\n",
      "2\n",
      "3\n",
      "4\n"
     ]
    }
   ],
   "source": [
    "#while loops \n",
    "x = 0\n",
    "while x < 5:\n",
    "    print(x)\n",
    "    x=x + 1\n",
    "    \n",
    "    "
   ]
  },
  {
   "cell_type": "code",
   "execution_count": 2,
   "id": "8ad340e3",
   "metadata": {},
   "outputs": [
    {
     "name": "stdout",
     "output_type": "stream",
     "text": [
      "0\n",
      "1\n",
      "2\n"
     ]
    }
   ],
   "source": [
    "#break\n",
    "x=0\n",
    "while (x<5):\n",
    "    print(x)\n",
    "    if (x==2):\n",
    "        break\n",
    "    x = x+1\n",
    "    "
   ]
  },
  {
   "cell_type": "code",
   "execution_count": 6,
   "id": "e8621af4",
   "metadata": {},
   "outputs": [],
   "source": [
    "#pass\n",
    "x=[1,2,3,4]\n",
    "for item in x:\n",
    "    pass\n",
    "    \n",
    "    "
   ]
  },
  {
   "cell_type": "code",
   "execution_count": null,
   "id": "a682be84",
   "metadata": {},
   "outputs": [],
   "source": [
    "#continue\n",
    "name='python'\n",
    "for each in name:\n",
    "    if each == 't':\n",
    "        continue\n",
    "    print(letter)"
   ]
  }
 ],
 "metadata": {
  "kernelspec": {
   "display_name": "Python 3 (ipykernel)",
   "language": "python",
   "name": "python3"
  },
  "language_info": {
   "codemirror_mode": {
    "name": "ipython",
    "version": 3
   },
   "file_extension": ".py",
   "mimetype": "text/x-python",
   "name": "python",
   "nbconvert_exporter": "python",
   "pygments_lexer": "ipython3",
   "version": "3.9.7"
  }
 },
 "nbformat": 4,
 "nbformat_minor": 5
}

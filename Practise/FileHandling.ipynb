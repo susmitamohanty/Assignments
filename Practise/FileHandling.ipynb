{
 "cells": [
  {
   "cell_type": "code",
   "execution_count": 1,
   "id": "1eadec4a",
   "metadata": {},
   "outputs": [
    {
     "data": {
      "text/plain": [
       "'xxxxxxxxxxxxxxxxxxxxxxxxx\\nxxxxxxxxxxxxxxxxxxxxxxxxx\\nxxxxxxxxxxxxxxxxxxxxxxxxx\\nxxxxxxxxxxxxxxxxxxxxxxxxxx'"
      ]
     },
     "execution_count": 1,
     "metadata": {},
     "output_type": "execute_result"
    }
   ],
   "source": [
    "#open a file\n",
    "f=open(\"demofile.txt\")\n",
    "f.read()"
   ]
  },
  {
   "cell_type": "code",
   "execution_count": 2,
   "id": "c362504d",
   "metadata": {},
   "outputs": [
    {
     "data": {
      "text/plain": [
       "<_io.TextIOWrapper name='demofile.txt' mode='rt' encoding='cp1252'>"
      ]
     },
     "execution_count": 2,
     "metadata": {},
     "output_type": "execute_result"
    }
   ],
   "source": [
    "#r for read, and t for text are the default values, you do not need to specify file type .txt\n",
    "f=open(\"demofile.txt\",\"rt\")\n",
    "f"
   ]
  },
  {
   "cell_type": "code",
   "execution_count": 3,
   "id": "11c77771",
   "metadata": {},
   "outputs": [
    {
     "data": {
      "text/plain": [
       "'xxxxxxxxxxxxxxxxxxxxxxxxx2\\nxxxxxxxxxxxxxxxxxxxxxxxxx2\\nxxxxxxxxxxxxxxxxxxxxxxxxx2\\nxxxxxxxxxxxxxxxxxxxxxxxxx2'"
      ]
     },
     "execution_count": 3,
     "metadata": {},
     "output_type": "execute_result"
    }
   ],
   "source": [
    "f=open(\"C:\\\\Users\\smoha\\Magnimind Assignments\\demofile2.txt\",\"r\")\n",
    "f.read()"
   ]
  },
  {
   "cell_type": "code",
   "execution_count": 4,
   "id": "5f25d8ce",
   "metadata": {},
   "outputs": [
    {
     "data": {
      "text/plain": [
       "'xx'"
      ]
     },
     "execution_count": 4,
     "metadata": {},
     "output_type": "execute_result"
    }
   ],
   "source": [
    "#read only parts of the file\n",
    "f=open(\"C:\\\\Users\\smoha\\Magnimind Assignments\\demofile2.txt\",\"r\")\n",
    "f.read(2)"
   ]
  },
  {
   "cell_type": "code",
   "execution_count": 5,
   "id": "a75f7ae6",
   "metadata": {},
   "outputs": [
    {
     "data": {
      "text/plain": [
       "'xxxxxxxxxxxxxxxxxxxxxxxxx2\\n'"
      ]
     },
     "execution_count": 5,
     "metadata": {},
     "output_type": "execute_result"
    }
   ],
   "source": [
    "#return one line by using the readline() method\n",
    "f=open(\"C:\\\\Users\\smoha\\Magnimind Assignments\\demofile2.txt\",\"r\")\n",
    "f.readline()\n"
   ]
  },
  {
   "cell_type": "code",
   "execution_count": 6,
   "id": "8412f0f2",
   "metadata": {},
   "outputs": [
    {
     "name": "stdout",
     "output_type": "stream",
     "text": [
      "xxxxxxxxxxxxxxxxxxxxxxxxx2\n",
      "\n",
      "xxxxxxxxxxxxxxxxxxxxxxxxx2\n",
      "\n",
      "xxxxxxxxxxxxxxxxxxxxxxxxx2\n",
      "\n",
      "xxxxxxxxxxxxxxxxxxxxxxxxx2\n"
     ]
    }
   ],
   "source": [
    "#Read the file line by line by looping. The 'r' mode reads the file even though read is not specified.\n",
    "f=open(\"C:\\\\Users\\smoha\\Magnimind Assignments\\demofile2.txt\",\"r\")\n",
    "for each in f:\n",
    "    print(each)"
   ]
  },
  {
   "cell_type": "code",
   "execution_count": 7,
   "id": "93202935",
   "metadata": {},
   "outputs": [
    {
     "name": "stdout",
     "output_type": "stream",
     "text": [
      "xxxxxxxxxxxxxxxxxxxxxxxxx2\n",
      "\n",
      "xxxxxxxxxxxxxxxxxxxxxxxxx2\n",
      "\n",
      "xxxxxxxxxxxxxxxxxxxxxxxxx2\n",
      "\n",
      "xxxxxxxxxxxxxxxxxxxxxxxxx2\n"
     ]
    }
   ],
   "source": [
    "#It is a good practice to always close the file when you are done with it. \n",
    "#You should always close your files, in some cases,\n",
    "#due to buffering, changes made to a file may not show until you close the file.\n",
    "f=open(\"C:\\\\Users\\smoha\\Magnimind Assignments\\demofile2.txt\",\"r\")\n",
    "for each in f:\n",
    "    print(each)\n",
    "    \n",
    "f.close()\n"
   ]
  },
  {
   "cell_type": "code",
   "execution_count": 8,
   "id": "37e18356",
   "metadata": {},
   "outputs": [
    {
     "ename": "FileExistsError",
     "evalue": "[Errno 17] File exists: 'testfile.txt'",
     "output_type": "error",
     "traceback": [
      "\u001b[1;31m---------------------------------------------------------------------------\u001b[0m",
      "\u001b[1;31mFileExistsError\u001b[0m                           Traceback (most recent call last)",
      "\u001b[1;32m~\\AppData\\Local\\Temp/ipykernel_2292/947276047.py\u001b[0m in \u001b[0;36m<module>\u001b[1;34m\u001b[0m\n\u001b[0;32m      4\u001b[0m \u001b[1;31m#\"w\" - Write - will create a file if the specified file does not exist\u001b[0m\u001b[1;33m\u001b[0m\u001b[1;33m\u001b[0m\u001b[0m\n\u001b[0;32m      5\u001b[0m \u001b[1;31m#Create a file\u001b[0m\u001b[1;33m\u001b[0m\u001b[1;33m\u001b[0m\u001b[0m\n\u001b[1;32m----> 6\u001b[1;33m \u001b[0mf\u001b[0m\u001b[1;33m=\u001b[0m\u001b[0mopen\u001b[0m\u001b[1;33m(\u001b[0m\u001b[1;34m\"testfile.txt\"\u001b[0m\u001b[1;33m,\u001b[0m\u001b[1;34m\"x\"\u001b[0m\u001b[1;33m)\u001b[0m\u001b[1;33m\u001b[0m\u001b[1;33m\u001b[0m\u001b[0m\n\u001b[0m",
      "\u001b[1;31mFileExistsError\u001b[0m: [Errno 17] File exists: 'testfile.txt'"
     ]
    }
   ],
   "source": [
    "#To create a new file in Python, use the open() method, with one of the following parameters:\n",
    "#\"x\" - Create - will create a file, returns an error if the file exists\n",
    "#\"a\" - Append - will create a file if the specified file does not exist\n",
    "#\"w\" - Write - will create a file if the specified file does not exist\n",
    "#Create a file\n",
    "f=open(\"testfile.txt\",\"x\")\n"
   ]
  },
  {
   "cell_type": "code",
   "execution_count": 10,
   "id": "10490c0e",
   "metadata": {},
   "outputs": [],
   "source": [
    "f=open(\"testfile.txt\",\"a\")\n",
    "f.write(\"Now the file has content\")\n",
    "f.close()"
   ]
  },
  {
   "cell_type": "code",
   "execution_count": 11,
   "id": "a17a52e5",
   "metadata": {},
   "outputs": [
    {
     "data": {
      "text/plain": [
       "'This is new contentNow the file has contentNow the file has content'"
      ]
     },
     "execution_count": 11,
     "metadata": {},
     "output_type": "execute_result"
    }
   ],
   "source": [
    "#Open and read the file after the appending:\n",
    "f=open(\"testfile.txt\",\"r\")\n",
    "f.read()"
   ]
  },
  {
   "cell_type": "code",
   "execution_count": 12,
   "id": "9e8f3b82",
   "metadata": {},
   "outputs": [],
   "source": [
    "#Open the file testfile.txt and overwrite the content:\n",
    "f=open(\"testfile.txt\",\"w\")\n",
    "f.write(\"This is new content\")\n",
    "f.close()"
   ]
  },
  {
   "cell_type": "code",
   "execution_count": 13,
   "id": "5ddc66cc",
   "metadata": {},
   "outputs": [
    {
     "data": {
      "text/plain": [
       "'This is new content'"
      ]
     },
     "execution_count": 13,
     "metadata": {},
     "output_type": "execute_result"
    }
   ],
   "source": [
    "#Open and read the file after the appending:\n",
    "f=open(\"testfile.txt\",\"r\")\n",
    "f.read()"
   ]
  },
  {
   "cell_type": "code",
   "execution_count": 14,
   "id": "eda14f69",
   "metadata": {},
   "outputs": [],
   "source": [
    "f.close()"
   ]
  },
  {
   "cell_type": "code",
   "execution_count": 15,
   "id": "f5e049b6",
   "metadata": {},
   "outputs": [],
   "source": [
    "#To delete a file, you must import the OS module, and run its os.remove() function:\n",
    "import os\n",
    "os.remove(\"testfile.txt\")"
   ]
  },
  {
   "cell_type": "code",
   "execution_count": 16,
   "id": "00d592ab",
   "metadata": {},
   "outputs": [
    {
     "name": "stdout",
     "output_type": "stream",
     "text": [
      "The file does not exist\n"
     ]
    }
   ],
   "source": [
    "if os.path.exists(\"testfile.txt\"):\n",
    "    os.remove(\"testfile.txt\")\n",
    "else:\n",
    "    print(\"The file does not exist\")"
   ]
  }
 ],
 "metadata": {
  "kernelspec": {
   "display_name": "Python 3 (ipykernel)",
   "language": "python",
   "name": "python3"
  },
  "language_info": {
   "codemirror_mode": {
    "name": "ipython",
    "version": 3
   },
   "file_extension": ".py",
   "mimetype": "text/x-python",
   "name": "python",
   "nbconvert_exporter": "python",
   "pygments_lexer": "ipython3",
   "version": "3.9.7"
  }
 },
 "nbformat": 4,
 "nbformat_minor": 5
}

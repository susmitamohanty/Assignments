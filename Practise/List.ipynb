{
 "cells": [
  {
   "cell_type": "code",
   "execution_count": 2,
   "id": "f6e70f9c",
   "metadata": {},
   "outputs": [
    {
     "data": {
      "text/plain": [
       "['cat', 'dog', 'cow']"
      ]
     },
     "execution_count": 2,
     "metadata": {},
     "output_type": "execute_result"
    }
   ],
   "source": [
    "#construct a list\n",
    "animals = ['cat','dog','cow']\n",
    "animals"
   ]
  },
  {
   "cell_type": "code",
   "execution_count": 3,
   "id": "f221997e",
   "metadata": {},
   "outputs": [
    {
     "data": {
      "text/plain": [
       "['Hello', 2, 44.5, True, None]"
      ]
     },
     "execution_count": 3,
     "metadata": {},
     "output_type": "execute_result"
    }
   ],
   "source": [
    "ls2 = ['Hello',2,44.5,True,None]\n",
    "ls2"
   ]
  },
  {
   "cell_type": "code",
   "execution_count": 4,
   "id": "ca23a214",
   "metadata": {},
   "outputs": [
    {
     "data": {
      "text/plain": [
       "[[1, 2], [3, 4], [5, 7]]"
      ]
     },
     "execution_count": 4,
     "metadata": {},
     "output_type": "execute_result"
    }
   ],
   "source": [
    "#list within a list\n",
    "list_of_list = [[1,2],[3,4],[5,7]]\n",
    "list_of_list"
   ]
  },
  {
   "cell_type": "code",
   "execution_count": 6,
   "id": "0210acbd",
   "metadata": {},
   "outputs": [
    {
     "data": {
      "text/plain": [
       "['Python', 123, 'SQL', 2.6]"
      ]
     },
     "execution_count": 6,
     "metadata": {},
     "output_type": "execute_result"
    }
   ],
   "source": [
    "# List of different data types\n",
    "list_mix = ['Python',123,'SQL',2.6]\n",
    "list_mix"
   ]
  },
  {
   "cell_type": "code",
   "execution_count": 7,
   "id": "df6fa959",
   "metadata": {},
   "outputs": [],
   "source": [
    "#Empty list can be created by specifying open square brackets.\n",
    "ls=[]"
   ]
  },
  {
   "cell_type": "code",
   "execution_count": 8,
   "id": "52d8a760",
   "metadata": {},
   "outputs": [
    {
     "data": {
      "text/plain": [
       "['Rice', 'Orange', 'Tomato', 'Kiwi']"
      ]
     },
     "execution_count": 8,
     "metadata": {},
     "output_type": "execute_result"
    }
   ],
   "source": [
    "# Initilize a list and get its length\n",
    "ls3=['Rice','Orange','Tomato','Kiwi']\n",
    "ls3"
   ]
  },
  {
   "cell_type": "code",
   "execution_count": 9,
   "id": "871d0e73",
   "metadata": {},
   "outputs": [
    {
     "data": {
      "text/plain": [
       "4"
      ]
     },
     "execution_count": 9,
     "metadata": {},
     "output_type": "execute_result"
    }
   ],
   "source": [
    "len(ls3)"
   ]
  },
  {
   "cell_type": "code",
   "execution_count": 10,
   "id": "a6795adf",
   "metadata": {},
   "outputs": [
    {
     "data": {
      "text/plain": [
       "['A', 'B', 'C', 'D', 'E']"
      ]
     },
     "execution_count": 10,
     "metadata": {},
     "output_type": "execute_result"
    }
   ],
   "source": [
    "ls4=['A','B','C','D','E']\n",
    "ls4"
   ]
  },
  {
   "cell_type": "code",
   "execution_count": 11,
   "id": "f0269dca",
   "metadata": {},
   "outputs": [
    {
     "data": {
      "text/plain": [
       "'A'"
      ]
     },
     "execution_count": 11,
     "metadata": {},
     "output_type": "execute_result"
    }
   ],
   "source": [
    "# Indexing the first element\n",
    "ls4[0]"
   ]
  },
  {
   "cell_type": "code",
   "execution_count": 12,
   "id": "b5ad0502",
   "metadata": {},
   "outputs": [
    {
     "data": {
      "text/plain": [
       "'E'"
      ]
     },
     "execution_count": 12,
     "metadata": {},
     "output_type": "execute_result"
    }
   ],
   "source": [
    "# Indexing the first element\n",
    "ls4[-1]"
   ]
  },
  {
   "cell_type": "code",
   "execution_count": 13,
   "id": "6c1de96a",
   "metadata": {},
   "outputs": [
    {
     "data": {
      "text/plain": [
       "['B', 'C']"
      ]
     },
     "execution_count": 13,
     "metadata": {},
     "output_type": "execute_result"
    }
   ],
   "source": [
    "#Slicing here is the same as string slicing, we grab multiple items.\n",
    "# Grab from the first element at index 1 to index 3 and not include it.\n",
    "ls4[1:3]"
   ]
  },
  {
   "cell_type": "code",
   "execution_count": 14,
   "id": "504938c0",
   "metadata": {},
   "outputs": [
    {
     "data": {
      "text/plain": [
       "['A', 'B', 'C']"
      ]
     },
     "execution_count": 14,
     "metadata": {},
     "output_type": "execute_result"
    }
   ],
   "source": [
    "# Grab from the first element to index 3 and not include it.\n",
    "ls4[0:3]"
   ]
  },
  {
   "cell_type": "code",
   "execution_count": 15,
   "id": "83c2932e",
   "metadata": {},
   "outputs": [
    {
     "data": {
      "text/plain": [
       "['A', 'B', 'C', 'D', 'E']"
      ]
     },
     "execution_count": 15,
     "metadata": {},
     "output_type": "execute_result"
    }
   ],
   "source": [
    "# Grab from the first element to the end of the list.\n",
    "ls4[0:]"
   ]
  },
  {
   "cell_type": "code",
   "execution_count": 17,
   "id": "4902a8fe",
   "metadata": {},
   "outputs": [
    {
     "data": {
      "text/plain": [
       "[1, 2, 3, 4, 5, 6]"
      ]
     },
     "execution_count": 17,
     "metadata": {},
     "output_type": "execute_result"
    }
   ],
   "source": [
    "#create 2 different lists\n",
    "lst = [1,2,3]\n",
    "lst2 = [4,5,6]\n",
    "new_list = lst + lst2\n",
    "new_list"
   ]
  },
  {
   "cell_type": "code",
   "execution_count": 36,
   "id": "2558f7df",
   "metadata": {},
   "outputs": [
    {
     "data": {
      "text/plain": [
       "['Rice', 'Beans', 'Tomato', 'Kiwi']"
      ]
     },
     "execution_count": 36,
     "metadata": {},
     "output_type": "execute_result"
    }
   ],
   "source": [
    "#To change an entry in a list, you overwrite it by specifying its index.\n",
    "list_of_items = ['Rice', 'Orange', 'Tomato', 'Kiwi']\n",
    "list_of_items[1]='Beans'\n",
    "list_of_items"
   ]
  },
  {
   "cell_type": "code",
   "execution_count": 37,
   "id": "decb9aa3",
   "metadata": {},
   "outputs": [
    {
     "data": {
      "text/plain": [
       "['Rice', 'Beans', 'Tomato', 'Kiwi', 'Grapes', 'Apples']"
      ]
     },
     "execution_count": 37,
     "metadata": {},
     "output_type": "execute_result"
    }
   ],
   "source": [
    "#extend the list with many items at once, by adding a new list to the original list.\n",
    "list_of_items.extend(['Grapes','Apples'])\n",
    "list_of_items"
   ]
  },
  {
   "cell_type": "code",
   "execution_count": 38,
   "id": "65f4bfaf",
   "metadata": {},
   "outputs": [
    {
     "data": {
      "text/plain": [
       "['Rice', 'Beans', 'Tomato', 'Kiwi', 'Grapes', 'Apples', 'Blueberry']"
      ]
     },
     "execution_count": 38,
     "metadata": {},
     "output_type": "execute_result"
    }
   ],
   "source": [
    "#add a new element or item to the list\n",
    "list_of_items.append('Blueberry')\n",
    "list_of_items"
   ]
  },
  {
   "cell_type": "markdown",
   "id": "a38f7393",
   "metadata": {},
   "source": [
    "If you want to add an element to the end of a list you'll use Append() it will be added as it is, But extend() adds more than one item at a time with any type of data structure,"
   ]
  },
  {
   "cell_type": "code",
   "execution_count": 39,
   "id": "1c9cddd8",
   "metadata": {},
   "outputs": [
    {
     "data": {
      "text/plain": [
       "['Rice', 'Dal', 'Beans', 'Tomato', 'Kiwi', 'Grapes', 'Apples', 'Blueberry']"
      ]
     },
     "execution_count": 39,
     "metadata": {},
     "output_type": "execute_result"
    }
   ],
   "source": [
    "# in insert you can specify the index to insert in.\n",
    "list_of_items.insert(1,\"Dal\")\n",
    "list_of_items"
   ]
  },
  {
   "cell_type": "code",
   "execution_count": 40,
   "id": "32dbfa72",
   "metadata": {},
   "outputs": [
    {
     "data": {
      "text/plain": [
       "'Blueberry'"
      ]
     },
     "execution_count": 40,
     "metadata": {},
     "output_type": "execute_result"
    }
   ],
   "source": [
    "## Pop the first item from the end\n",
    "list_of_items.pop()"
   ]
  },
  {
   "cell_type": "code",
   "execution_count": 41,
   "id": "55c363f3",
   "metadata": {},
   "outputs": [
    {
     "data": {
      "text/plain": [
       "'Beans'"
      ]
     },
     "execution_count": 41,
     "metadata": {},
     "output_type": "execute_result"
    }
   ],
   "source": [
    "# Pop the second item from the end\n",
    "list_of_items.pop(2)"
   ]
  },
  {
   "cell_type": "code",
   "execution_count": 42,
   "id": "bd7dc445",
   "metadata": {},
   "outputs": [
    {
     "data": {
      "text/plain": [
       "['Rice', 'Dal', 'Tomato', 'Kiwi', 'Grapes', 'Apples']"
      ]
     },
     "execution_count": 42,
     "metadata": {},
     "output_type": "execute_result"
    }
   ],
   "source": [
    "list_of_items"
   ]
  },
  {
   "cell_type": "code",
   "execution_count": 43,
   "id": "9e00458a",
   "metadata": {},
   "outputs": [],
   "source": [
    "#Remove item from a list by passing the item name.\n",
    "list_of_items.remove('Tomato')"
   ]
  },
  {
   "cell_type": "code",
   "execution_count": 44,
   "id": "b06d96e4",
   "metadata": {},
   "outputs": [
    {
     "data": {
      "text/plain": [
       "['Rice', 'Dal', 'Kiwi', 'Grapes', 'Apples']"
      ]
     },
     "execution_count": 44,
     "metadata": {},
     "output_type": "execute_result"
    }
   ],
   "source": [
    "list_of_items"
   ]
  },
  {
   "cell_type": "code",
   "execution_count": 45,
   "id": "7bbc0ade",
   "metadata": {},
   "outputs": [],
   "source": [
    "#Sort elements in a list by ascending or descending order.\n",
    "ls= [2,3,1,0,9,8,7]\n",
    "ls.sort()"
   ]
  },
  {
   "cell_type": "code",
   "execution_count": 46,
   "id": "00aea4c7",
   "metadata": {},
   "outputs": [
    {
     "data": {
      "text/plain": [
       "[0, 1, 2, 3, 7, 8, 9]"
      ]
     },
     "execution_count": 46,
     "metadata": {},
     "output_type": "execute_result"
    }
   ],
   "source": [
    "ls"
   ]
  },
  {
   "cell_type": "code",
   "execution_count": 47,
   "id": "d532d392",
   "metadata": {},
   "outputs": [
    {
     "data": {
      "text/plain": [
       "[9, 8, 7, 3, 2, 1, 0]"
      ]
     },
     "execution_count": 47,
     "metadata": {},
     "output_type": "execute_result"
    }
   ],
   "source": [
    "ls2= [2,3,1,0,9,8,7]\n",
    "ls2.sort(reverse=True)\n",
    "ls2"
   ]
  },
  {
   "cell_type": "code",
   "execution_count": 50,
   "id": "162e91b4",
   "metadata": {},
   "outputs": [
    {
     "data": {
      "text/plain": [
       "3"
      ]
     },
     "execution_count": 50,
     "metadata": {},
     "output_type": "execute_result"
    }
   ],
   "source": [
    "#Count the number of occurrence of an item in a list\n",
    "ls2= [2,3,1,8,0,9,8,8,7]\n",
    "ls2.count(8)"
   ]
  },
  {
   "cell_type": "code",
   "execution_count": 52,
   "id": "ee15a2bf",
   "metadata": {},
   "outputs": [
    {
     "data": {
      "text/plain": [
       "[5, 4, 2, 1]"
      ]
     },
     "execution_count": 52,
     "metadata": {},
     "output_type": "execute_result"
    }
   ],
   "source": [
    "#Reverse the elements of the list\n",
    "ls=[1,2,4,5]\n",
    "ls.reverse()\n",
    "ls"
   ]
  },
  {
   "cell_type": "code",
   "execution_count": 54,
   "id": "6b93a592",
   "metadata": {},
   "outputs": [
    {
     "data": {
      "text/plain": [
       "1"
      ]
     },
     "execution_count": 54,
     "metadata": {},
     "output_type": "execute_result"
    }
   ],
   "source": [
    "#Returns the index or position of an item in a list\n",
    "list_of_animals = ['cat', 'dog', 'rabbit','owl','lion']\n",
    "list_of_animals.index('dog')"
   ]
  },
  {
   "cell_type": "code",
   "execution_count": 55,
   "id": "2c248b44",
   "metadata": {},
   "outputs": [
    {
     "data": {
      "text/plain": [
       "1"
      ]
     },
     "execution_count": 55,
     "metadata": {},
     "output_type": "execute_result"
    }
   ],
   "source": [
    "# Search for dog in a range from index 0 to index 2\n",
    "list_of_animals.index('dog',0,2)"
   ]
  },
  {
   "cell_type": "code",
   "execution_count": 56,
   "id": "b2b8213f",
   "metadata": {},
   "outputs": [],
   "source": [
    "#To clear and remove the whole list, we use the clear() method.\n",
    "list_of_animals = ['cat', 'dog', 'rabbit','owl','lion']\n",
    "list_of_animals.clear()"
   ]
  },
  {
   "cell_type": "code",
   "execution_count": 57,
   "id": "1eb3da13",
   "metadata": {},
   "outputs": [
    {
     "data": {
      "text/plain": [
       "[]"
      ]
     },
     "execution_count": 57,
     "metadata": {},
     "output_type": "execute_result"
    }
   ],
   "source": [
    "list_of_animals"
   ]
  },
  {
   "cell_type": "code",
   "execution_count": 58,
   "id": "83b1d0ff",
   "metadata": {},
   "outputs": [
    {
     "data": {
      "text/plain": [
       "['cat', 'dog', 'rabbit', 'owl', 'lion']"
      ]
     },
     "execution_count": 58,
     "metadata": {},
     "output_type": "execute_result"
    }
   ],
   "source": [
    "#Copy method return a copy of the list to another list.\n",
    "list_of_animals = ['cat', 'dog', 'rabbit','owl','lion']\n",
    "list_of_animals2 = list_of_animals.copy()\n",
    "list_of_animals2"
   ]
  },
  {
   "cell_type": "code",
   "execution_count": null,
   "id": "dbefa5b4",
   "metadata": {},
   "outputs": [],
   "source": []
  }
 ],
 "metadata": {
  "kernelspec": {
   "display_name": "Python 3 (ipykernel)",
   "language": "python",
   "name": "python3"
  },
  "language_info": {
   "codemirror_mode": {
    "name": "ipython",
    "version": 3
   },
   "file_extension": ".py",
   "mimetype": "text/x-python",
   "name": "python",
   "nbconvert_exporter": "python",
   "pygments_lexer": "ipython3",
   "version": "3.9.7"
  }
 },
 "nbformat": 4,
 "nbformat_minor": 5
}

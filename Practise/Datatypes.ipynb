{
 "cells": [
  {
   "cell_type": "markdown",
   "id": "db5adb60",
   "metadata": {},
   "source": [
    "#### Booleans"
   ]
  },
  {
   "cell_type": "code",
   "execution_count": 1,
   "id": "a3c5d4fa",
   "metadata": {},
   "outputs": [
    {
     "name": "stdout",
     "output_type": "stream",
     "text": [
      "True\n"
     ]
    }
   ],
   "source": [
    "#logical values and returns True or False\n",
    "print(1==1)"
   ]
  },
  {
   "cell_type": "code",
   "execution_count": 2,
   "id": "64745a3c",
   "metadata": {},
   "outputs": [
    {
     "name": "stdout",
     "output_type": "stream",
     "text": [
      "False\n"
     ]
    }
   ],
   "source": [
    "print(1==2)"
   ]
  },
  {
   "cell_type": "code",
   "execution_count": 3,
   "id": "5c310e18",
   "metadata": {},
   "outputs": [
    {
     "name": "stdout",
     "output_type": "stream",
     "text": [
      "True\n"
     ]
    }
   ],
   "source": [
    "print(1<2)"
   ]
  },
  {
   "cell_type": "markdown",
   "id": "09ffa02d",
   "metadata": {},
   "source": [
    "#### Integers and Float"
   ]
  },
  {
   "cell_type": "code",
   "execution_count": 4,
   "id": "c763493a",
   "metadata": {},
   "outputs": [
    {
     "name": "stdout",
     "output_type": "stream",
     "text": [
      "<class 'int'>\n",
      "<class 'float'>\n"
     ]
    }
   ],
   "source": [
    "x=20\n",
    "y=20.5\n",
    "print(type(x))\n",
    "print(type(y))"
   ]
  },
  {
   "cell_type": "code",
   "execution_count": 7,
   "id": "c1774609",
   "metadata": {},
   "outputs": [
    {
     "data": {
      "text/plain": [
       "2"
      ]
     },
     "execution_count": 7,
     "metadata": {},
     "output_type": "execute_result"
    }
   ],
   "source": [
    "1+1"
   ]
  },
  {
   "cell_type": "code",
   "execution_count": 8,
   "id": "385ff952",
   "metadata": {},
   "outputs": [
    {
     "data": {
      "text/plain": [
       "1"
      ]
     },
     "execution_count": 8,
     "metadata": {},
     "output_type": "execute_result"
    }
   ],
   "source": [
    "2-1"
   ]
  },
  {
   "cell_type": "code",
   "execution_count": 9,
   "id": "6b1043f7",
   "metadata": {},
   "outputs": [
    {
     "data": {
      "text/plain": [
       "6"
      ]
     },
     "execution_count": 9,
     "metadata": {},
     "output_type": "execute_result"
    }
   ],
   "source": [
    "3*2"
   ]
  },
  {
   "cell_type": "code",
   "execution_count": 10,
   "id": "dadfba8a",
   "metadata": {},
   "outputs": [
    {
     "data": {
      "text/plain": [
       "4.0"
      ]
     },
     "execution_count": 10,
     "metadata": {},
     "output_type": "execute_result"
    }
   ],
   "source": [
    "8/2"
   ]
  },
  {
   "cell_type": "code",
   "execution_count": 11,
   "id": "104634eb",
   "metadata": {},
   "outputs": [
    {
     "data": {
      "text/plain": [
       "3"
      ]
     },
     "execution_count": 11,
     "metadata": {},
     "output_type": "execute_result"
    }
   ],
   "source": [
    "7%4"
   ]
  },
  {
   "cell_type": "code",
   "execution_count": 12,
   "id": "b401c3ba",
   "metadata": {},
   "outputs": [
    {
     "data": {
      "text/plain": [
       "16"
      ]
     },
     "execution_count": 12,
     "metadata": {},
     "output_type": "execute_result"
    }
   ],
   "source": [
    "4**2"
   ]
  },
  {
   "cell_type": "markdown",
   "id": "8b8df506",
   "metadata": {},
   "source": [
    "#### String"
   ]
  },
  {
   "cell_type": "code",
   "execution_count": 13,
   "id": "ce3de9ff",
   "metadata": {},
   "outputs": [
    {
     "name": "stdout",
     "output_type": "stream",
     "text": [
      "Welcome\n"
     ]
    }
   ],
   "source": [
    "my_string='Welcome'\n",
    "print(my_string)"
   ]
  },
  {
   "cell_type": "code",
   "execution_count": 14,
   "id": "af41c637",
   "metadata": {},
   "outputs": [
    {
     "name": "stdout",
     "output_type": "stream",
     "text": [
      "Hello, welcome to my world\n"
     ]
    }
   ],
   "source": [
    "print(\"\"\"Hello, welcome to my world\"\"\")"
   ]
  },
  {
   "cell_type": "code",
   "execution_count": 17,
   "id": "9cd64075",
   "metadata": {},
   "outputs": [
    {
     "name": "stdout",
     "output_type": "stream",
     "text": [
      "Magnimind offers you to wide variety of courses provided by \n",
      "top-notch data scientist\n"
     ]
    }
   ],
   "source": [
    "#triple quotes is that it allows us to type multiple lines of sentence that we cannot do in single or double quotes.\n",
    "print(\"\"\"Magnimind offers you to wide variety of courses provided by \n",
    "top-notch data scientist\"\"\")"
   ]
  },
  {
   "cell_type": "code",
   "execution_count": 19,
   "id": "98108c5e",
   "metadata": {},
   "outputs": [
    {
     "name": "stdout",
     "output_type": "stream",
     "text": [
      "apple  &  banana\n"
     ]
    }
   ],
   "source": [
    "fruit1 = \"apple\"\n",
    "fruit2 = \"banana\"\n",
    "print(fruit1, \" & \",fruit2 )"
   ]
  },
  {
   "cell_type": "code",
   "execution_count": 25,
   "id": "e33333c0",
   "metadata": {},
   "outputs": [],
   "source": [
    "#indexing- grab a single character from that string"
   ]
  },
  {
   "cell_type": "code",
   "execution_count": 20,
   "id": "42ef4c6e",
   "metadata": {},
   "outputs": [
    {
     "name": "stdout",
     "output_type": "stream",
     "text": [
      "Hello \n",
      " World\n"
     ]
    }
   ],
   "source": [
    "# Print new line\n",
    "print(\"Hello \\n World\")"
   ]
  },
  {
   "cell_type": "code",
   "execution_count": 21,
   "id": "04b8306c",
   "metadata": {},
   "outputs": [
    {
     "data": {
      "text/plain": [
       "6"
      ]
     },
     "execution_count": 21,
     "metadata": {},
     "output_type": "execute_result"
    }
   ],
   "source": [
    "len('python')"
   ]
  },
  {
   "cell_type": "code",
   "execution_count": 22,
   "id": "34cb6247",
   "metadata": {},
   "outputs": [
    {
     "data": {
      "text/plain": [
       "'t'"
      ]
     },
     "execution_count": 22,
     "metadata": {},
     "output_type": "execute_result"
    }
   ],
   "source": [
    "str=\"python\"\n",
    "str[2]"
   ]
  },
  {
   "cell_type": "code",
   "execution_count": 23,
   "id": "37d42243",
   "metadata": {},
   "outputs": [
    {
     "data": {
      "text/plain": [
       "'p'"
      ]
     },
     "execution_count": 23,
     "metadata": {},
     "output_type": "execute_result"
    }
   ],
   "source": [
    "str[0]"
   ]
  },
  {
   "cell_type": "code",
   "execution_count": 24,
   "id": "43051a4a",
   "metadata": {},
   "outputs": [
    {
     "data": {
      "text/plain": [
       "'n'"
      ]
     },
     "execution_count": 24,
     "metadata": {},
     "output_type": "execute_result"
    }
   ],
   "source": [
    "str[-1]"
   ]
  },
  {
   "cell_type": "markdown",
   "id": "b3e43add",
   "metadata": {},
   "source": [
    "###### Slicing is different from indexing because, in slicing, you want to grab multiple characters of a string. We do that by using the square brackets with this syntax [start:stop: step].\n",
    "\n",
    "- Start: is the start of the index to start slicing from.\n",
    "\n",
    "- Stop : is the index that you'll go upto but it's not included.\n",
    "\n",
    "- Step : is the size of steps it takes between the charachters. "
   ]
  },
  {
   "cell_type": "code",
   "execution_count": 26,
   "id": "8cc8e949",
   "metadata": {},
   "outputs": [
    {
     "data": {
      "text/plain": [
       "'Intro'"
      ]
     },
     "execution_count": 26,
     "metadata": {},
     "output_type": "execute_result"
    }
   ],
   "source": [
    "str2=\"Intro to python\"\n",
    "str2[0:5]"
   ]
  },
  {
   "cell_type": "code",
   "execution_count": 27,
   "id": "781fb627",
   "metadata": {},
   "outputs": [
    {
     "data": {
      "text/plain": [
       "'to python'"
      ]
     },
     "execution_count": 27,
     "metadata": {},
     "output_type": "execute_result"
    }
   ],
   "source": [
    "str2[6:]"
   ]
  },
  {
   "cell_type": "code",
   "execution_count": 28,
   "id": "45b77117",
   "metadata": {},
   "outputs": [
    {
     "data": {
      "text/plain": [
       "'Intro'"
      ]
     },
     "execution_count": 28,
     "metadata": {},
     "output_type": "execute_result"
    }
   ],
   "source": [
    "str2[:5]"
   ]
  },
  {
   "cell_type": "code",
   "execution_count": 29,
   "id": "b0c49230",
   "metadata": {},
   "outputs": [
    {
     "data": {
      "text/plain": [
       "'Itot yhn'"
      ]
     },
     "execution_count": 29,
     "metadata": {},
     "output_type": "execute_result"
    }
   ],
   "source": [
    "str2[::2]#Grab everything from the begining to the end with jumps of 2."
   ]
  },
  {
   "cell_type": "markdown",
   "id": "74bcc3b6",
   "metadata": {},
   "source": [
    "##### immutability\n",
    "The immutability of string is that you can't change a character from a string. "
   ]
  },
  {
   "cell_type": "code",
   "execution_count": 30,
   "id": "706c36c8",
   "metadata": {},
   "outputs": [
    {
     "ename": "TypeError",
     "evalue": "'str' object does not support item assignment",
     "output_type": "error",
     "traceback": [
      "\u001b[1;31m---------------------------------------------------------------------------\u001b[0m",
      "\u001b[1;31mTypeError\u001b[0m                                 Traceback (most recent call last)",
      "\u001b[1;32m~\\AppData\\Local\\Temp/ipykernel_4656/1039331088.py\u001b[0m in \u001b[0;36m<module>\u001b[1;34m\u001b[0m\n\u001b[0;32m      1\u001b[0m \u001b[0mname\u001b[0m\u001b[1;33m=\u001b[0m\u001b[1;34m'john'\u001b[0m\u001b[1;33m\u001b[0m\u001b[1;33m\u001b[0m\u001b[0m\n\u001b[1;32m----> 2\u001b[1;33m \u001b[0mname\u001b[0m\u001b[1;33m[\u001b[0m\u001b[1;36m0\u001b[0m\u001b[1;33m]\u001b[0m\u001b[1;33m=\u001b[0m\u001b[1;34m'k'\u001b[0m\u001b[1;33m\u001b[0m\u001b[1;33m\u001b[0m\u001b[0m\n\u001b[0m",
      "\u001b[1;31mTypeError\u001b[0m: 'str' object does not support item assignment"
     ]
    }
   ],
   "source": [
    "name='john'\n",
    "name[0]='k'"
   ]
  },
  {
   "cell_type": "code",
   "execution_count": 31,
   "id": "0e111b1b",
   "metadata": {},
   "outputs": [
    {
     "data": {
      "text/plain": [
       "'HelloWorld'"
      ]
     },
     "execution_count": 31,
     "metadata": {},
     "output_type": "execute_result"
    }
   ],
   "source": [
    "#concatenate strings \n",
    "x=\"Hello\"\n",
    "y=\"World\"\n",
    "z = x + y\n",
    "z"
   ]
  },
  {
   "cell_type": "code",
   "execution_count": 32,
   "id": "167489b1",
   "metadata": {},
   "outputs": [
    {
     "data": {
      "text/plain": [
       "'Hello World'"
      ]
     },
     "execution_count": 32,
     "metadata": {},
     "output_type": "execute_result"
    }
   ],
   "source": [
    "x + ' ' + y"
   ]
  },
  {
   "cell_type": "code",
   "execution_count": 33,
   "id": "2f6e9655",
   "metadata": {},
   "outputs": [
    {
     "data": {
      "text/plain": [
       "'23'"
      ]
     },
     "execution_count": 33,
     "metadata": {},
     "output_type": "execute_result"
    }
   ],
   "source": [
    "'2' + '3'"
   ]
  },
  {
   "cell_type": "code",
   "execution_count": 35,
   "id": "f2de8b26",
   "metadata": {},
   "outputs": [
    {
     "data": {
      "text/plain": [
       "'hellohellohello'"
      ]
     },
     "execution_count": 35,
     "metadata": {},
     "output_type": "execute_result"
    }
   ],
   "source": [
    "x=\"hello\"\n",
    "x*3"
   ]
  },
  {
   "cell_type": "code",
   "execution_count": 36,
   "id": "3bee6c88",
   "metadata": {},
   "outputs": [
    {
     "name": "stdout",
     "output_type": "stream",
     "text": [
      "Intro to python\n"
     ]
    }
   ],
   "source": [
    "#string formatting\n",
    "print(\"Intro to {}\".format(\"python\"))"
   ]
  },
  {
   "cell_type": "code",
   "execution_count": 37,
   "id": "958eb4b9",
   "metadata": {},
   "outputs": [
    {
     "name": "stdout",
     "output_type": "stream",
     "text": [
      "Intro to python\n"
     ]
    }
   ],
   "source": [
    "#print by defaukt order\n",
    "print(\"{} {} {}\".format(\"Intro\",\"to\",\"python\"))"
   ]
  },
  {
   "cell_type": "code",
   "execution_count": 38,
   "id": "5f090b68",
   "metadata": {},
   "outputs": [
    {
     "name": "stdout",
     "output_type": "stream",
     "text": [
      "python to Intro\n"
     ]
    }
   ],
   "source": [
    "#print by string index\n",
    "print(\"{2} {1} {0}\".format(\"Intro\",\"to\",\"python\"))"
   ]
  },
  {
   "cell_type": "code",
   "execution_count": 39,
   "id": "61ac5ff2",
   "metadata": {},
   "outputs": [
    {
     "name": "stdout",
     "output_type": "stream",
     "text": [
      "Intro to python\n"
     ]
    }
   ],
   "source": [
    "# Print using keys\n",
    "print('{I} {T} {P}'.format(I='Intro',T='to',P='python'))"
   ]
  },
  {
   "cell_type": "code",
   "execution_count": 40,
   "id": "1b2627cf",
   "metadata": {},
   "outputs": [
    {
     "name": "stdout",
     "output_type": "stream",
     "text": [
      "{} Intro to python\n"
     ]
    }
   ],
   "source": [
    "#print using variable\n",
    "str3=\"Intro to python\"\n",
    "print(\"{}\",format(str3))"
   ]
  },
  {
   "cell_type": "markdown",
   "id": "a0439b3e",
   "metadata": {},
   "source": [
    "##### f-strings\n",
    "F-strings is simply injecting variables strings in the curly braces without the .format method"
   ]
  },
  {
   "cell_type": "code",
   "execution_count": 41,
   "id": "2ce3f52d",
   "metadata": {},
   "outputs": [
    {
     "name": "stdout",
     "output_type": "stream",
     "text": [
      "johndoe\n"
     ]
    }
   ],
   "source": [
    "first=\"john\"\n",
    "last=\"doe\"\n",
    "print(f'{first}{last}')"
   ]
  },
  {
   "cell_type": "markdown",
   "id": "9309c20b",
   "metadata": {},
   "source": [
    "##### capitalize\n",
    "#Capitalize the first letter in string 'name'"
   ]
  },
  {
   "cell_type": "code",
   "execution_count": 42,
   "id": "f9258874",
   "metadata": {},
   "outputs": [
    {
     "data": {
      "text/plain": [
       "'John'"
      ]
     },
     "execution_count": 42,
     "metadata": {},
     "output_type": "execute_result"
    }
   ],
   "source": [
    "first.capitalize()"
   ]
  },
  {
   "cell_type": "code",
   "execution_count": 44,
   "id": "ecab09f6",
   "metadata": {},
   "outputs": [
    {
     "data": {
      "text/plain": [
       "'JOHN'"
      ]
     },
     "execution_count": 44,
     "metadata": {},
     "output_type": "execute_result"
    }
   ],
   "source": [
    "str_upper = first.upper()\n",
    "str_upper"
   ]
  },
  {
   "cell_type": "code",
   "execution_count": 45,
   "id": "50b4738e",
   "metadata": {},
   "outputs": [
    {
     "data": {
      "text/plain": [
       "'john'"
      ]
     },
     "execution_count": 45,
     "metadata": {},
     "output_type": "execute_result"
    }
   ],
   "source": [
    "str_upper.lower()"
   ]
  },
  {
   "cell_type": "markdown",
   "id": "5cb88eaf",
   "metadata": {},
   "source": [
    "##### split \n",
    "What split does is that it splits all the words in a string into a list (we'll talk about later). By default it splits every word after each white space."
   ]
  },
  {
   "cell_type": "code",
   "execution_count": 46,
   "id": "13f7abe1",
   "metadata": {},
   "outputs": [
    {
     "data": {
      "text/plain": [
       "['john', 'doe']"
      ]
     },
     "execution_count": 46,
     "metadata": {},
     "output_type": "execute_result"
    }
   ],
   "source": [
    "name =\"john doe\"\n",
    "name=name.split(\" \")\n",
    "name"
   ]
  },
  {
   "cell_type": "code",
   "execution_count": 48,
   "id": "36fa78c9",
   "metadata": {},
   "outputs": [
    {
     "data": {
      "text/plain": [
       "['Welcome to our course', ' Today we are going to discuss strings']"
      ]
     },
     "execution_count": 48,
     "metadata": {},
     "output_type": "execute_result"
    }
   ],
   "source": [
    "sentence = \"Welcome to our course. Today we are going to discuss strings\"\n",
    "sentence=sentence.split('.')\n",
    "sentence"
   ]
  },
  {
   "cell_type": "code",
   "execution_count": 49,
   "id": "73db13b1",
   "metadata": {},
   "outputs": [
    {
     "data": {
      "text/plain": [
       "['john', 'doe']"
      ]
     },
     "execution_count": 49,
     "metadata": {},
     "output_type": "execute_result"
    }
   ],
   "source": [
    "name =\"john,doe\"\n",
    "name=name.split(\",\")\n",
    "name"
   ]
  },
  {
   "cell_type": "code",
   "execution_count": 51,
   "id": "6fd95914",
   "metadata": {},
   "outputs": [
    {
     "data": {
      "text/plain": [
       "7"
      ]
     },
     "execution_count": 51,
     "metadata": {},
     "output_type": "execute_result"
    }
   ],
   "source": [
    "#Count how many times letter 'o' appeared\n",
    "name=\"jooohn dooooe\"\n",
    "name.count(\"o\")"
   ]
  },
  {
   "cell_type": "code",
   "execution_count": 54,
   "id": "aada4ef7",
   "metadata": {},
   "outputs": [
    {
     "data": {
      "text/plain": [
       "3"
      ]
     },
     "execution_count": 54,
     "metadata": {},
     "output_type": "execute_result"
    }
   ],
   "source": [
    "#Find position of letter 'h'\n",
    "name =\"john\"\n",
    "name.find(\"n\")"
   ]
  },
  {
   "cell_type": "code",
   "execution_count": 55,
   "id": "71e9f82e",
   "metadata": {},
   "outputs": [
    {
     "data": {
      "text/plain": [
       "2"
      ]
     },
     "execution_count": 55,
     "metadata": {},
     "output_type": "execute_result"
    }
   ],
   "source": [
    "#Find position of letter 'h'\n",
    "name =\"john\"\n",
    "name.index(\"h\")"
   ]
  },
  {
   "cell_type": "code",
   "execution_count": 56,
   "id": "1750ff01",
   "metadata": {},
   "outputs": [
    {
     "data": {
      "text/plain": [
       "'Hello'"
      ]
     },
     "execution_count": 56,
     "metadata": {},
     "output_type": "execute_result"
    }
   ],
   "source": [
    "# Remove extra white spaces from the whole string\n",
    "name= \" Hello \"\n",
    "name.strip()"
   ]
  },
  {
   "cell_type": "code",
   "execution_count": 58,
   "id": "44bf9d87",
   "metadata": {},
   "outputs": [
    {
     "data": {
      "text/plain": [
       "'Hello'"
      ]
     },
     "execution_count": 58,
     "metadata": {},
     "output_type": "execute_result"
    }
   ],
   "source": [
    "# rstrip to remove white spaces from the right\n",
    "name = \"  Hello\"\n",
    "name.lstrip()"
   ]
  },
  {
   "cell_type": "code",
   "execution_count": 59,
   "id": "8a1a3c48",
   "metadata": {},
   "outputs": [
    {
     "data": {
      "text/plain": [
       "'uohn'"
      ]
     },
     "execution_count": 59,
     "metadata": {},
     "output_type": "execute_result"
    }
   ],
   "source": [
    "# Replace letter 'j' with 'u'\n",
    "name=\"john\"\n",
    "name.replace('j','u')"
   ]
  },
  {
   "cell_type": "code",
   "execution_count": 60,
   "id": "d45a91ab",
   "metadata": {},
   "outputs": [
    {
     "data": {
      "text/plain": [
       "'mark doe'"
      ]
     },
     "execution_count": 60,
     "metadata": {},
     "output_type": "execute_result"
    }
   ],
   "source": [
    "# Replace letter 'john' with 'mark'\n",
    "name = \"john doe\"\n",
    "name.replace('john','mark')"
   ]
  }
 ],
 "metadata": {
  "kernelspec": {
   "display_name": "Python 3 (ipykernel)",
   "language": "python",
   "name": "python3"
  },
  "language_info": {
   "codemirror_mode": {
    "name": "ipython",
    "version": 3
   },
   "file_extension": ".py",
   "mimetype": "text/x-python",
   "name": "python",
   "nbconvert_exporter": "python",
   "pygments_lexer": "ipython3",
   "version": "3.9.7"
  }
 },
 "nbformat": 4,
 "nbformat_minor": 5
}
